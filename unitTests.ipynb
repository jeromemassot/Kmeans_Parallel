{
 "cells": [
  {
   "cell_type": "code",
   "execution_count": 6,
   "metadata": {
    "collapsed": false
   },
   "outputs": [
    {
     "name": "stdout",
     "output_type": "stream",
     "text": [
      "Overwriting test_distance_sq.py\n"
     ]
    }
   ],
   "source": [
    "%%file test_distance_sq.py\n",
    "import numpy as np\n",
    "from numpy.testing import assert_almost_equal\n",
    "from kmeans_combined import dist_sq\n",
    "\n",
    "def test_non_negativity():\n",
    "    for i in range(10):\n",
    "        u = np.random.normal(3)\n",
    "        v = np.random.normal(3)\n",
    "        assert dist_sq(u, v) >= 0\n",
    "\n",
    "def test_coincidence_when_zero():\n",
    "    u = np.zeros(3)\n",
    "    v = np.zeros(3)\n",
    "    assert dist_sq(u, v) == 0\n",
    "\n",
    "def test_coincidence_when_not_zero():\n",
    "     for i in range(10):\n",
    "        u = np.random.random(3)\n",
    "        v = np.zeros(3)\n",
    "        assert dist_sq(u, v) != 0\n",
    "\n",
    "def test_symmetry():\n",
    "    for i in range(10):\n",
    "        u = np.random.random(3)\n",
    "        v = np.random.random(3)\n",
    "        assert dist_sq(u, v) == dist_sq(v, u)\n",
    "\n",
    "def test_triangle():\n",
    "    u = np.random.random(3)\n",
    "    v = np.random.random(3)\n",
    "    w = np.random.random(3)\n",
    "    assert dist_sq(u, w) <= dist_sq(u, v) + dist_sq(v, w)\n",
    "\n",
    "def test_known1():\n",
    "    u = np.array([0])\n",
    "    v = np.array([3])\n",
    "    assert_almost_equal(dist_sq(u, v), 9)\n",
    "\n",
    "def test_known2():\n",
    "    u = np.array([0,0])\n",
    "    v = np.array([3, 4])\n",
    "    assert_almost_equal(dist_sq(u, v), 25)\n",
    "\n",
    "def test_known3():\n",
    "    u = np.array([0,0])\n",
    "    v = np.array([-3, -4])\n",
    "    assert_almost_equal(dist_sq(u, v), 25)"
   ]
  },
  {
   "cell_type": "code",
   "execution_count": 7,
   "metadata": {
    "collapsed": false
   },
   "outputs": [
    {
     "name": "stdout",
     "output_type": "stream",
     "text": [
      "\u001b[1m============================= test session starts ==============================\u001b[0m\n",
      "platform darwin -- Python 3.5.1, pytest-2.8.1, py-1.4.30, pluggy-0.3.1\n",
      "rootdir: /Users/Reubenm/Documents/Sta663/Sta663_Final_Project, inifile: \n",
      "collected 8 items \n",
      "\u001b[0m\n",
      "test_distance_sq.py ........\n",
      "\n",
      "\u001b[32m\u001b[1m=========================== 8 passed in 0.59 seconds ===========================\u001b[0m\n"
     ]
    }
   ],
   "source": [
    "! py.test"
   ]
  },
  {
   "cell_type": "code",
   "execution_count": null,
   "metadata": {
    "collapsed": true
   },
   "outputs": [],
   "source": []
  }
 ],
 "metadata": {
  "kernelspec": {
   "display_name": "Python 3",
   "language": "python",
   "name": "python3"
  },
  "language_info": {
   "codemirror_mode": {
    "name": "ipython",
    "version": 3
   },
   "file_extension": ".py",
   "mimetype": "text/x-python",
   "name": "python",
   "nbconvert_exporter": "python",
   "pygments_lexer": "ipython3",
   "version": "3.5.1"
  }
 },
 "nbformat": 4,
 "nbformat_minor": 0
}
