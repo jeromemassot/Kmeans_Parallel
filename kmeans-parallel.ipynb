{
 "cells": [
  {
   "cell_type": "code",
   "execution_count": 1,
   "metadata": {
    "collapsed": true
   },
   "outputs": [],
   "source": [
    "#distance square\n",
    "def dist_sq(a, b):\n",
    "    return np.sum((a-b)**2)\n",
    "#distance square for every point to the centroid\n",
    "def point_sq(data,index):\n",
    "    Dist=list()\n",
    "    for i in range(data.shape[0]):\n",
    "        Dist.append(dist_sq(data.ix[index],data.ix[i]))\n",
    "    return Dist\n",
    "#distance probability\n",
    "def dist_prob(Dist,l):\n",
    "    return (l*Dist/np.sum(np.array(Dist)))\n"
   ]
  },
  {
   "cell_type": "code",
   "execution_count": 3,
   "metadata": {
    "collapsed": true
   },
   "outputs": [],
   "source": [
    "def kmeansparallel(data, k, l, d):\n",
    "    centroid=np.zeros([k,d])\n",
    "    index=np.random.choice(data.shape[0],1)\n",
    "    cost=np.sum(point_sq(data,index))\n",
    "    iteration=round(l*np.log(cost))\n",
    "    centroid[0]=data.ix[index]\n",
    "    for number in range(iteration):\n",
    "        distance=point_sq(data,index)\n",
    "        prob=dist_prob(distance,l).tolist()\n",
    "        index=np.random.choice(data.shape[0],1,prob)\n",
    "        centroid[number+1]=data.ix[index]\n",
    "    "
   ]
  },
  {
   "cell_type": "code",
   "execution_count": 13,
   "metadata": {
    "collapsed": false
   },
   "outputs": [],
   "source": [
    "#test \n",
    "data=DataFrame([np.random.random(5000),np.random.random(5000)]).transpose()\n"
   ]
  },
  {
   "cell_type": "code",
   "execution_count": 14,
   "metadata": {
    "collapsed": false
   },
   "outputs": [
    {
     "data": {
      "text/plain": [
       "7.0"
      ]
     },
     "execution_count": 14,
     "metadata": {},
     "output_type": "execute_result"
    }
   ],
   "source": [
    "index=np.random.choice(data.shape[0],1)\n",
    "cost=point_sq(data,index)\n",
    "round(np.log(np.sum(cost)))"
   ]
  },
  {
   "cell_type": "code",
   "execution_count": null,
   "metadata": {
    "collapsed": true
   },
   "outputs": [],
   "source": []
  }
 ],
 "metadata": {
  "kernelspec": {
   "display_name": "Python 3",
   "language": "python",
   "name": "python3"
  },
  "language_info": {
   "codemirror_mode": {
    "name": "ipython",
    "version": 3
   },
   "file_extension": ".py",
   "mimetype": "text/x-python",
   "name": "python",
   "nbconvert_exporter": "python",
   "pygments_lexer": "ipython3",
   "version": "3.5.1"
  }
 },
 "nbformat": 4,
 "nbformat_minor": 0
}
