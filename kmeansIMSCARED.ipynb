{
 "cells": [
  {
   "cell_type": "code",
   "execution_count": 19,
   "metadata": {
    "collapsed": false
   },
   "outputs": [],
   "source": [
    "from __future__ import division\n",
    "import os\n",
    "import numpy as np\n",
    "import pandas as pd\n",
    "\n",
    "##distance square function - we don't need the square root so we can save computation time\n",
    "# euclidean distance\n",
    "def dist_sq(a, b, axis = 0):\n",
    "    return np.sum((a-b)**2,axis)\n",
    "\n",
    "##cost function\n",
    "# Version 1 - 2 list comprehension, no broadcasting\n",
    "# def cost(c,data):\n",
    "#     return np.sum([min([euclidean(d,s) for s in c])**2 for d in data])\n",
    "\n",
    "# Version 2 - 1 list comprehension and one broadcasting\n",
    "def cost(c,data):\n",
    "    return np.sum([min(dist_sq(c, d, axis = 1)) for d in data])\n",
    "\n",
    "#sampling probability function\n",
    "# Version 1 - 2 list comprehension, no broadcasting\n",
    "# def smpl_prb(c,data,l):\n",
    "#     phi_temp = cost(c,data)\n",
    "#     return np.array([(min([euclidean(d,s) for s in c])**2)*l/phi_temp for d in data])\n",
    "\n",
    "# Version 2 - 1 list comprehension, 1 broadcasting\n",
    "def smpl_prb(c,data,l):\n",
    "    phi_temp = cost(c,data)\n",
    "    return np.array([(min(dist_sq(c, d, axis = 1)))*l/phi_temp for d in data])\n",
    "\n",
    "\n",
    "#weight function - propotional to the number of data points have the same specific center\n",
    "def weight_func(c, data):\n",
    "    # Find the closet point in c for each point in data\n",
    "    # Version 1 - 2 list comprehension, no broadcasting\n",
    "    # min_c = [np.argmin([euclidean(d,s) for s in c]) for d in data];\n",
    "    # Version 2 - 1 list comprehension, 1 broadcasting\n",
    "    min_c = [np.argmin(dist_sq(c, d, axis = 1)) for d in data];\n",
    "    ## number of points which is closest to each s in c\n",
    "    num_closest = np.array([min_c.count(i) for i in range(len(c))]).astype(float);\n",
    "    ## return normalized weight\n",
    "    return num_closest/np.sum(num_closest)\n",
    "\n",
    "\n",
    "#Kmeans||\n",
    "#l is oversampling factor\n",
    "\n",
    "def KmeansParallel_IMSCARED(n_clusters, data, l):\n",
    "    if n_clusters <= 0 or not(isinstance(n_clusters,int)):\n",
    "        sys.exit(\"n_cluster is not positive integer\")\n",
    "    \n",
    "    if l <= 0: \n",
    "        sys.exit(\"l is not positive\")\n",
    "    \n",
    "    if len(data) < n_clusters: \n",
    "        sys.exit(\"number of data is less than n_clusters\")\n",
    "    \n",
    "    num = len(data)\n",
    "    \n",
    "    #Step 1 - uniformly sample one point\n",
    "    c = np.array(data[np.random.choice(range(num),1),])\n",
    "    \n",
    "    #Step 2 - cost\n",
    "    phi = cost(c,data)\n",
    "    \n",
    "    #Step 3~6 - get potential centers\n",
    "    for i in range(np.ceil(np.log(phi)).astype(int)):\n",
    "        c_add = data[smpl_prb(c,data,l)>np.random.uniform(size = num),]\n",
    "        c = np.concatenate((c,c_add))\n",
    "        \n",
    "    #Step 7\n",
    "    # Find the closet point in c for each point in data\n",
    "    ##weight\n",
    "    weight = weight_func(c, data)\n",
    "    \n",
    "    #Step 8 - recluster by kmeans++ initialization\n",
    "    c_final = data[np.random.choice(range(len(c)),size=1,p=weight),]\n",
    "    data_final = c\n",
    "    for i in range(n_clusters-1):\n",
    "        new_prb = smpl_prb(c_final,data_final,l) * weight\n",
    "        c_fin_add = data[np.random.choice(range(len(c)),size=1,p=new_prb/np.sum(new_prb)),]\n",
    "        c_final = np.concatenate((c_final,c_fin_add))\n",
    "    return c_final"
   ]
  },
  {
   "cell_type": "code",
   "execution_count": 6,
   "metadata": {
    "collapsed": false
   },
   "outputs": [],
   "source": [
    "from simulatedData import generate_data"
   ]
  },
  {
   "cell_type": "code",
   "execution_count": 14,
   "metadata": {
    "collapsed": true
   },
   "outputs": [],
   "source": [
    "test_data = generate_data(4, 100, 2, 10000)"
   ]
  },
  {
   "cell_type": "code",
   "execution_count": 46,
   "metadata": {
    "collapsed": false
   },
   "outputs": [],
   "source": [
    "test_clus = KmeansParallel_IMSCARED(4, test_data, 10)"
   ]
  },
  {
   "cell_type": "code",
   "execution_count": 47,
   "metadata": {
    "collapsed": false
   },
   "outputs": [
    {
     "data": {
      "text/plain": [
       "array([[ -7.31024213,  -2.54772572],\n",
       "       [ 14.59470402, -10.94906936],\n",
       "       [ -7.41863026,  -3.05813811],\n",
       "       [  1.03119969,  12.61962436]])"
      ]
     },
     "execution_count": 47,
     "metadata": {},
     "output_type": "execute_result"
    }
   ],
   "source": [
    "x = test_clus[:,0]\n",
    "y = test_clus[:,1]\n",
    "test_clus"
   ]
  },
  {
   "cell_type": "code",
   "execution_count": 48,
   "metadata": {
    "collapsed": false
   },
   "outputs": [
    {
     "data": {
      "image/png": "[encoded data removed]",
      "text/plain": [
       "<matplotlib.figure.Figure at 0x11aaae0f0>"
      ]
     },
     "metadata": {},
     "output_type": "display_data"
    }
   ],
   "source": [
    "plt.figure()\n",
    "plt.scatter(test_data[:,0], test_data[:,1], cmap='Accent')\n",
    "plt.scatter(x, y, s=40, marker=\"o\", c=\"yellow\")\n",
    "plt.title(\"HELP ME\")\n",
    "pass"
   ]
  },
  {
   "cell_type": "code",
   "execution_count": null,
   "metadata": {
    "collapsed": true
   },
   "outputs": [],
   "source": [
    "p"
   ]
  }
 ],
 "metadata": {
  "kernelspec": {
   "display_name": "Python 3",
   "language": "python",
   "name": "python3"
  },
  "language_info": {
   "codemirror_mode": {
    "name": "ipython",
    "version": 3
   },
   "file_extension": ".py",
   "mimetype": "text/x-python",
   "name": "python",
   "nbconvert_exporter": "python",
   "pygments_lexer": "ipython3",
   "version": "3.5.1"
  }
 },
 "nbformat": 4,
 "nbformat_minor": 0
}
