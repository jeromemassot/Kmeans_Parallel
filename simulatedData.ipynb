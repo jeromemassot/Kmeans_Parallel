{
 "cells": [
  {
   "cell_type": "markdown",
   "metadata": {},
   "source": [
    "To generate the dataset,\n",
    "we sampled k centers from a 15-dimensional spherical Gaussian\n",
    "distribution with mean at the origin and variance R ∈\n",
    "{1, 10, 100}. We then added points from Gaussian distributions\n",
    "of unit variance around each center. Given the k centers,\n",
    "this is a mixture of k spherical Gaussians with equal\n",
    "weights. Note that the Gaussians are separated in terms\n",
    "of probability mass — even if only marginally for the case\n",
    "R = 1 — and therefore the value of the optimal k-clustering\n",
    "can be well approximated using the centers of these Gaussians.\n",
    "The number of sampled points from this mixture of\n",
    "Gaussians is n = 10, 000."
   ]
  },
  {
   "cell_type": "code",
   "execution_count": 90,
   "metadata": {
    "collapsed": false
   },
   "outputs": [],
   "source": [
    "def generate_centers(k, var):\n",
    "    \"\"\"Generate k centers from 15-dimensional spherical Gaussian distribution with the given variance\"\"\"\n",
    "    centers = np.random.multivariate_normal(np.zeros(15),  np.eye(15)*var, k)\n",
    "    return centers"
   ]
  },
  {
   "cell_type": "code",
   "execution_count": 91,
   "metadata": {
    "collapsed": false
   },
   "outputs": [],
   "source": [
    "k = 14\n",
    "var = 1\n",
    "def generate_data(k, var):\n",
    "    \"\"\"Generate data points around each center such that there are 10,000 data points total including the centers?\n",
    "    This could also be 10000 data points total plus the centers if this is better? Just chance the -k in \n",
    "    the sampData line\"\"\"\n",
    "    # generate centers\n",
    "    centers = generate_centers(k, var)\n",
    "    # array to store points #\n",
    "    points = np.empty([1,15])\n",
    "    # generate data around each center\n",
    "    for i in range(k):\n",
    "        points = np.concatenate((points, np.random.multivariate_normal(centers[i],np.eye(15),10000)), axis=0)\n",
    "        points = np.delete(points, 0, axis=0)\n",
    "    # sample points from array and combine these with centers\n",
    "    sampData = np.concatenate((centers, points[np.random.choice(len(points),10000-k)]), axis = 0)\n",
    "    return(sampData)"
   ]
  },
  {
   "cell_type": "code",
   "execution_count": 92,
   "metadata": {
    "collapsed": false
   },
   "outputs": [
    {
     "data": {
      "text/plain": [
       "10000"
      ]
     },
     "execution_count": 92,
     "metadata": {},
     "output_type": "execute_result"
    }
   ],
   "source": [
    "dataTest = generate_data(5, 1)\n",
    "len(dataTest)"
   ]
  },
  {
   "cell_type": "code",
   "execution_count": 93,
   "metadata": {
    "collapsed": false
   },
   "outputs": [
    {
     "data": {
      "text/plain": [
       "array([[ 0.34490313,  1.47640722, -0.20479856, ..., -0.56374699,\n",
       "        -0.01397683,  1.49461564],\n",
       "       [-0.32598796, -0.43453512, -0.23719422, ..., -0.55597661,\n",
       "         0.24658277, -0.82942036],\n",
       "       [ 0.31392337,  0.0368712 , -2.21039736, ...,  0.42039907,\n",
       "        -1.51546845,  0.19296565],\n",
       "       ..., \n",
       "       [ 1.21763086,  0.53358594, -2.00541523, ...,  1.22377932,\n",
       "         0.41006048,  1.31794368],\n",
       "       [ 1.05810912,  0.09729648, -1.46184221, ..., -0.17054119,\n",
       "        -0.29209923,  2.13367009],\n",
       "       [ 0.76427846,  1.69106403,  1.00217724, ...,  0.23424215,\n",
       "        -0.11713696,  2.39725367]])"
      ]
     },
     "execution_count": 93,
     "metadata": {},
     "output_type": "execute_result"
    }
   ],
   "source": [
    "dataTest"
   ]
  },
  {
   "cell_type": "code",
   "execution_count": null,
   "metadata": {
    "collapsed": true
   },
   "outputs": [],
   "source": []
  }
 ],
 "metadata": {
  "kernelspec": {
   "display_name": "Python 3",
   "language": "python",
   "name": "python3"
  },
  "language_info": {
   "codemirror_mode": {
    "name": "ipython",
    "version": 3
   },
   "file_extension": ".py",
   "mimetype": "text/x-python",
   "name": "python",
   "nbconvert_exporter": "python",
   "pygments_lexer": "ipython3",
   "version": "3.5.1"
  }
 },
 "nbformat": 4,
 "nbformat_minor": 0
}
