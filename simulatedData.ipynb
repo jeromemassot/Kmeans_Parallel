{
 "cells": [
  {
   "cell_type": "markdown",
   "metadata": {},
   "source": [
    "To generate the dataset,\n",
    "we sampled k centers from a 15-dimensional spherical Gaussian\n",
    "distribution with mean at the origin and variance R ∈\n",
    "{1, 10, 100}. We then added points from Gaussian distributions\n",
    "of unit variance around each center. Given the k centers,\n",
    "this is a mixture of k spherical Gaussians with equal\n",
    "weights. Note that the Gaussians are separated in terms\n",
    "of probability mass — even if only marginally for the case\n",
    "R = 1 — and therefore the value of the optimal k-clustering\n",
    "can be well approximated using the centers of these Gaussians.\n",
    "The number of sampled points from this mixture of\n",
    "Gaussians is n = 10, 000."
   ]
  },
  {
   "cell_type": "code",
   "execution_count": 30,
   "metadata": {
    "collapsed": false
   },
   "outputs": [],
   "source": [
    "import numpy as np\n",
    "\n",
    "# set seed for reproducibility\n",
    "random.seed(32)\n",
    "\n",
    "def generate_centers(k):\n",
    "    centers = np.random.multivariate_normal(np.zeros(3), np.diag([1,10,100]), 15)\n",
    "    np.random.choice(15,k)"
   ]
  },
  {
   "cell_type": "code",
   "execution_count": 31,
   "metadata": {
    "collapsed": false
   },
   "outputs": [
    {
     "data": {
      "text/plain": [
       "array([[ -2.62251364e-01,   8.43656616e-01,  -3.59994200e+00],\n",
       "       [  2.53195738e+00,  -2.36599949e-01,  -3.52094291e-02],\n",
       "       [ -2.17745148e+00,   3.12235513e+00,   3.52283014e+00],\n",
       "       [  9.85814957e-01,   9.70029529e-01,  -8.10019608e+00],\n",
       "       [  3.42590673e-03,  -7.17527977e-01,   8.67566742e+00],\n",
       "       [ -1.59181199e+00,  -2.63702478e+00,  -1.08461825e+00],\n",
       "       [  9.87587805e-01,   3.82798317e+00,   4.46275567e+00],\n",
       "       [ -1.34889572e-02,  -3.35257440e+00,  -5.41527795e+00],\n",
       "       [ -3.99020331e-01,  -2.14017494e+00,  -6.39296095e-01],\n",
       "       [ -1.25787285e+00,   1.29478903e+00,   1.34554986e+01],\n",
       "       [ -7.97133808e-01,  -8.91329540e-01,   1.35703106e+01],\n",
       "       [ -1.68848014e+00,  -7.66819444e-01,  -4.40453648e+00],\n",
       "       [ -7.15118849e-01,   5.03423950e-01,  -2.11608656e+01],\n",
       "       [  2.17070497e+00,   9.65989965e-01,  -8.65649896e+00],\n",
       "       [  2.22413610e+00,   8.79741755e-01,   2.62617606e+01]])"
      ]
     },
     "execution_count": 31,
     "metadata": {},
     "output_type": "execute_result"
    }
   ],
   "source": [
    "centers"
   ]
  },
  {
   "cell_type": "code",
   "execution_count": 29,
   "metadata": {
    "collapsed": false
   },
   "outputs": [
    {
     "data": {
      "text/plain": [
       "array([[[  0.43387802,   7.25897066,  -1.44260759]],\n",
       "\n",
       "       [[  0.08159853,  -2.39327496,   2.19609665]],\n",
       "\n",
       "       [[  0.40639646,   0.96428445,   9.99638836]],\n",
       "\n",
       "       [[  0.7704129 ,   4.2346255 ,   5.45951871]],\n",
       "\n",
       "       [[ -0.92421298,   1.03898274,   4.70485861]],\n",
       "\n",
       "       [[ -0.88257616,  -2.07448594,   0.5058403 ]],\n",
       "\n",
       "       [[  0.94098671,   4.47660333,   3.57814525]],\n",
       "\n",
       "       [[ -0.95855138,   1.47136699,   3.68004695]],\n",
       "\n",
       "       [[  0.1729685 ,  -4.76029432, -10.85346022]],\n",
       "\n",
       "       [[ -0.65620002,  -0.17559846, -17.87834667]],\n",
       "\n",
       "       [[ -0.69984991,  -8.13246316,  -6.01123626]],\n",
       "\n",
       "       [[  0.82311887,   1.60215511,   5.03396403]],\n",
       "\n",
       "       [[ -0.48529512,   1.20757485,   9.62045815]],\n",
       "\n",
       "       [[ -0.80178343,   0.39530069,  -0.92428857]],\n",
       "\n",
       "       [[ -0.2252069 ,   5.92212844,   8.76841758]]])"
      ]
     },
     "execution_count": 29,
     "metadata": {},
     "output_type": "execute_result"
    }
   ],
   "source": [
    "np.random.multivariate_normal(np.zeros(3), np.diag([1,10,100]), (15,1))"
   ]
  },
  {
   "cell_type": "code",
   "execution_count": null,
   "metadata": {
    "collapsed": true
   },
   "outputs": [],
   "source": []
  }
 ],
 "metadata": {
  "kernelspec": {
   "display_name": "Python 3",
   "language": "python",
   "name": "python3"
  },
  "language_info": {
   "codemirror_mode": {
    "name": "ipython",
    "version": 3
   },
   "file_extension": ".py",
   "mimetype": "text/x-python",
   "name": "python",
   "nbconvert_exporter": "python",
   "pygments_lexer": "ipython3",
   "version": "3.5.1"
  }
 },
 "nbformat": 4,
 "nbformat_minor": 0
}
