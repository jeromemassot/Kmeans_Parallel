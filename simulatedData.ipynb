{
 "cells": [
  {
   "cell_type": "markdown",
   "metadata": {},
   "source": [
    "To generate the dataset,\n",
    "we sampled k centers from a 15-dimensional spherical Gaussian\n",
    "distribution with mean at the origin and variance R ∈\n",
    "{1, 10, 100}. We then added points from Gaussian distributions\n",
    "of unit variance around each center. Given the k centers,\n",
    "this is a mixture of k spherical Gaussians with equal\n",
    "weights. Note that the Gaussians are separated in terms\n",
    "of probability mass — even if only marginally for the case\n",
    "R = 1 — and therefore the value of the optimal k-clustering\n",
    "can be well approximated using the centers of these Gaussians.\n",
    "The number of sampled points from this mixture of\n",
    "Gaussians is n = 10, 000."
   ]
  },
  {
   "cell_type": "code",
   "execution_count": 35,
   "metadata": {
    "collapsed": false
   },
   "outputs": [],
   "source": [
    "import numpy as np\n",
    "\n",
    "def generate_centers(k, var):\n",
    "    \"\"\"generate k centers from 15-dimensional spherical Gaussian distribution with the given variance\"\"\"\n",
    "    centers = np.random.multivariate_normal(np.zeros(15),  np.eye(15)*var, k)\n",
    "    return centers"
   ]
  },
  {
   "cell_type": "code",
   "execution_count": 50,
   "metadata": {
    "collapsed": false
   },
   "outputs": [
    {
     "data": {
      "text/plain": [
       "array([-1.64019059,  2.95516057, -0.84902415,  0.39978204, -0.75684547,\n",
       "        0.92141417, -0.36110127,  0.42137634,  2.34458034, -0.2474532 ,\n",
       "        0.30578145,  0.24456234, -0.29499231, -0.11605867,  1.20579865])"
      ]
     },
     "execution_count": 50,
     "metadata": {},
     "output_type": "execute_result"
    }
   ],
   "source": [
    "c=generate_centers(1,1)"
   ]
  },
  {
   "cell_type": "code",
   "execution_count": 60,
   "metadata": {
    "collapsed": false
   },
   "outputs": [
    {
     "name": "stdout",
     "output_type": "stream",
     "text": [
      "0\n",
      "1\n",
      "2\n",
      "3\n",
      "4\n",
      "5\n",
      "6\n",
      "7\n",
      "8\n",
      "9\n",
      "10\n",
      "11\n",
      "12\n",
      "13\n",
      "14\n"
     ]
    }
   ],
   "source": [
    "k = 15\n",
    "def generate_data(k, var):\n",
    "# generate centers\n",
    "centers = np.random.multivariate_normal(np.zeros(15),  np.eye(15)*var, k)\n",
    "# generate data from each cluster\n",
    "for i in range(k):\n",
    "    np.random.multivariate_normal(c[k],np.eye(15),k)"
   ]
  },
  {
   "cell_type": "code",
   "execution_count": null,
   "metadata": {
    "collapsed": true
   },
   "outputs": [],
   "source": []
  }
 ],
 "metadata": {
  "kernelspec": {
   "display_name": "Python 3",
   "language": "python",
   "name": "python3"
  },
  "language_info": {
   "codemirror_mode": {
    "name": "ipython",
    "version": 3
   },
   "file_extension": ".py",
   "mimetype": "text/x-python",
   "name": "python",
   "nbconvert_exporter": "python",
   "pygments_lexer": "ipython3",
   "version": "3.5.1"
  }
 },
 "nbformat": 4,
 "nbformat_minor": 0
}
