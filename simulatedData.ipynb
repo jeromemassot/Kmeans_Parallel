{
 "cells": [
  {
   "cell_type": "markdown",
   "metadata": {},
   "source": [
    "To generate the dataset,\n",
    "we sampled k centers from a 15-dimensional spherical Gaussian\n",
    "distribution with mean at the origin and variance R ∈\n",
    "{1, 10, 100}. We then added points from Gaussian distributions\n",
    "of unit variance around each center. Given the k centers,\n",
    "this is a mixture of k spherical Gaussians with equal\n",
    "weights. Note that the Gaussians are separated in terms\n",
    "of probability mass — even if only marginally for the case\n",
    "R = 1 — and therefore the value of the optimal k-clustering\n",
    "can be well approximated using the centers of these Gaussians.\n",
    "The number of sampled points from this mixture of\n",
    "Gaussians is n = 10, 000."
   ]
  },
  {
   "cell_type": "code",
   "execution_count": 1,
   "metadata": {
    "collapsed": false
   },
   "outputs": [
    {
     "name": "stdout",
     "output_type": "stream",
     "text": [
      "Overwriting simulatedData.py\n"
     ]
    }
   ],
   "source": [
    "%%file simulatedData.py\n",
    "import numpy as np\n",
    "def generate_centers(k, var):\n",
    "    \"\"\"Generate k centers from 15-dimensional spherical Gaussian distribution with the given variance\"\"\"\n",
    "    centers = np.random.multivariate_normal(np.zeros(15),  np.eye(15)*var, k)\n",
    "    return centers\n",
    "\n",
    "def generate_data(k, var):\n",
    "    \"\"\"Generate data points around each center such that there are 10,000 data points total including the centers?\n",
    "    This could also be 10000 data points total plus the centers if this is better? Just chance the -k in \n",
    "    the sampData line\"\"\"\n",
    "    # generate centers\n",
    "    centers = generate_centers(k, var)\n",
    "    # array to store points #\n",
    "    points = np.empty([1,15])\n",
    "    # generate data around each center\n",
    "    for i in range(k):\n",
    "        points = np.concatenate((points, np.random.multivariate_normal(centers[i],np.eye(15),10000)), axis=0)\n",
    "        points = np.delete(points, 0, axis=0)\n",
    "    # sample points from array and combine these with centers\n",
    "    sampData = np.concatenate((centers, points[np.random.choice(len(points),10000-k)]), axis = 0)\n",
    "    return(sampData)"
   ]
  },
  {
   "cell_type": "code",
   "execution_count": 3,
   "metadata": {
    "collapsed": false
   },
   "outputs": [
    {
     "data": {
      "text/plain": [
       "10000"
      ]
     },
     "execution_count": 3,
     "metadata": {},
     "output_type": "execute_result"
    }
   ],
   "source": [
    "import simulatedData\n",
    "from simulatedData import generate_data\n",
    "dataTest = generate_data(5, 1)\n",
    "len(dataTest)"
   ]
  },
  {
   "cell_type": "code",
   "execution_count": 4,
   "metadata": {
    "collapsed": false
   },
   "outputs": [
    {
     "data": {
      "text/plain": [
       "array([[ 0.094245  ,  1.24473561, -1.47416355, ..., -0.44821048,\n",
       "         1.07509292,  1.23586155],\n",
       "       [-0.00389113,  1.93824107,  1.29914844, ..., -0.21635323,\n",
       "         0.52604057, -0.26825916],\n",
       "       [ 0.89306542,  0.29696635,  0.58920778, ..., -1.85260025,\n",
       "        -0.53139692, -0.03838707],\n",
       "       ..., \n",
       "       [ 0.25025571,  0.39828788,  1.19196379, ..., -1.63085116,\n",
       "        -0.33179029, -0.58100716],\n",
       "       [-0.77403546,  2.55487751, -2.87273788, ...,  0.31526968,\n",
       "        -1.15896694,  0.32706329],\n",
       "       [-1.03579483,  1.41657981, -1.47368661, ..., -1.10863183,\n",
       "        -0.0482546 , -0.08539769]])"
      ]
     },
     "execution_count": 4,
     "metadata": {},
     "output_type": "execute_result"
    }
   ],
   "source": [
    "dataTest"
   ]
  },
  {
   "cell_type": "code",
   "execution_count": null,
   "metadata": {
    "collapsed": true
   },
   "outputs": [],
   "source": []
  }
 ],
 "metadata": {
  "kernelspec": {
   "display_name": "Python 3",
   "language": "python",
   "name": "python3"
  },
  "language_info": {
   "codemirror_mode": {
    "name": "ipython",
    "version": 3
   },
   "file_extension": ".py",
   "mimetype": "text/x-python",
   "name": "python",
   "nbconvert_exporter": "python",
   "pygments_lexer": "ipython3",
   "version": "3.5.1"
  }
 },
 "nbformat": 4,
 "nbformat_minor": 0
}
