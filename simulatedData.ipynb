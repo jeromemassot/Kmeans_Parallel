{
 "cells": [
  {
   "cell_type": "markdown",
   "metadata": {},
   "source": [
    "To generate the dataset,\n",
    "we sampled k centers from a 15-dimensional spherical Gaussian\n",
    "distribution with mean at the origin and variance R ∈\n",
    "{1, 10, 100}. We then added points from Gaussian distributions\n",
    "of unit variance around each center. Given the k centers,\n",
    "this is a mixture of k spherical Gaussians with equal\n",
    "weights. Note that the Gaussians are separated in terms\n",
    "of probability mass — even if only marginally for the case\n",
    "R = 1 — and therefore the value of the optimal k-clustering\n",
    "can be well approximated using the centers of these Gaussians.\n",
    "The number of sampled points from this mixture of\n",
    "Gaussians is n = 10, 000."
   ]
  },
  {
   "cell_type": "code",
   "execution_count": null,
   "metadata": {
    "collapsed": true
   },
   "outputs": [],
   "source": [
    "%%file simulatedData.py\n",
    "\n",
    "import os\n",
    "import numpy as np\n",
    "import pandas as pd\n",
    "import random\n",
    "\n",
    "# set seed for reproducibility\n",
    "random.seed(32)\n",
    "\n",
    "#Data simulation - mixture of 3 binary normal distribution\n",
    "##distribution mean & covariance\n",
    "mean1 = np.array([3,5])\n",
    "mean2 = np.array([-2,3])\n",
    "mean3 = np.array([-6,-1])\n",
    "cov1 = np.array([[1,0],[0,2]])\n",
    "cov2 = np.array([[1,-0.6],[-0.6,1]])\n",
    "cov3 = np.array([[3,0.3],[0.3,1]])\n",
    "\n",
    "n = 2000\n",
    "N = 3*n\n",
    "data = np.vstack((np.random.multivariate_normal(mean1, cov1,n),np.random.multivariate_normal(mean2, cov2,n),\n",
    "                  np.random.multivariate_normal(mean3, cov3,n)))\n",
    "data = data[np.random.choice(range(N),size = N, replace=False),]\n",
    "df = pd.DataFrame(data,columns=[\"X\",\"Y\"])\n",
    "df.index = pd.Index(range(N))\n",
    "\n",
    "#Save simluated data as csv file\n",
    "df.to_csv('SimData.csv', index=False)"
   ]
  }
 ],
 "metadata": {
  "kernelspec": {
   "display_name": "Python 3",
   "language": "python",
   "name": "python3"
  },
  "language_info": {
   "codemirror_mode": {
    "name": "ipython",
    "version": 3
   },
   "file_extension": ".py",
   "mimetype": "text/x-python",
   "name": "python",
   "nbconvert_exporter": "python",
   "pygments_lexer": "ipython3",
   "version": "3.5.1"
  }
 },
 "nbformat": 4,
 "nbformat_minor": 0
}
