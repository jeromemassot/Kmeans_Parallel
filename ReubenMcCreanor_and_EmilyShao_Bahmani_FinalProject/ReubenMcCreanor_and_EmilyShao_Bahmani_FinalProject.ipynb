{
 "cells": [
  {
   "cell_type": "markdown",
   "metadata": {},
   "source": [
    "---------------------------------------------------"
   ]
  },
  {
   "cell_type": "markdown",
   "metadata": {},
   "source": [
    "<h1 style=\"text-align: center;\" markdown=\"1\">Big Data, Big Problems–Parallelizing Kmeans</h1>"
   ]
  },
  {
   "cell_type": "markdown",
   "metadata": {},
   "source": [
    "-----------"
   ]
  },
  {
   "cell_type": "markdown",
   "metadata": {},
   "source": [
    "<center> **Reuben McCreanor and Emily (Wei) Shao** <center>"
   ]
  },
  {
   "cell_type": "markdown",
   "metadata": {},
   "source": [
    "<h3 style=\"text-align: center;\" markdown=\"1\">Abstract</h3>"
   ]
  },
  {
   "cell_type": "markdown",
   "metadata": {},
   "source": [
    "K-means is a data-partitioning algorithm that separates n observations into k partitions. Due to its simplicity of implementation, its easy interpretability, and its ability to categorize data based on desired features, it remains one of the most popular algorithms in fields of statistics and machine learning. However, the key issue with k-means comes from its efficiency and scalability. As the size of datasets continues to increase, implementing k-means on data of any magnitude becomes computationally infeasible. A recently proposed variation of k-means, k-means++, provides a robust method of selecting the initial centers, essentially giving an optimal solution. However, due to the number of passes over the data required in a naive implementation, even clusters a million data points into 100 partitions would be exceedingly slow. In order to combat this, a parallelized version of k-means++ is proposed, k-means $||$. This version uses an over-sampling factor $\\ell$ to dramatically reduce the number of passes while still arriving at an equivalent solution of partitions. This paper will implement k-means++ and k-means$||$ in both sequential and parallel setting and compare the results both in terms of efficiency and equivalency of partition arrangements."
   ]
  },
  {
   "cell_type": "markdown",
   "metadata": {},
   "source": [
    "### 1 Introduction"
   ]
  },
  {
   "cell_type": "markdown",
   "metadata": {},
   "source": [
    "In general, clustering is a means of grouping observations into a set such that the other observations in this set are more similar to each other than to those in other sets. Starting with a data set, we use the use the k-means algorithm to define which observations are most similar to each other, and thus categorize these n observations into k distinct groups."
   ]
  },
  {
   "cell_type": "code",
   "execution_count": 2,
   "metadata": {
    "collapsed": false
   },
   "outputs": [
    {
     "data": {
      "image/png": "[encoded data removed]",
      "text/plain": [
       "<matplotlib.figure.Figure at 0x1171189e8>"
      ]
     },
     "execution_count": 2,
     "metadata": {},
     "output_type": "execute_result"
    }
   ],
   "source": [
    "fig"
   ]
  },
  {
   "cell_type": "markdown",
   "metadata": {},
   "source": [
    "In the example above, we can observe that data can be clustered into three partitions based on the similarity between observations. In industry, a common application of clusters is in market segmentation. Taking the example of a retailer, k-means clustering can be used as a means to understand their total addressable market. Given that their total market is comprised of people from many different incomes, locations, and type of consumers, clustering allows them to understand which groups are most similar based on these attributes and thus designing targeted marketing campaigns for each distinct group."
   ]
  },
  {
   "cell_type": "markdown",
   "metadata": {},
   "source": [
    "With these kinds of applications, k-means is both a useful and wide-reaching algorithm, however, there are two key issues with its implementation. In general, the k-means algorithm works by taking some initial centroid locations, often done by picking points at random from that data set. Each observation is then assignment the closest centroid and then the centroids are recomputed by calculating the mean of the observations assigned to it. This process is repeated until the algorithm converges, which is often measured define as none of observations changing cluster assignments within an iteration."
   ]
  },
  {
   "cell_type": "markdown",
   "metadata": {},
   "source": [
    "The key issue with this process is that the overall clustering assignment is heavily dependent on the initial centroids. Given that the k-means algorithm often gets stuck in local minima, it does not make sense to simply randomly pick the initial centroids. K-mean++ provides a solution to this problem by selecting centroids at the beginning of the process that approximate the optimal solution. "
   ]
  },
  {
   "cell_type": "markdown",
   "metadata": {},
   "source": [
    "In terms of the quality and consistency of the clustering arrangements, k-means++ is a remarkable solution. However, because the process involves looping through multiple centroid configurations in order to find the optimal one, this solution is not scalable for large data sets. To solve this problem, the k-means$||$ algorithm uses a sampling factor $\\ell$ to dramatically reduce the number of passes while still arriving at an equivalent solution. The k-means$||$ algorithm is able to obtain a close to optimal solution after a logarithmic number of passes. This dramatically increases the efficiency of the algorithm and allows us to implement an optimal version of k-means clustering even of large data sets."
   ]
  },
  {
   "cell_type": "markdown",
   "metadata": {},
   "source": [
    "### 2 K-means++"
   ]
  },
  {
   "cell_type": "markdown",
   "metadata": {},
   "source": [
    "#### 2.1 Overview"
   ]
  },
  {
   "cell_type": "markdown",
   "metadata": {},
   "source": [
    "The k-means++ algorithm addresses the problem of suboptimal clustering arrangements by creating a procedure with which to select the inital cluster centers.  With the k-means++ initialization, we are guaranteed to find a solution that is $O(\\log k)$ competitive to the optimal k-means solution.\n",
    "\n",
    "In k-means++, the centers are first chosen uniformly at random from the observations. Then, each subsequent cluster center is chosen from the remaining data points with probability proportional to its squared distance from the point's closest existing cluster center. The intuition behind this approach is that spreading out the k initial cluster centers is a good thing, and this approach allows us to choose inital center points that are not only consistent, but approximate the optimal solution. After this point we can then proceed with the standard approach for k-means clustering."
   ]
  },
  {
   "cell_type": "markdown",
   "metadata": {},
   "source": [
    "#### 2.2 Pseudo code"
   ]
  },
  {
   "cell_type": "markdown",
   "metadata": {},
   "source": [
    "Step 1: \n",
    "\n",
    "$\\textit{C}$ $\\leftarrow$ Sample a point uniformly at random from dataset X to form initial centroids;\n",
    "\n",
    "Step 2-4: \n",
    "\n",
    "For j in range(k-1):\n",
    "    \n",
    "  a. Compute square distance: $d^2(x,C)=min||x-c_i||^2$ for $i=1,2...n$, with n=number of data points in X;\n",
    "\n",
    "  b. Compute sampling probability for each point in X with probability= $\\frac{d^2(x,C)}{\\phi(X(c))}$, where $\\phi(X(c))=\\sum_{x\\in X}d^2(x,C)$;\n",
    "  \n",
    "  c. Sample x $\\in$ X with probability= $\\frac{d^2(x,C)}{\\phi(X(c))}$;\n",
    "  \n",
    "  d. Include x as one of the initial centroids $\\textit{C}$ $\\leftarrow$ $\\textit{C} \\cup \\{x\\}$ ;\n",
    "\n",
    "Step 5: \n",
    "\n",
    "End loop after the initial centroids are chosen. \n",
    "\n",
    "\n"
   ]
  },
  {
   "cell_type": "markdown",
   "metadata": {},
   "source": [
    "#### 2.3 Implementation"
   ]
  },
  {
   "cell_type": "code",
   "execution_count": 77,
   "metadata": {
    "collapsed": true
   },
   "outputs": [],
   "source": [
    "import numpy as np\n",
    "import pandas as pd\n",
    "from pandas import DataFrame\n",
    "import math, random\n",
    "\n",
    "#distance square\n",
    "def dist_sq(a, b):\n",
    "    '''\n",
    "    calculate the distance square for array a and b\n",
    "    \n",
    "    Parameters\n",
    "    -------\n",
    "    a: np.array() with shape=[1,d]\n",
    "    b: np.array() with shape=[1,d]\n",
    "    \n",
    "    Returns\n",
    "    -------\n",
    "    distance (a float number)\n",
    "    '''\n",
    "    return np.sum((a-b)**2)\n",
    "\n",
    "\n",
    "#minimum distance square for every point to the centroid\n",
    "def point_sq(data,centroid):\n",
    "    \n",
    "    '''\n",
    "    calculate the square distance for each point in the dataset to its closest centroid\n",
    "    \n",
    "    Parameters\n",
    "    -------\n",
    "    data: np.array() with shape=[number of observations in data,d]\n",
    "    centroid: np.array() with shape=[number of centroids,d]\n",
    "    \n",
    "    Returns\n",
    "    -------\n",
    "    a list of square distance for each data point in the dataset (length=number of observations)\n",
    "    '''\n",
    "    dist=[min(dist_sq(d,c) for c in centroid) for d in data]\n",
    "    return dist\n",
    "        \n",
    "#calculate probability\n",
    "def dist_prob_plus(Dist):\n",
    "    '''\n",
    "    calculate the probability for each number in the list of distances\n",
    "    \n",
    "    Parameters\n",
    "    -------\n",
    "    Dist: a list of distances\n",
    "    \n",
    "    Returns\n",
    "    -------\n",
    "    a list of probabilities with length equal to the length of original list\n",
    "    '''   \n",
    "    return Dist/np.sum(Dist)\n",
    "\n",
    "def kmeansplusplus(data, k, d):\n",
    "    '''\n",
    "    return the initial chosen centroids for the kmeans algorithm\n",
    "    \n",
    "    Parameters\n",
    "    -------\n",
    "    data: a numpy array with shape=[number of observations, d]\n",
    "    d: dimension of the data (an integer)\n",
    "    k: number of clusters (an integer)\n",
    "    \n",
    "    Returns\n",
    "    -------\n",
    "    a numpy array with shape=[k,d]\n",
    "    ''' \n",
    "    random.seed(22)\n",
    "    #make a copy of the data\n",
    "    data_copy=data.copy()\n",
    "    #step 1: sample a point uniformly at random from x\n",
    "    index=int(np.random.choice(data_copy.shape[0],1))\n",
    "    centroid=data_copy[index]\n",
    "    #once the centroid is determined, delete it from the copy \n",
    "    data_copy=np.delete(data_copy,index,axis=0)\n",
    "    #step 2: while c<k, sample x from X with probability d^2/phi_x(C)\n",
    "    for number in range(k-1):\n",
    "        #calculate the square difference for every point in the copy to its nearest center\n",
    "        distance=point_sq(data_copy,centroid)\n",
    "        #calculate the probability\n",
    "        prob=dist_prob_plus(distance).tolist()\n",
    "        #randomly sample another centroid\n",
    "        index=int(np.random.choice(data_copy.shape[0],1,prob))\n",
    "        #add the new centroid\n",
    "        centroid=np.vstack([centroid,data_copy[index]])\n",
    "        #delete the new centroid from the copy\n",
    "        data_copy=np.delete(data_copy,index,axis=0)\n",
    "    return centroid"
   ]
  },
  {
   "cell_type": "markdown",
   "metadata": {},
   "source": [
    "### 3 K-means$||$"
   ]
  },
  {
   "cell_type": "markdown",
   "metadata": {},
   "source": [
    "#### 3.1 Overview"
   ]
  },
  {
   "cell_type": "markdown",
   "metadata": {},
   "source": [
    "While k-means++ provides an approximately optimal solution, it also needs k passes over the data and thus is not scalable to large data sets. To address this problem, k-means$||$ is a parallel version for initializing the centers for the k-means clustering method. "
   ]
  },
  {
   "cell_type": "markdown",
   "metadata": {},
   "source": [
    "The k-means$||$ algorithm is intuitively similar to k-means++ except that it uses of an oversampling factor $l = \\Omega(k)$, and some linear function of $k$. By instead using k-means$||$, we are able to obtain a nearly optimal solution after only a logarithmic number of passes. In  k-means$||$, we sample a point uniformly at random from our observations as an initial center and compute the cost of this clustering center. "
   ]
  },
  {
   "cell_type": "markdown",
   "metadata": {},
   "source": [
    "At each iteration, we then sample each observation in the data set with some probability, and update the given cluster set by adding the sampled points. According to the sampling probability, the expected number of points sampled in each iteration is $l$. Thus, finally the expected number of points we sampled is $l$log$\\psi$, which will be greater than k. Thus, finally, we reduce the number of centers and assign weights to the points in the current cluster according to the number of observations which are closer to the given center than any other center."
   ]
  },
  {
   "cell_type": "markdown",
   "metadata": {},
   "source": [
    "#### 3.2 Pseudo code"
   ]
  },
  {
   "cell_type": "markdown",
   "metadata": {},
   "source": [
    "Step 1: \n",
    "\n",
    "$\\textit{C}$ $\\leftarrow$ Sample a point uniformly at random from dataset X to form initial centroids;\n",
    "\n",
    "Step 2: \n",
    "\n",
    "a. Calculate initial cost $\\psi$ $\\leftarrow$ $\\phi(X(C))$, where $\\phi(X(c))=\\sum_{x\\in X}d^2(x,C)$\n",
    "\n",
    "b. Calculate number of iterations $O(log(\\psi))$= int$(log(\\psi))$;\n",
    "\n",
    "Step 3-6:\n",
    "\n",
    "a. for i in $O(log(\\psi))$ interations do\n",
    "\n",
    "b. $\\textit{C'}$ sample each point x $\\in$ X independently with probability $p_x=\\frac{ld^2(x,C)}{\\phi(x(c))}$ to form some initial centroids {C'}\n",
    "\n",
    "c. Include {C'} as potential initial centroids to C $\\textit{C}$ $\\leftarrow$ $\\textit{C} \\cup \\{C'\\}$ ;\n",
    "\n",
    "Step 7:\n",
    "\n",
    "Calculate the weight for each potential centroid in C by counting its occurence of being chosen as the closest centroid for the entire dataset X;\n",
    "\n",
    "Step 8:\n",
    "\n",
    "By normalizing the weights calculated from step 7, sample k clusters from the potential centroids C with the weighted probability.\n",
    "\n"
   ]
  },
  {
   "cell_type": "markdown",
   "metadata": {},
   "source": [
    "#### 3.3 Implementation"
   ]
  },
  {
   "cell_type": "code",
   "execution_count": 78,
   "metadata": {
    "collapsed": true
   },
   "outputs": [],
   "source": [
    "import numpy as np\n",
    "import pandas as pd\n",
    "from pandas import DataFrame\n",
    "import math\n",
    "\n",
    "#distance square\n",
    "def dist_sq(a, b):\n",
    "    '''\n",
    "    calculate the distance square for array a and b\n",
    "    \n",
    "    Parameters\n",
    "    -------\n",
    "    a: np.array() with shape=[1,d]\n",
    "    b: np.array() with shape=[1,d]\n",
    "    \n",
    "    Returns\n",
    "    -------\n",
    "    distance (a float number)\n",
    "    '''\n",
    "    return np.sum((a-b)**2)\n",
    "\n",
    "\n",
    "#minimum distance square for every point to the centroid\n",
    "def point_sq(data,centroid):\n",
    "    '''\n",
    "    calculate the square distance for each point in the dataset to its closest centroid\n",
    "    \n",
    "    Parameters\n",
    "    -------\n",
    "    data: np.array() with shape=[number of observations in data,d]\n",
    "    centroid: np.array() with shape=[number of centroids,d]\n",
    "    \n",
    "    Returns\n",
    "    -------\n",
    "    a list of square distance for each data point in the dataset (length=number of observations)\n",
    "    '''\n",
    "    \n",
    "    dist=[min(dist_sq(d,c) for c in centroid) for d in data]\n",
    "    return dist\n",
    "\n",
    "\n",
    "#calculate probability\n",
    "def dist_prob_parallel(Dist,l):\n",
    "    '''\n",
    "    calculate the probability for each number in the list of distances\n",
    "    \n",
    "    Parameters\n",
    "    -------\n",
    "    Dist: a list of distances\n",
    "    l: oversampling factor (an integer)\n",
    "    \n",
    "    Returns\n",
    "    -------\n",
    "    a list of probabilities with length equal to the length of original list\n",
    "    '''   \n",
    "    return l*Dist/np.sum(Dist)\n",
    "\n",
    "\n",
    "#step 2: calculate the cost and number of iterations(log(cost))\n",
    "def log_cost(data_copy,centroid):\n",
    "    '''\n",
    "    calculate number of iteration\n",
    "    \n",
    "    Parameters\n",
    "    -------\n",
    "    data_copy: a numpy array with shape=[number of observations in data_copy, d]\n",
    "    centroid: a numpy array with shape=[number of observations in centroid, d]\n",
    "    \n",
    "    Returns\n",
    "    -------\n",
    "    iteration (an integer)\n",
    "    '''   \n",
    "    cost=np.sum(point_sq(data_copy,centroid))\n",
    "    iteration=math.ceil(np.log(cost))\n",
    "    return iteration\n",
    "\n",
    "    \n",
    "#calculate weights\n",
    "#step 4: assign the weights\n",
    "def weight_prob(data_copy, centroid):\n",
    "    '''\n",
    "    calculate weights for each point in the centroid\n",
    "    \n",
    "    Parameters\n",
    "    -------\n",
    "    data_copy: a numpy array with shape=[number of observations in data_copy, d]\n",
    "    centroid: a numpy array with shape=[number of observations in centroid, d]\n",
    "    \n",
    "    Returns\n",
    "    -------\n",
    "    weights (a numpy array with length=number of observations in centroid)\n",
    "    ''' \n",
    "    weight=[np.argmin(list(dist_sq(d,c) for c in centroid)) for d in data_copy]\n",
    "    w=np.array([weight.count(i) for i in range(len(data_copy))])\n",
    "    return w\n",
    "\n",
    "\n",
    "\n",
    "#step 5: recluster the weighted points in C into k clusters\n",
    "#reinitialize k centroids\n",
    "def reassign_centroids(centroid,k,d,w):\n",
    "    '''\n",
    "    returns the initial centroids\n",
    "    \n",
    "    Parameters\n",
    "    -------\n",
    "    centroid: a numpy array with shape=[number of observations in centroid, d]\n",
    "    k=number of clusters\n",
    "    d=dimension of the dataset\n",
    "    w=weights calculated from the weight_prob function\n",
    "    \n",
    "    Returns\n",
    "    -------\n",
    "    new_centroids (a numpy array shape=[k,d])\n",
    "    ''' \n",
    "    new_centroid=np.zeros([k,d])\n",
    "    for cluster in range(k):\n",
    "        #according to the weights from step 4, calculate the probability that a point is sampled from C\n",
    "        prob_w=list(w/sum(w))\n",
    "        #sample a new centroid\n",
    "        new_index=np.random.choice(centroid.shape[0],1,prob_w)\n",
    "        #store the new centroid\n",
    "        new_centroid[cluster]=centroid[new_index]\n",
    "        #delete the new centroid from the centroid\n",
    "        centroid=np.delete(centroid,new_index,axis=0)\n",
    "        #delete the correponding weight\n",
    "        w=np.delete(w,new_index,axis=0)\n",
    "    return new_centroid\n",
    "\n",
    "\n",
    "def kmeansparallel(data, k, l, d, r):\n",
    "    '''\n",
    "    return the initial chosen centroids for the kmeans algorithm\n",
    "    \n",
    "    Parameters\n",
    "    -------\n",
    "    data: a numpy array with shape=[number of observations, d]\n",
    "    l: oversampling facter (an integer)\n",
    "    d: dimension of the data (an integer)\n",
    "    k: number of clusters (an integer)\n",
    "    r: number of rounds (an integer)\n",
    "    \n",
    "    Returns\n",
    "    -------\n",
    "    a numpy array with shape=[k,d]\n",
    "    ''' \n",
    "    random.seed(22)\n",
    "    #step 1: sample a point uniformly at random from X\n",
    "    index=int(np.random.choice(data.shape[0],1))\n",
    "    centroid=np.array(data[index])\n",
    "    data_copy=data.copy()\n",
    "    data_copy=np.delete(data_copy,index,axis=0)\n",
    "    \n",
    "    #step 2: calculate number of iteration\n",
    "    iteration= log_cost(data_copy,centroid)\n",
    "    \n",
    "    #step 3: Get initial Centroids C\n",
    "    for round in range(r):\n",
    "        for number in range(iteration):\n",
    "        #calculate phi_X(C)\n",
    "            distance=point_sq(data_copy,centroid)\n",
    "        #calculate the probability\n",
    "            prob=dist_prob_parallel(distance,l).tolist()\n",
    "            for n in range(data_copy.shape[0]):\n",
    "            #if the probability is greater than the random uniform\n",
    "                if prob[n]>np.random.uniform():\n",
    "                #add the point to C\n",
    "                    centroid=np.vstack([centroid,np.array(data_copy[n])])\n",
    "                #delete that point from the copy\n",
    "                    data_copy=np.delete(data_copy,n,axis=0)\n",
    "    \n",
    "    #step 4: calculate the weight probability\n",
    "    w=weight_prob(data_copy,centroid)\n",
    "    \n",
    "    #step 5: recluster the weighted points in C into k clusters\n",
    "    #reinitialize k centroids\n",
    "    new_centroids=reassign_centroids(centroid,k,d,w)\n",
    "    \n",
    "    return new_centroids\n"
   ]
  },
  {
   "cell_type": "markdown",
   "metadata": {},
   "source": [
    "### 4 K-means"
   ]
  },
  {
   "cell_type": "markdown",
   "metadata": {},
   "source": [
    "Rather than simply using the existing implementation of k-means available in the sklearn package, we instead wanted to fully understand the algorithm. In order to achieve this, we also coded a version of k-means that is used to cluster the initial centers points provided from both k-means++ and k-means$||$."
   ]
  },
  {
   "cell_type": "code",
   "execution_count": 63,
   "metadata": {
    "collapsed": true
   },
   "outputs": [],
   "source": [
    "#with the initialization of the centroids from the function kmeansplusplus\n",
    "#plug in the original data(dataSet), initializtions(initial) and the dimension of the data(d)\n",
    "def kmeans(dataSet, initial, k, d):\n",
    "    '''\n",
    "    return the final centroids and a label for each point in the dataset\n",
    "    \n",
    "    Parameters\n",
    "    -------\n",
    "    dataSet: a numpy array with shape=[number of observations, d]\n",
    "    initial: initial centroids chosen from kmeans++ or kmeans|| with shape=[k,d]\n",
    "    d: dimension of the data (an integer)\n",
    "    k: number of clusters (an integer)\n",
    "    \n",
    "    Returns\n",
    "    -------\n",
    "    final centroids with shape=[k,d]\n",
    "    labels[integers]: a numpy array with length=number of intergers\n",
    "    ''' \n",
    "    random.seed(22)\n",
    "    centroids=initial\n",
    "    # Initialize book keeping vars.\n",
    "    iterations = 0\n",
    "    oldCentroids = np.zeros(initial.shape)\n",
    "    \n",
    "    # Run the main k-means algorithm\n",
    "    while not shouldStop(oldCentroids, centroids, iterations):\n",
    "        # Save old centroids for convergence test. Book keeping.\n",
    "        oldCentroids = centroids\n",
    "        iterations += 1\n",
    "        \n",
    "        # Assign labels to each datapoint based on centroids\n",
    "        l= getLabels(dataSet, centroids)\n",
    "        \n",
    "        # Assign centroids based on datapoint labels\n",
    "        centroids = getCentroids(dataSet, l, k, d)\n",
    "        \n",
    "    # We can get the labels too by calling getLabels(dataSet, centroids)\n",
    "    return centroids, np.array(l)\n",
    "# Function: Should Stop\n",
    "# -------------\n",
    "# Returns True or False if k-means is done. K-means terminates either\n",
    "# because it has run a maximum number of iterations OR the centroids\n",
    "# stop changing.\n",
    "def shouldStop(oldCentroids, centroids, iterations):\n",
    "    '''\n",
    "    return True or False\n",
    "    \n",
    "    Parameters\n",
    "    -------\n",
    "    oldCentroids: a numpy array with shape=[k, d]\n",
    "    centroids: a numpy array with shape=[k, d]\n",
    "    iterations: an integer\n",
    "    \n",
    "    Returns\n",
    "    -------\n",
    "    True or False\n",
    "    ''' \n",
    "    \n",
    "    if iterations > 50: return True\n",
    "    return oldCentroids.all == centroids.all\n",
    "# Function: Get Labels\n",
    "# -------------\n",
    "# Returns a label for each piece of data in the dataset. \n",
    "def getLabels(dataSet, centroids):\n",
    "    # For each element in the dataset, chose the closest centroid. \n",
    "    # Make that centroid the element's label.\n",
    "    '''\n",
    "    return a list of labels\n",
    "    \n",
    "    Parameters\n",
    "    -------\n",
    "    dataSet: a numpy array with shape=[number of observations in the dataSet, d]\n",
    "    centroids: a numpy array with shape=[k, d]\n",
    "    \n",
    "    Returns\n",
    "    -------\n",
    "    a list of labels with length=number of observations in the dataSet\n",
    "    ''' \n",
    "    l=[np.argmin(list(dist_sq(d,c) for c in centroids)) for d in dataSet]\n",
    "    return l\n",
    "# Function: Get Centroids\n",
    "# -------------\n",
    "# Returns k random centroids, each of dimension n.\n",
    "def getCentroids(dataSet, labels, k, d):\n",
    "    '''\n",
    "    return a numpy array with shape=[k,d]\n",
    "    \n",
    "    Parameters\n",
    "    -------\n",
    "    dataSet: a numpy array with shape=[number of observations in the dataSet, d]\n",
    "    labels: a list of labels with length=number of observations in dataSet\n",
    "    k=number of clusters\n",
    "    d=dimension of dataSet\n",
    "    Returns\n",
    "    -------\n",
    "    centroids (a numpy array with shape=[k,d])\n",
    "    ''' \n",
    "    \n",
    "    # Each centroid is the arithmetic mean of the points that\n",
    "    # have that centroid's label.\n",
    "    data_new = DataFrame(dataSet.copy())\n",
    "    data_new['Labels'] = labels\n",
    "    data_new = np.array(data_new.groupby(['Labels']).mean().iloc[:,:d])\n",
    "  \n",
    "    return data_new\n"
   ]
  },
  {
   "cell_type": "markdown",
   "metadata": {},
   "source": [
    "### 5 Testing"
   ]
  },
  {
   "cell_type": "markdown",
   "metadata": {},
   "source": [
    "#### 5.1 Functions Testing"
   ]
  },
  {
   "cell_type": "markdown",
   "metadata": {},
   "source": [
    "a. test_distance_sq: testing if the distance is non-negative, testing the coincidences when the distance is zero and nonzero, testing if the function returns correct values given valid inputs."
   ]
  },
  {
   "cell_type": "markdown",
   "metadata": {},
   "source": [
    "b. test_point_sq: testing if the square distance is non-negative, testing the coincidences when the square distance is zero and nonzero, testing if the function returns correct values given valid inputs"
   ]
  },
  {
   "cell_type": "markdown",
   "metadata": {},
   "source": [
    "c. test_dist_prob_plus_parallel: testing if the probabilities sum to 1 and is non-negative for both k-means++ and k-means$||$"
   ]
  },
  {
   "cell_type": "markdown",
   "metadata": {},
   "source": [
    "d. test_log_cost: testing if the number of iterations is positive"
   ]
  },
  {
   "cell_type": "markdown",
   "metadata": {},
   "source": [
    "e. test_kmeansplusplus_parallel: testing if both k-means++ and k-means$||$ returns k centroids"
   ]
  },
  {
   "cell_type": "markdown",
   "metadata": {},
   "source": [
    "f. test_weights: testing if all weights are non-negative"
   ]
  },
  {
   "cell_type": "markdown",
   "metadata": {},
   "source": [
    "g. test_reassign_centroids: testing if the function reduces potential centroids to k centroids."
   ]
  },
  {
   "cell_type": "markdown",
   "metadata": {},
   "source": [
    "h. test_kmeans: testing if k-means returns k clusters"
   ]
  },
  {
   "cell_type": "markdown",
   "metadata": {},
   "source": [
    "i.   test_shouldStop: testing the stopping rules when (1) number of iterations is greater than 50; (2) the old and new centroids are not equal; (3) the old and new centroids are equal."
   ]
  },
  {
   "cell_type": "markdown",
   "metadata": {},
   "source": [
    "j. test_getLabels: testing if number of unique labels the data points are assigned to is no greater than k"
   ]
  },
  {
   "cell_type": "markdown",
   "metadata": {},
   "source": [
    "k.  test_getCentroids: testing if the number of centroids generated is no greater than k"
   ]
  },
  {
   "cell_type": "markdown",
   "metadata": {},
   "source": [
    "**5.2 Testing Code**"
   ]
  },
  {
   "cell_type": "code",
   "execution_count": 79,
   "metadata": {
    "collapsed": false
   },
   "outputs": [
    {
     "name": "stdout",
     "output_type": "stream",
     "text": [
      "Overwriting test_distance_sq.py\n"
     ]
    }
   ],
   "source": [
    "%%file test_distance_sq.py\n",
    "import numpy as np\n",
    "import kmeans_combined\n",
    "from numpy.testing import assert_almost_equal\n",
    "from kmeans_combined import dist_sq\n",
    "\n",
    "def test_non_negativity():\n",
    "    for i in range(10):\n",
    "        u = np.random.normal(3)\n",
    "        v = np.random.normal(3)\n",
    "        assert dist_sq(u, v) >= 0\n",
    "\n",
    "def test_coincidence_when_zero():\n",
    "    u = np.zeros(3)\n",
    "    v = np.zeros(3)\n",
    "    assert dist_sq(u, v) == 0\n",
    "\n",
    "def test_coincidence_when_not_zero():\n",
    "     for i in range(10):\n",
    "        u = np.random.random(3)\n",
    "        v = np.zeros(3)\n",
    "        assert dist_sq(u, v) != 0\n",
    "\n",
    "def test_symmetry():\n",
    "    for i in range(10):\n",
    "        u = np.random.random(3)\n",
    "        v = np.random.random(3)\n",
    "        assert dist_sq(u, v) == dist_sq(v, u)\n",
    "\n",
    "def test_known1():\n",
    "    u = np.array([0])\n",
    "    v = np.array([3])\n",
    "    assert_almost_equal(dist_sq(u, v), 9)\n",
    "\n",
    "def test_known2():\n",
    "    u = np.array([0,0])\n",
    "    v = np.array([3, 4])\n",
    "    assert_almost_equal(dist_sq(u, v), 25)\n",
    "\n",
    "def test_known3():\n",
    "    u = np.array([0,0])\n",
    "    v = np.array([-3, -4])\n",
    "    assert_almost_equal(dist_sq(u, v), 25)"
   ]
  },
  {
   "cell_type": "code",
   "execution_count": 80,
   "metadata": {
    "collapsed": false
   },
   "outputs": [
    {
     "name": "stdout",
     "output_type": "stream",
     "text": [
      "Overwriting test_point_sq.py\n"
     ]
    }
   ],
   "source": [
    "%%file test_point_sq.py\n",
    "import kmeans_combined\n",
    "from kmeans_combined import point_sq\n",
    "import numpy as np\n",
    "from numpy.testing import assert_almost_equal\n",
    "\n",
    "\n",
    "def test_non_negativity_p():\n",
    "    for i in range(10):\n",
    "        data = np.random.normal(size=(10,15))\n",
    "        c = data[np.random.choice(range(10),5)]\n",
    "        assert (all(point_sq(data, c)) >= 0)\n",
    "\n",
    "def test_coincidence_when_zero_p():\n",
    "    for i in range(10):\n",
    "        data = np.random.normal(size=(10,15))\n",
    "        c = data\n",
    "        assert (all(point_sq(data,c)) == 0)\n",
    "\n",
    "def test_more_centers_less_point_sq():\n",
    "    for i in range(10):\n",
    "        data = np.random.normal(size=(10,15))\n",
    "        c_more = data[np.random.choice(range(5),4),]\n",
    "        c=c_more[:3]\n",
    "        assert (all(point_sq(c_more, data)) <= all(point_sq(c, data)))"
   ]
  },
  {
   "cell_type": "code",
   "execution_count": 81,
   "metadata": {
    "collapsed": false
   },
   "outputs": [
    {
     "name": "stdout",
     "output_type": "stream",
     "text": [
      "Overwriting test_dist_prob_plus_parallel.py\n"
     ]
    }
   ],
   "source": [
    "%%file test_dist_prob_plus_parallel.py\n",
    "import kmeans_combined\n",
    "from kmeans_combined import dist_prob_plus, dist_prob_parallel\n",
    "import numpy as np\n",
    "from numpy.testing import assert_almost_equal\n",
    "\n",
    "def test_prob_sum_to_1():\n",
    "    for i in range(10):\n",
    "        data=np.random.random(size=10).tolist()\n",
    "        l=4\n",
    "        assert_almost_equal(sum(dist_prob_plus(data)),1) and assert_almost_equal(sum(dist_prob_parallel(data,l)),1)\n",
    "\n",
    "def test_all_positive():\n",
    "    for i in range(10):\n",
    "        data=np.random.random(size=10).tolist()\n",
    "        l=4\n",
    "        assert all(dist_prob_plus(data))>=0 and all(dist_prob_parallel(data,l))>=0\n",
    "\n"
   ]
  },
  {
   "cell_type": "code",
   "execution_count": 82,
   "metadata": {
    "collapsed": false
   },
   "outputs": [
    {
     "name": "stdout",
     "output_type": "stream",
     "text": [
      "Overwriting test_log_cost.py\n"
     ]
    }
   ],
   "source": [
    "%%file test_log_cost.py\n",
    "import numpy as np\n",
    "import kmeans_combined\n",
    "from kmeans_combined import log_cost\n",
    "def test_all_positive_log_cost():\n",
    "    for i in range(10):\n",
    "        data = np.random.normal(size=(10,15))\n",
    "        c = data[np.random.choice(range(10),5)]\n",
    "        assert log_cost(data, c)>0\n",
    "\n",
    "    "
   ]
  },
  {
   "cell_type": "code",
   "execution_count": 83,
   "metadata": {
    "collapsed": false
   },
   "outputs": [
    {
     "name": "stdout",
     "output_type": "stream",
     "text": [
      "Overwriting test_kmeansplusplus_parallel.py\n"
     ]
    }
   ],
   "source": [
    "%%file test_kmeansplusplus_parallel.py\n",
    "import kmeans_combined\n",
    "from kmeans_combined import kmeansplusplus, kmeansparallel\n",
    "import numpy as np\n",
    "from numpy.testing import assert_almost_equal\n",
    "\n",
    "def test_samplesize_is_k():\n",
    "    for i in range(10):\n",
    "        data = np.random.normal(size=(10000,15))\n",
    "        k=5\n",
    "        d=15\n",
    "        l=10\n",
    "        r=1\n",
    "        assert_almost_equal(kmeansplusplus(data, k, d).shape[0], k) and assert_almost_equal(kmeansparallel(data, k,l,d,r).shape[0], k)\n",
    "\n",
    "        "
   ]
  },
  {
   "cell_type": "code",
   "execution_count": 84,
   "metadata": {
    "collapsed": false
   },
   "outputs": [
    {
     "name": "stdout",
     "output_type": "stream",
     "text": [
      "Overwriting test_weights.py\n"
     ]
    }
   ],
   "source": [
    "%%file test_weights.py\n",
    "import numpy as np\n",
    "import kmeans_combined\n",
    "from kmeans_combined import weight_prob\n",
    "\n",
    "def test_all_positive_weights():\n",
    "    for i in range(10):\n",
    "        data = np.random.normal(size=(10,15))\n",
    "        c = data[np.random.choice(range(10),5)]\n",
    "        assert all(weight_prob(data, c))>=0\n"
   ]
  },
  {
   "cell_type": "code",
   "execution_count": 85,
   "metadata": {
    "collapsed": false
   },
   "outputs": [
    {
     "name": "stdout",
     "output_type": "stream",
     "text": [
      "Overwriting test_reassign_centroids.py\n"
     ]
    }
   ],
   "source": [
    "%%file test_reassign_centroids.py\n",
    "import numpy as np\n",
    "import kmeans_combined\n",
    "from kmeans_combined import reassign_centroids, weight_prob\n",
    "\n",
    "def test_more_given_centroids_than_reassigned():\n",
    "    for i in range(10):\n",
    "        data = np.random.normal(size=(1000,15))\n",
    "        c = data[np.random.choice(range(10),15)]\n",
    "        w=weight_prob(data,c)\n",
    "        assert reassign_centroids(c,5,15,w).shape[0]<c.shape[0]"
   ]
  },
  {
   "cell_type": "code",
   "execution_count": 86,
   "metadata": {
    "collapsed": false
   },
   "outputs": [
    {
     "name": "stdout",
     "output_type": "stream",
     "text": [
      "Overwriting test_kmeans.py\n"
     ]
    }
   ],
   "source": [
    "%%file test_kmeans.py\n",
    "import numpy as np\n",
    "import kmeans_combined\n",
    "from kmeans_combined import kmeans, kmeansparallel\n",
    "\n",
    "def test_kmeans_shape():\n",
    "    for i in range(10):\n",
    "        data = np.random.normal(size=(1000,15))\n",
    "        k=5\n",
    "        d=15\n",
    "        l=10\n",
    "        r=1\n",
    "        initial=kmeansparallel(data,k,l,d,r)\n",
    "        assert len(np.unique(kmeans(data,initial,k,d)[1]))==k\n"
   ]
  },
  {
   "cell_type": "code",
   "execution_count": 87,
   "metadata": {
    "collapsed": false
   },
   "outputs": [
    {
     "name": "stdout",
     "output_type": "stream",
     "text": [
      "Overwriting test_shouldStop.py\n"
     ]
    }
   ],
   "source": [
    "%%file test_shouldStop.py\n",
    "import numpy as np\n",
    "import kmeans_combined\n",
    "from kmeans_combined import shouldStop\n",
    "\n",
    "def test_shouldStop_iteration_greater_than_50():\n",
    "    for i in range(10):\n",
    "        old = np.random.normal(size=(10,15))\n",
    "        new = np.random.normal(size=(10,15))\n",
    "        iteration=60\n",
    "        assert shouldStop(old, new, iteration)==True\n",
    "\n",
    "def test_shouldStop_old_new_not_equal():\n",
    "    for i in range(10):\n",
    "        old = np.random.normal(size=(10,15))\n",
    "        new = np.random.normal(size=(10,15))\n",
    "        iteration=30\n",
    "        assert shouldStop(old, new, iteration)==False\n",
    "\n",
    "def test_shouldStop_old_new_equal():\n",
    "    for i in range(10):\n",
    "        old = np.random.normal(size=(10,15))\n",
    "        new = old\n",
    "        iteration=30\n",
    "        assert shouldStop(old, new, iteration)==True\n"
   ]
  },
  {
   "cell_type": "code",
   "execution_count": 88,
   "metadata": {
    "collapsed": false
   },
   "outputs": [
    {
     "name": "stdout",
     "output_type": "stream",
     "text": [
      "Overwriting test_getLabels.py\n"
     ]
    }
   ],
   "source": [
    "%%file test_getLabels.py\n",
    "import numpy as np\n",
    "import kmeans_combined\n",
    "from kmeans_combined import getLabels\n",
    "\n",
    "def test_getLables_labels_no_greater_than_k():\n",
    "    for i in range(10):\n",
    "        data = np.random.normal(size=(10,15))\n",
    "        c = data[np.random.choice(range(10),5)]\n",
    "        k=5\n",
    "        assert len(np.unique(getLabels(data,c)))<=k and len(np.unique(getLabels(data,c)))>0\n",
    "\n"
   ]
  },
  {
   "cell_type": "code",
   "execution_count": 89,
   "metadata": {
    "collapsed": false
   },
   "outputs": [
    {
     "name": "stdout",
     "output_type": "stream",
     "text": [
      "Overwriting test_getCentroids.py\n"
     ]
    }
   ],
   "source": [
    "%%file test_getCentroids.py\n",
    "import numpy as np\n",
    "import kmeans_combined\n",
    "from kmeans_combined import getCentroids\n",
    "\n",
    "def test_getCentroids_when_labels_less_than_k():\n",
    "    for i in range(10):\n",
    "        data = np.random.normal(size=(1000,15))\n",
    "        c = data[np.random.choice(range(1000),10)]\n",
    "        k=10\n",
    "        d=15\n",
    "        labels=np.random.choice(range(7),1000)\n",
    "        assert getCentroids(data, labels, k, d).shape[0]<=k\n"
   ]
  },
  {
   "cell_type": "code",
   "execution_count": 90,
   "metadata": {
    "collapsed": false
   },
   "outputs": [
    {
     "name": "stdout",
     "output_type": "stream",
     "text": [
      "\u001b[1m============================= test session starts ==============================\u001b[0m\n",
      "platform darwin -- Python 3.5.1, pytest-2.8.1, py-1.4.30, pluggy-0.3.1\n",
      "rootdir: /Users/wsswemily/Desktop/Sta663_Final_Project, inifile: \n",
      "collected 22 items \n",
      "\u001b[0m\n",
      "test_dist_prob_plus_parallel.py ..\n",
      "test_distance_sq.py .......\n",
      "test_getCentroids.py .\n",
      "test_getLabels.py .\n",
      "test_kmeans.py .\n",
      "test_kmeansplusplus_parallel.py .\n",
      "test_log_cost.py .\n",
      "test_point_sq.py ...\n",
      "test_reassign_centroids.py .\n",
      "test_shouldStop.py ...\n",
      "test_weights.py .\n",
      "\n",
      "\u001b[32m\u001b[1m========================== 22 passed in 65.51 seconds ==========================\u001b[0m\n"
     ]
    }
   ],
   "source": [
    "! py.test"
   ]
  },
  {
   "cell_type": "markdown",
   "metadata": {},
   "source": [
    "### 6 Optimization"
   ]
  },
  {
   "cell_type": "markdown",
   "metadata": {},
   "source": [
    "#### 6.1 Improving Python"
   ]
  },
  {
   "cell_type": "markdown",
   "metadata": {},
   "source": [
    "Once our code was working and tested the first step was to simply improve the Python implementation. In order to do this we turned many of our loops into list comprehension and Numpy functions to improve the efficiency of our code. "
   ]
  },
  {
   "cell_type": "markdown",
   "metadata": {},
   "source": [
    "#### 6.2  Numba and Cython"
   ]
  },
  {
   "cell_type": "markdown",
   "metadata": {},
   "source": [
    "Our first approach at optimization involves using a just in time compilation with Numba. Essentially, a JIT compiler runs after the program has started and compiles the code using some type of bytecode as it is needed, thus giving us a faster form. With our Numba implementation we manage improvements over both k-means++ and our pure Python version of k-means. "
   ]
  },
  {
   "cell_type": "markdown",
   "metadata": {},
   "source": [
    "We also implement a Cython version of our code for comparison. As many of our functions involve large data frames that are difficult to implement in C, our Cython version improved on the pure Python implementation, however was not as fast as Numba. The results generated with Cython can be seen in suppFunctions/kmeansCython."
   ]
  },
  {
   "cell_type": "markdown",
   "metadata": {},
   "source": [
    "From this point we therefore took Numba as our fastest implementation thus far, and attempted a parallelized version in order to achieve further improvements in our optimization. "
   ]
  },
  {
   "cell_type": "markdown",
   "metadata": {},
   "source": [
    "#### 6.3 Parallelization"
   ]
  },
  {
   "cell_type": "markdown",
   "metadata": {},
   "source": [
    "As k-means is often talked about as an embarrassingly parallelizable algorithm--meaning that the clustering can be worked on in different partitions at the same time--there are large gains in optimization to be made. The authors Bahmani et al. recommend that for 6 clusters, the optimal number of machines m is defined by $m =\\sqrt{\\frac{n}{k}}$, this would be that in our case we should ideally be using 40 partitions. While we do not have anything close this amount of resources, there are still significant gains to be made, even in a local parallelization on a 4 core machine."
   ]
  },
  {
   "cell_type": "markdown",
   "metadata": {},
   "source": [
    "In order to parallelize our implementation of k-means$||$, we first try a multicore approach. While this yields some gains, it is not as effective as we would like due to the fact that only some of our functions lend themselves to an MC implementation."
   ]
  },
  {
   "cell_type": "markdown",
   "metadata": {},
   "source": [
    "Instead, we are able to significantly improve on this by using an ipyparallel approach with 4 cores. In doing this we achieve a total run time of 22 seconds. This is faster than both the k-means++ and the any other optimized implementation of k-means$||$. This and all of the other run times can be seen in Results.ipynb."
   ]
  },
  {
   "cell_type": "markdown",
   "metadata": {},
   "source": [
    "#### 6.4 Comparsions of Efficiency"
   ]
  },
  {
   "cell_type": "markdown",
   "metadata": {},
   "source": [
    "Overall, we find that the parallelization of k-means$||$ yields the best results. This is to be expected for as stated by Bahman et al., “k-means$||$ running time improves linearly with the number of available machines. ” As we see from the timing of our different implementation across Python, Numba, Cython, and Ipyparallel, our implementation in Ipyparallel provided a good speed up of the k-means$||$ algorithm. As we will also see in section (8) below, our parallel implementation also provides good clustering results on both simulated and real world data when we test it on data sets of 10,000 observations and 144,029 observations respectively."
   ]
  },
  {
   "cell_type": "markdown",
   "metadata": {},
   "source": [
    "A further extension to this parallelization would be to implement k-means$||$ in a map reduce implementation within a Spark environment. Given the linear increase in running time, it is to be expected that this type of implementation would yield even greater increases in efficiency. In practice, this would mean that the k-means algorithm could be implemented on datasets with millions of observations. This is important because it truly makes one of the most widely used clustering methods scalable to problems involving big data. "
   ]
  },
  {
   "cell_type": "markdown",
   "metadata": {},
   "source": [
    "#### 6.5 Code"
   ]
  },
  {
   "cell_type": "markdown",
   "metadata": {},
   "source": [
    "Due to the length of the code, we only include the version using ipyparallel below as this gave our the optimal solution. Further results from the other optimization methods can be seen in Results.ipynb."
   ]
  },
  {
   "cell_type": "code",
   "execution_count": 39,
   "metadata": {
    "collapsed": true
   },
   "outputs": [],
   "source": [
    "from ipyparallel import Client"
   ]
  },
  {
   "cell_type": "code",
   "execution_count": 40,
   "metadata": {
    "collapsed": false
   },
   "outputs": [
    {
     "name": "stderr",
     "output_type": "stream",
     "text": [
      "/Users/wsswemily/anaconda/lib/python3.5/site-packages/ipyparallel/client/client.py:436: RuntimeWarning: \n",
      "            Controller appears to be listening on localhost, but not on this machine.\n",
      "            If this is true, you should specify Client(...,sshserver='you@10.190.96.32')\n",
      "            or instruct your controller to listen on an external IP.\n",
      "  RuntimeWarning)\n"
     ]
    }
   ],
   "source": [
    "rc = Client()\n",
    "dv = rc[:]"
   ]
  },
  {
   "cell_type": "code",
   "execution_count": 73,
   "metadata": {
    "collapsed": false
   },
   "outputs": [
    {
     "name": "stdout",
     "output_type": "stream",
     "text": [
      "importing numba on engine(s)\n",
      "importing math on engine(s)\n",
      "importing numpy on engine(s)\n",
      "importing pandas on engine(s)\n",
      "importing random on engine(s)\n"
     ]
    }
   ],
   "source": [
    "with dv.sync_imports():\n",
    "    import numba, math\n",
    "    import numpy as np\n",
    "    import pandas as pd\n",
    "    import random\n",
    "\n",
    "@numba.jit\n",
    "\n",
    "#distance square\n",
    "def dist_sq_py(a, b):\n",
    "    '''\n",
    "    calculate the distance square for array a and b\n",
    "    \n",
    "    Parameters\n",
    "    -------\n",
    "    a: np.array() with shape=[1,d]\n",
    "    b: np.array() with shape=[1,d]\n",
    "    \n",
    "    Returns\n",
    "    -------\n",
    "    distance (a float number)\n",
    "    '''\n",
    "    return np.sum((a-b)**2)\n",
    "\n",
    "#minimum distance square for every point to the centroid\n",
    "def point_sq_py(data,centroid):\n",
    "    '''\n",
    "    calculate the square distance for each point in the dataset to its closest centroid\n",
    "    \n",
    "    Parameters\n",
    "    -------\n",
    "    data: np.array() with shape=[number of observations in data,d]\n",
    "    centroid: np.array() with shape=[number of centroids,d]\n",
    "    \n",
    "    Returns\n",
    "    -------\n",
    "    a list of square distance for each data point in the dataset (length=number of observations)\n",
    "    '''\n",
    "    dist=[min(dist_sq_py(d,c) for c in centroid) for d in data]\n",
    "    return dist\n",
    "        \n",
    "\n",
    "#calculate probability\n",
    "def dist_prob_parallel_py(Dist,l):\n",
    "    '''\n",
    "    calculate the probability for each number in the list of distances\n",
    "    \n",
    "    Parameters\n",
    "    -------\n",
    "    Dist: a list of distances\n",
    "    l: oversampling factor (an integer)\n",
    "    \n",
    "    Returns\n",
    "    -------\n",
    "    a list of probabilities with length equal to the length of original list\n",
    "    '''   \n",
    "    return l*Dist/np.sum(Dist)\n",
    "\n",
    "\n",
    "\n",
    "#step 2: calculate the cost and number of iterations(log(cost))\n",
    "def log_cost_py(data_copy,centroid):\n",
    "    '''\n",
    "    calculate number of iteration\n",
    "    \n",
    "    Parameters\n",
    "    -------\n",
    "    data_copy: a numpy array with shape=[number of observations in data_copy, d]\n",
    "    centroid: a numpy array with shape=[number of observations in centroid, d]\n",
    "    \n",
    "    Returns\n",
    "    -------\n",
    "    iteration (an integer)\n",
    "    '''   \n",
    "    cost=np.sum(point_sq_py(data_copy,centroid))\n",
    "    iteration=math.ceil(np.log(cost))\n",
    "    return iteration\n",
    "\n",
    "    \n",
    "    \n",
    "#calculate weights\n",
    "#step 4: assign the weights\n",
    "#calculate weights\n",
    "#step 4: assign the weights\n",
    "def weight_prob_py(data_copy, centroid):\n",
    "    '''\n",
    "    calculate weights for each point in the centroid\n",
    "    \n",
    "    Parameters\n",
    "    -------\n",
    "    data_copy: a numpy array with shape=[number of observations in data_copy, d]\n",
    "    centroid: a numpy array with shape=[number of observations in centroid, d]\n",
    "    \n",
    "    Returns\n",
    "    -------\n",
    "    weights (a numpy array with length=number of observations in centroid)\n",
    "    ''' \n",
    "    weight=[np.argmin(list(dist_sq_py(d,c) for c in centroid)) for d in data_copy]\n",
    "    w=np.array([weight.count(i) for i in range(len(data_copy))])\n",
    "    return w\n",
    "\n",
    "\n",
    "\n",
    "#step 5: recluster the weighted points in C into k clusters\n",
    "#reinitialize k centroids\n",
    "def reassign_centroids_py(centroid,k,d,w):\n",
    "    '''\n",
    "    returns the initial centroids\n",
    "    \n",
    "    Parameters\n",
    "    -------\n",
    "    centroid: a numpy array with shape=[number of observations in centroid, d]\n",
    "    k=number of clusters\n",
    "    d=dimension of the dataset\n",
    "    w=weights calculated from the weight_prob function\n",
    "    \n",
    "    Returns\n",
    "    -------\n",
    "    new_centroids (a numpy array shape=[k,d])\n",
    "    ''' \n",
    "    new_centroid=np.zeros([k,d])\n",
    "    for cluster in range(k):\n",
    "        #according to the weights from step 4, calculate the probability that a point is sampled from C\n",
    "        prob_w=list(w/sum(w))\n",
    "        #sample a new centroid\n",
    "        new_index=np.random.choice(centroid.shape[0],1,prob_w)\n",
    "        #store the new centroid\n",
    "        new_centroid[cluster]=centroid[new_index]\n",
    "        #delete the new centroid from the centroid\n",
    "        centroid=np.delete(centroid,new_index,axis=0)\n",
    "        #delete the correponding weight\n",
    "        w=np.delete(w,new_index,axis=0)\n",
    "    return new_centroid\n",
    "\n",
    "\n",
    "\n",
    "def kmeansparallel_py(data, k, l, d, r):\n",
    "    '''\n",
    "    return the initial chosen centroids for the kmeans algorithm\n",
    "    \n",
    "    Parameters\n",
    "    -------\n",
    "    data: a numpy array with shape=[number of observations, d]\n",
    "    l: oversampling facter (an integer)\n",
    "    d: dimension of the data (an integer)\n",
    "    k: number of clusters (an integer)\n",
    "    r: number of rounds (an integer)\n",
    "    \n",
    "    Returns\n",
    "    -------\n",
    "    a numpy array with shape=[k,d]\n",
    "    ''' \n",
    "    random.seed(22)\n",
    "    #step 1: sample a point uniformly at random from X\n",
    "    index=int(np.random.choice(data.shape[0],1))\n",
    "    centroid=np.array(data[index])\n",
    "    data_copy=data.copy()\n",
    "    data_copy=np.delete(data_copy,index,axis=0)\n",
    "    \n",
    "    #step 2: calculate number of iteration\n",
    "    iteration= log_cost_py(data_copy,centroid)\n",
    "    \n",
    "    #step 3: Get initial Centroids C\n",
    "    for round in range(r):\n",
    "        for number in range(iteration):\n",
    "        #calculate phi_X(C)\n",
    "            distance=point_sq_py(data_copy,centroid)\n",
    "        #calculate the probability\n",
    "            prob=dist_prob_parallel_py(distance,l).tolist()\n",
    "            for n in range(data_copy.shape[0]):\n",
    "            #if the probability is greater than the random uniform\n",
    "                if prob[n]>np.random.uniform():\n",
    "                #add the point to C\n",
    "                    centroid=np.vstack([centroid,np.array(data_copy[n])])\n",
    "                #delete that point from the copy\n",
    "                    data_copy=np.delete(data_copy,n,axis=0)\n",
    "    \n",
    "    #step 4: calculate the weight probability\n",
    "    w=weight_prob_py(data_copy,centroid)\n",
    "    \n",
    "    #step 5: recluster the weighted points in C into k clusters\n",
    "    #reinitialize k centroids\n",
    "    new_centroids=reassign_centroids_py(centroid,k,d,w)\n",
    "    \n",
    "    return new_centroids\n",
    "\n",
    "    \n",
    "#with the initialization of the centroids from the function kmeansplusplus\n",
    "#plug in the original data(dataSet), initializtions(initial) and the dimension of the data(d)\n",
    "def kmeans_py(dataSet, initial, k, d):\n",
    "    '''\n",
    "    return the final centroids and a label for each point in the dataset\n",
    "    \n",
    "    Parameters\n",
    "    -------\n",
    "    dataSet: a numpy array with shape=[number of observations, d]\n",
    "    initial: initial centroids chosen from kmeans++ or kmeans|| with shape=[k,d]\n",
    "    d: dimension of the data (an integer)\n",
    "    k: number of clusters (an integer)\n",
    "    \n",
    "    Returns\n",
    "    -------\n",
    "    final centroids with shape=[k,d]\n",
    "    labels[integers]: a numpy array with length=number of intergers\n",
    "    ''' \n",
    "    random.seed(22)\n",
    "    centroids=initial\n",
    "    # Initialize book keeping vars.\n",
    "    iterations = 0\n",
    "    oldCentroids = np.zeros(initial.shape)\n",
    "    \n",
    "    # Run the main k-means algorithm\n",
    "    while not shouldStop_py(oldCentroids, centroids, iterations):\n",
    "        # Save old centroids for convergence test. Book keeping.\n",
    "        oldCentroids = centroids\n",
    "        iterations += 1\n",
    "        \n",
    "        # Assign labels to each datapoint based on centroids\n",
    "        l= getLabels_py(dataSet, centroids)\n",
    "        \n",
    "        # Assign centroids based on datapoint labels\n",
    "        centroids = getCentroids_py(dataSet, l, k, d)\n",
    "        \n",
    "    # We can get the labels too by calling getLabels(dataSet, centroids)\n",
    "    return centroids, np.array(l)\n",
    "# Function: Should Stop\n",
    "# -------------\n",
    "# Returns True or False if k-means is done. K-means terminates either\n",
    "# because it has run a maximum number of iterations OR the centroids\n",
    "# stop changing.\n",
    "def shouldStop_py(oldCentroids, centroids, iterations):\n",
    "    '''\n",
    "    return True or False\n",
    "    \n",
    "    Parameters\n",
    "    -------\n",
    "    oldCentroids: a numpy array with shape=[k, d]\n",
    "    centroids: a numpy array with shape=[k, d]\n",
    "    iterations: an integer\n",
    "    \n",
    "    Returns\n",
    "    -------\n",
    "    True or False\n",
    "    ''' \n",
    "    if iterations > 50: return True\n",
    "    return oldCentroids.all == centroids.all\n",
    "# Function: Get Labels\n",
    "# -------------\n",
    "# Returns a label for each piece of data in the dataset. \n",
    "def getLabels_py(dataSet, centroids):\n",
    "    # For each element in the dataset, chose the closest centroid. \n",
    "    # Make that centroid the element's label.\n",
    "    '''\n",
    "    return a list of labels\n",
    "    \n",
    "    Parameters\n",
    "    -------\n",
    "    dataSet: a numpy array with shape=[number of observations in the dataSet, d]\n",
    "    centroids: a numpy array with shape=[k, d]\n",
    "    \n",
    "    Returns\n",
    "    -------\n",
    "    a list of labels with length=number of observations in the dataSet\n",
    "    ''' \n",
    "    l=[np.argmin(list(dist_sq_py(d,c) for c in centroids)) for d in dataSet]\n",
    "    return l\n",
    "# Function: Get Centroids\n",
    "# -------------\n",
    "# Returns k random centroids, each of dimension n.\n",
    "def getCentroids_py(dataSet, labels, k, d):\n",
    "    '''\n",
    "    return a numpy array with shape=[k,d]\n",
    "    \n",
    "    Parameters\n",
    "    -------\n",
    "    dataSet: a numpy array with shape=[number of observations in the dataSet, d]\n",
    "    labels: a list of labels with length=number of observations in dataSet\n",
    "    k=number of clusters\n",
    "    d=dimension of dataSet\n",
    "    Returns\n",
    "    -------\n",
    "    centroids (a numpy array with shape=[k,d])\n",
    "    ''' \n",
    "    # Each centroid is the arithmetic mean of the points that\n",
    "    # have that centroid's label.\n",
    "    data_new = pd.DataFrame(dataSet.copy())\n",
    "    data_new['Labels'] = labels\n",
    "    data_new = np.array(data_new.groupby(['Labels']).mean().iloc[:,:d])\n",
    "  \n",
    "    return data_new"
   ]
  },
  {
   "cell_type": "markdown",
   "metadata": {},
   "source": [
    "### 7 Data"
   ]
  },
  {
   "cell_type": "markdown",
   "metadata": {},
   "source": [
    "#### 7.1 Data simulation"
   ]
  },
  {
   "cell_type": "markdown",
   "metadata": {},
   "source": [
    "To generate the dataset,\n",
    "we sampled k centers from a 15-dimensional spherical Gaussian\n",
    "distribution with mean at the origin and variance R ∈\n",
    "{1, 10, 100}. We then added points from Gaussian distributions\n",
    "of unit variance around each center. Given the k centers,\n",
    "this is a mixture of k spherical Gaussians with equal\n",
    "weights. Note that the Gaussians are separated in terms\n",
    "of probability mass — even if only marginally for the case\n",
    "R = 1 — and therefore the value of the optimal k-clustering\n",
    "can be well approximated using the centers of these Gaussians.\n",
    "The number of sampled points from this mixture of\n",
    "Gaussians is n = 10, 000."
   ]
  },
  {
   "cell_type": "code",
   "execution_count": 55,
   "metadata": {
    "collapsed": true
   },
   "outputs": [],
   "source": [
    "import numpy as np\n",
    "def generate_centers(k, var, dim):\n",
    "    \"\"\"Generate k centers from 15-dimensional spherical Gaussian distribution with the given variance\"\"\"\n",
    "    random.seed(22)\n",
    "    centers = np.random.multivariate_normal(np.zeros(dim),  np.eye(dim)*var, k)\n",
    "    return centers\n",
    "\n",
    "def generate_data(k, var, dim, npoints):\n",
    "    \"\"\"Generate data points around each center such that there are 10,000 data points total including the centers?\n",
    "    This could also be 10000 data points total plus the centers if this is better? Just chance the -k in \n",
    "    the sampData line\"\"\"\n",
    "    random.seed(22)\n",
    "    # generate centers\n",
    "    centers = generate_centers(k, var, dim)\n",
    "    # array to store points #\n",
    "    points = np.empty([1,dim])\n",
    "    # generate data around each center\n",
    "    for i in range(k):\n",
    "        points = np.concatenate((points, np.random.multivariate_normal(centers[i],np.eye(dim),npoints)), axis=0)\n",
    "        points = np.delete(points, 0, axis=0)\n",
    "    # sample points from array and combine these with centers\n",
    "    sampData = np.concatenate((centers, points[np.random.choice(len(points),npoints-k)]), axis = 0)\n",
    "    return(sampData)"
   ]
  },
  {
   "cell_type": "markdown",
   "metadata": {},
   "source": [
    "**simulated data to test time**"
   ]
  },
  {
   "cell_type": "code",
   "execution_count": 44,
   "metadata": {
    "collapsed": false
   },
   "outputs": [],
   "source": [
    "random.seed(22)\n",
    "sim_data = generate_data(k=6,var=100,dim=15, npoints=10000)"
   ]
  },
  {
   "cell_type": "markdown",
   "metadata": {},
   "source": [
    "**simulated data for clustering**"
   ]
  },
  {
   "cell_type": "code",
   "execution_count": 56,
   "metadata": {
    "collapsed": false
   },
   "outputs": [],
   "source": [
    "random.seed(22)\n",
    "sim_data_k6 = generate_data(k=6, var=100, dim=2, npoints=10000)"
   ]
  },
  {
   "cell_type": "markdown",
   "metadata": {},
   "source": [
    "#### 7.2 Real world data"
   ]
  },
  {
   "cell_type": "markdown",
   "metadata": {},
   "source": [
    "Based on our previous work with geocoding, we implement the k-mean clustering algorithm on a subsection of our data set, NYCBoroughs.csv. This data contains latitude and longitude coordinates from individual tax fillings from three boroughs of New York City: Bronx, Brooklyn, and Staten Island. In total this dataset includes 144,029 total observations making it a good candidate for testing our algorithm on a real world dataset. The three boroughs are geographically dispersed and we therefore set the number of clusters equal to three in the hope that our results will categorize each coordinate point to correct borough."
   ]
  },
  {
   "cell_type": "code",
   "execution_count": 88,
   "metadata": {
    "collapsed": true
   },
   "outputs": [],
   "source": [
    "real_data=pd.read_csv('NYBoroughs.csv')"
   ]
  },
  {
   "cell_type": "code",
   "execution_count": 89,
   "metadata": {
    "collapsed": true
   },
   "outputs": [],
   "source": [
    "real_data.drop(real_data.columns[[0,1]], axis=1, inplace=True)"
   ]
  },
  {
   "cell_type": "code",
   "execution_count": 90,
   "metadata": {
    "collapsed": true
   },
   "outputs": [],
   "source": [
    "real_data=np.array(real_data)\n",
    "d=real_data.shape[1]\n",
    "n=real_data.shape[0]\n",
    "k=3"
   ]
  },
  {
   "cell_type": "code",
   "execution_count": 91,
   "metadata": {
    "collapsed": false
   },
   "outputs": [],
   "source": [
    "#scale the magnitude of the real data\n",
    "real_data=real_data/100000"
   ]
  },
  {
   "cell_type": "markdown",
   "metadata": {},
   "source": [
    "### 8 Results"
   ]
  },
  {
   "cell_type": "markdown",
   "metadata": {},
   "source": [
    "All the code to generate the results are contained in /suppFunctions. Specifically, the results generated from all the algorithms are contained in /suppFunctions/Results.ipynb. The following results are shown as examples."
   ]
  },
  {
   "cell_type": "markdown",
   "metadata": {},
   "source": [
    "#### A. Simulated Data"
   ]
  },
  {
   "cell_type": "code",
   "execution_count": 50,
   "metadata": {
    "collapsed": true
   },
   "outputs": [],
   "source": [
    "#parameters for all below algorithms\n",
    "k = 6\n",
    "l=k*2\n",
    "d = 2\n",
    "r = 1"
   ]
  },
  {
   "cell_type": "markdown",
   "metadata": {},
   "source": [
    "**Kmeans++ clustering**"
   ]
  },
  {
   "cell_type": "code",
   "execution_count": 64,
   "metadata": {
    "collapsed": false
   },
   "outputs": [],
   "source": [
    "random.seed(22)\n",
    "sim_plus = kmeans(sim_data_k6, kmeansplusplus(sim_data_k6, k, d), k, d)"
   ]
  },
  {
   "cell_type": "code",
   "execution_count": 65,
   "metadata": {
    "collapsed": false
   },
   "outputs": [],
   "source": [
    "#subset x values and y values for plotting\n",
    "x_plus = sim_plus[0][:,0]\n",
    "y_plus = sim_plus[0][:,1]\n",
    "labels_plus = sim_plus[1]"
   ]
  },
  {
   "cell_type": "code",
   "execution_count": 66,
   "metadata": {
    "collapsed": false
   },
   "outputs": [
    {
     "data": {
      "image/png": "[encoded data removed]",
      "text/plain": [
       "<matplotlib.figure.Figure at 0x10ed18e10>"
      ]
     },
     "metadata": {},
     "output_type": "display_data"
    }
   ],
   "source": [
    "plt.figure()\n",
    "plt.scatter(sim_data_k6[:,0], sim_data_k6[:,1], c=labels_plus, cmap='Accent')\n",
    "plt.scatter(x_plus, y_plus, s=40, marker=\"o\", c=\"darkblue\")\n",
    "plt.title(\"K-means++ clustering\")\n",
    "pass"
   ]
  },
  {
   "cell_type": "markdown",
   "metadata": {},
   "source": [
    "**Kmeans$||$ clustering**"
   ]
  },
  {
   "cell_type": "code",
   "execution_count": 67,
   "metadata": {
    "collapsed": false
   },
   "outputs": [],
   "source": [
    "random.seed(22)\n",
    "sim_para = kmeans(sim_data_k6,kmeansparallel(sim_data_k6, k, l, d, r),k,d)"
   ]
  },
  {
   "cell_type": "code",
   "execution_count": 68,
   "metadata": {
    "collapsed": true
   },
   "outputs": [],
   "source": [
    "x_para = sim_para[0][:,0]\n",
    "y_para = sim_para[0][:,1]\n",
    "labels_para = sim_para[1]"
   ]
  },
  {
   "cell_type": "code",
   "execution_count": 69,
   "metadata": {
    "collapsed": false
   },
   "outputs": [
    {
     "data": {
      "image/png": "[encoded data removed]",
      "text/plain": [
       "<matplotlib.figure.Figure at 0x10eedeef0>"
      ]
     },
     "metadata": {},
     "output_type": "display_data"
    }
   ],
   "source": [
    "plt.figure()\n",
    "plt.scatter(sim_data_k6[:,0], sim_data_k6[:,1], c=labels_para, cmap='Accent')\n",
    "plt.scatter(x_para, y_para, s=40, marker=\"o\", c=\"darkblue\")\n",
    "plt.title(\"K-means|| clustering\")\n",
    "pass"
   ]
  },
  {
   "cell_type": "markdown",
   "metadata": {},
   "source": [
    "**Kmeans$||$ with ipyparallel**"
   ]
  },
  {
   "cell_type": "code",
   "execution_count": 74,
   "metadata": {
    "collapsed": false
   },
   "outputs": [],
   "source": [
    "random.seed(22)\n",
    "sim_ipy = kmeans_py(sim_data_k6,kmeansparallel_py(sim_data_k6, k, l, d, r),k,d)"
   ]
  },
  {
   "cell_type": "code",
   "execution_count": 75,
   "metadata": {
    "collapsed": true
   },
   "outputs": [],
   "source": [
    "x_ipy = sim_ipy[0][:,0]\n",
    "y_ipy = sim_ipy[0][:,1]\n",
    "labels_ipy = sim_ipy[1]"
   ]
  },
  {
   "cell_type": "code",
   "execution_count": 76,
   "metadata": {
    "collapsed": false
   },
   "outputs": [
    {
     "data": {
      "image/png": "[encoded data removed]",
      "text/plain": [
       "<matplotlib.figure.Figure at 0x10e452908>"
      ]
     },
     "metadata": {},
     "output_type": "display_data"
    }
   ],
   "source": [
    "plt.figure()\n",
    "plt.scatter(sim_data_k6[:,0], sim_data_k6[:,1], c=labels_ipy, cmap='Accent')\n",
    "plt.scatter(x_ipy, y_ipy, s=40, marker=\"o\", c=\"darkblue\")\n",
    "plt.title(\"K-means|| (ipyparallel) clustering\")\n",
    "pass"
   ]
  },
  {
   "cell_type": "markdown",
   "metadata": {},
   "source": [
    "As we can see from the results above, the implementation of k-means++ and both the optimized and original implementation of k-means$||$ provide great clustering results on this sample data set."
   ]
  },
  {
   "cell_type": "markdown",
   "metadata": {},
   "source": [
    "#### A. Real Data"
   ]
  },
  {
   "cell_type": "markdown",
   "metadata": {},
   "source": [
    "**Kmeans++**"
   ]
  },
  {
   "cell_type": "code",
   "execution_count": 92,
   "metadata": {
    "collapsed": false
   },
   "outputs": [],
   "source": [
    "k=3\n",
    "res_plus = kmeans(real_data,kmeansplusplus(real_data,k,d),k, d)"
   ]
  },
  {
   "cell_type": "code",
   "execution_count": 93,
   "metadata": {
    "collapsed": true
   },
   "outputs": [],
   "source": [
    "res_x_plus = res_plus[0][:,0]\n",
    "res_y_plus = res_plus[0][:,1]\n",
    "res_labels_plus = res_plus[1]"
   ]
  },
  {
   "cell_type": "code",
   "execution_count": 94,
   "metadata": {
    "collapsed": false
   },
   "outputs": [
    {
     "data": {
      "image/png": "[encoded data removed]",
      "text/plain": [
       "<matplotlib.figure.Figure at 0x10e70f358>"
      ]
     },
     "metadata": {},
     "output_type": "display_data"
    }
   ],
   "source": [
    "plt.figure()\n",
    "plt.scatter(real_data[:,0], real_data[:,1], c=res_labels_plus, cmap='Accent')\n",
    "plt.scatter(res_x_plus, res_y_plus, s=40, marker=\"o\", c=\"darkblue\")\n",
    "plt.title(\"K-means++ clustering\")\n",
    "pass"
   ]
  },
  {
   "cell_type": "markdown",
   "metadata": {},
   "source": [
    "**Kmeans$||$**"
   ]
  },
  {
   "cell_type": "code",
   "execution_count": 95,
   "metadata": {
    "collapsed": true
   },
   "outputs": [],
   "source": [
    "#kmeans||parameters\n",
    "l=6\n",
    "r=1"
   ]
  },
  {
   "cell_type": "code",
   "execution_count": 96,
   "metadata": {
    "collapsed": false
   },
   "outputs": [],
   "source": [
    "k=3\n",
    "res_para = kmeans(real_data,kmeansparallel(real_data, k, l, d, r),k,d)"
   ]
  },
  {
   "cell_type": "code",
   "execution_count": 97,
   "metadata": {
    "collapsed": true
   },
   "outputs": [],
   "source": [
    "res_x_para = res_para[0][:,0]\n",
    "res_y_para = res_para[0][:,1]\n",
    "res_labels_para = res_para[1]"
   ]
  },
  {
   "cell_type": "code",
   "execution_count": 98,
   "metadata": {
    "collapsed": false
   },
   "outputs": [
    {
     "data": {
      "image/png": "[encoded data removed]",
      "text/plain": [
       "<matplotlib.figure.Figure at 0x114aec940>"
      ]
     },
     "metadata": {},
     "output_type": "display_data"
    }
   ],
   "source": [
    "plt.figure()\n",
    "plt.scatter(real_data[:,0], real_data[:,1], c=res_labels_para, cmap='Accent')\n",
    "plt.scatter(res_x_para, res_y_para, s=40, marker=\"o\", c=\"darkblue\")\n",
    "plt.title(\"K-means|| clustering\")\n",
    "pass"
   ]
  },
  {
   "cell_type": "markdown",
   "metadata": {},
   "source": [
    "**Kmeans$||$ with ipyparallel**"
   ]
  },
  {
   "cell_type": "code",
   "execution_count": 99,
   "metadata": {
    "collapsed": true
   },
   "outputs": [],
   "source": [
    "k=3\n",
    "res_ipy = kmeans_py(real_data,kmeansparallel_py(real_data, k, l, d, r),k,d)"
   ]
  },
  {
   "cell_type": "code",
   "execution_count": 100,
   "metadata": {
    "collapsed": true
   },
   "outputs": [],
   "source": [
    "res_x_ipy = res_ipy[0][:,0]\n",
    "res_y_ipy = res_ipy[0][:,1]\n",
    "labels_res_ipy = res_ipy[1]"
   ]
  },
  {
   "cell_type": "code",
   "execution_count": 101,
   "metadata": {
    "collapsed": false
   },
   "outputs": [
    {
     "data": {
      "image/png": "[encoded data removed]",
      "text/plain": [
       "<matplotlib.figure.Figure at 0x10e715c50>"
      ]
     },
     "metadata": {},
     "output_type": "display_data"
    }
   ],
   "source": [
    "plt.figure()\n",
    "plt.scatter(real_data[:,0], real_data[:,1], c=labels_res_ipy, cmap='Accent')\n",
    "plt.scatter(res_x_ipy, res_y_ipy, s=40, marker=\"o\", c=\"darkblue\")\n",
    "plt.title(\"K-means|| (ipyparallel) clustering\")\n",
    "pass"
   ]
  },
  {
   "cell_type": "markdown",
   "metadata": {},
   "source": [
    "**Timing**"
   ]
  },
  {
   "cell_type": "markdown",
   "metadata": {},
   "source": [
    "All the timing results are contained in Results.ipynb with the simulated data."
   ]
  },
  {
   "cell_type": "markdown",
   "metadata": {},
   "source": [
    "### 9 Conclusions"
   ]
  },
  {
   "cell_type": "markdown",
   "metadata": {},
   "source": [
    "While k-means is a widely used algorithm, its issues in scalability and efficiency make it computationally infeasible to run on large data sets. Further, due to the often random selection of initial points, k-means can have different results with every iteration making it inherently unstable. K-means++ addresses this issue by providing an optimal means of selecting the initial centers. However, due to the number of passes required in this selection, it only makes things worse in terms of both scalability and efficiency."
   ]
  },
  {
   "cell_type": "markdown",
   "metadata": {},
   "source": [
    "In order to address this problem, k-means$||$ provides a scalable solution that linearly increases in efficiency with increases in computing power. k-means$||$ uses of an oversampling factor $l = \\Omega(k)$ to select more than k potential centroids with an initial iteration of $log(\\psi)$. This algorithm then reduces the number potential centroids to k by sampling each centroid with the probability proportional to it being chosen as the closest centroid for other points in the dataset. With this approach the k-means$||$ can increase the efficiency of selecting initial centroids compared to k-means++. \n"
   ]
  },
  {
   "cell_type": "markdown",
   "metadata": {},
   "source": [
    "The results in section (8) show that k-means++ and k-means$||$ provide the similar optimal clustering results. The points that are labeled with the same color can be determined as in the same cluster."
   ]
  },
  {
   "cell_type": "markdown",
   "metadata": {},
   "source": [
    "For the reasons that k-means$||$ algorithm initiates a centroid by sampling it from the entire dataset and searches for the potential centroids by looping throughout the dataset, more improvements can be further done in order to optimize the efficiency. For example, the initialized point could be first determined as the central mass point of a sphere given a dataset with three dimensions. Rather than randomly initializing a centroid, we could choose the central mass point as the initialized centroid, as it is more likely chosen as a potential centroid. And finally we could apply the kmeans$||$ algorithm with this initialized centroid."
   ]
  },
  {
   "cell_type": "markdown",
   "metadata": {},
   "source": [
    "### Appendix I"
   ]
  },
  {
   "cell_type": "markdown",
   "metadata": {},
   "source": [
    "#### Code for visualizations"
   ]
  },
  {
   "cell_type": "code",
   "execution_count": 1,
   "metadata": {
    "collapsed": false
   },
   "outputs": [
    {
     "data": {
      "image/png": "[encoded data removed]",
      "text/plain": [
       "<matplotlib.figure.Figure at 0x1171189e8>"
      ]
     },
     "metadata": {},
     "output_type": "display_data"
    }
   ],
   "source": [
    "from sklearn import cluster\n",
    "from matplotlib import pyplot\n",
    "import numpy as np\n",
    "\n",
    "# load iris data and exclude species column\n",
    "iris = sns.load_dataset(\"iris\").ix[:, 0:3]\n",
    "# set number of clusters #\n",
    "k = 3\n",
    "kmeans = cluster.KMeans(n_clusters=k)\n",
    "kmeans.fit(iris)\n",
    "labels = kmeans.labels_\n",
    "centroids = kmeans.cluster_centers_\n",
    "from matplotlib import pyplot\n",
    "import numpy as np\n",
    "\n",
    "from matplotlib import pyplot\n",
    "import numpy as np\n",
    "plt.scatter(iris.ix[:,1], iris.ix[:,2], c=labels, cmap='jet')\n",
    "fig = plt.gcf()"
   ]
  }
 ],
 "metadata": {
  "celltoolbar": "Raw Cell Format",
  "kernelspec": {
   "display_name": "Python 3",
   "language": "python",
   "name": "python3"
  },
  "language_info": {
   "codemirror_mode": {
    "name": "ipython",
    "version": 3
   },
   "file_extension": ".py",
   "mimetype": "text/x-python",
   "name": "python",
   "nbconvert_exporter": "python",
   "pygments_lexer": "ipython3",
   "version": "3.5.1"
  }
 },
 "nbformat": 4,
 "nbformat_minor": 0
}
