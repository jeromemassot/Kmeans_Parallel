{
 "cells": [
  {
   "cell_type": "markdown",
   "metadata": {},
   "source": [
    "To generate the dataset,\n",
    "we sampled k centers from a 15-dimensional spherical Gaussian\n",
    "distribution with mean at the origin and variance R ∈\n",
    "{1, 10, 100}. We then added points from Gaussian distributions\n",
    "of unit variance around each center. Given the k centers,\n",
    "this is a mixture of k spherical Gaussians with equal\n",
    "weights. Note that the Gaussians are separated in terms\n",
    "of probability mass — even if only marginally for the case\n",
    "R = 1 — and therefore the value of the optimal k-clustering\n",
    "can be well approximated using the centers of these Gaussians.\n",
    "The number of sampled points from this mixture of\n",
    "Gaussians is n = 10, 000."
   ]
  },
  {
   "cell_type": "code",
   "execution_count": 2,
   "metadata": {
    "collapsed": false
   },
   "outputs": [
    {
     "name": "stdout",
     "output_type": "stream",
     "text": [
      "Overwriting simulatedData.py\n"
     ]
    }
   ],
   "source": [
    "%%file simulatedData.py\n",
    "\n",
    "import numpy as np\n",
    "import random\n",
    "def generate_centers(k, var, dim):\n",
    "    \"\"\"Generate k centers from 15-dimensional spherical Gaussian distribution with the given variance\"\"\"\n",
    "    random.seed(22)\n",
    "    centers = np.random.multivariate_normal(np.zeros(dim),  np.eye(dim)*var, k)\n",
    "    return centers\n",
    "\n",
    "def generate_data(k, var, dim, npoints):\n",
    "    \"\"\"Generate data points around each center such that there are 10,000 data points total including the centers?\n",
    "    This could also be 10000 data points total plus the centers if this is better? Just chance the -k in \n",
    "    the sampData line\"\"\"\n",
    "    random.seed(22)\n",
    "    # generate centers\n",
    "    centers = generate_centers(k, var, dim)\n",
    "    # array to store points #\n",
    "    points = np.empty([1,dim])\n",
    "    # generate data around each center\n",
    "    for i in range(k):\n",
    "        points = np.concatenate((points, np.random.multivariate_normal(centers[i],np.eye(dim),npoints)), axis=0)\n",
    "        points = np.delete(points, 0, axis=0)\n",
    "    # sample points from array and combine these with centers\n",
    "    sampData = np.concatenate((centers, points[np.random.choice(len(points),npoints-k)]), axis = 0)\n",
    "    return(sampData)"
   ]
  },
  {
   "cell_type": "code",
   "execution_count": null,
   "metadata": {
    "collapsed": true
   },
   "outputs": [],
   "source": []
  }
 ],
 "metadata": {
  "kernelspec": {
   "display_name": "Python 3",
   "language": "python",
   "name": "python3"
  },
  "language_info": {
   "codemirror_mode": {
    "name": "ipython",
    "version": 3
   },
   "file_extension": ".py",
   "mimetype": "text/x-python",
   "name": "python",
   "nbconvert_exporter": "python",
   "pygments_lexer": "ipython3",
   "version": "3.5.1"
  }
 },
 "nbformat": 4,
 "nbformat_minor": 0
}
