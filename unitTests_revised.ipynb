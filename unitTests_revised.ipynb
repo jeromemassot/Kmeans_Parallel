{
 "cells": [
  {
   "cell_type": "code",
   "execution_count": 14,
   "metadata": {
    "collapsed": false
   },
   "outputs": [
    {
     "name": "stdout",
     "output_type": "stream",
     "text": [
      "Overwriting test_distance_sq.py\n"
     ]
    }
   ],
   "source": [
    "%%file test_distance_sq.py\n",
    "import numpy as np\n",
    "from numpy.testing import assert_almost_equal\n",
    "from kmeans_combined_revised import dist_sq\n",
    "\n",
    "def test_non_negativity():\n",
    "    for i in range(10):\n",
    "        u = np.random.normal(3)\n",
    "        v = np.random.normal(3)\n",
    "        assert dist_sq(u, v) >= 0\n",
    "\n",
    "def test_coincidence_when_zero():\n",
    "    u = np.zeros(3)\n",
    "    v = np.zeros(3)\n",
    "    assert dist_sq(u, v) == 0\n",
    "\n",
    "def test_coincidence_when_not_zero():\n",
    "     for i in range(10):\n",
    "        u = np.random.random(3)\n",
    "        v = np.zeros(3)\n",
    "        assert dist_sq(u, v) != 0\n",
    "\n",
    "def test_symmetry():\n",
    "    for i in range(10):\n",
    "        u = np.random.random(3)\n",
    "        v = np.random.random(3)\n",
    "        assert dist_sq(u, v) == dist_sq(v, u)\n",
    "\n",
    "def test_known1():\n",
    "    u = np.array([0])\n",
    "    v = np.array([3])\n",
    "    assert_almost_equal(dist_sq(u, v), 9)\n",
    "\n",
    "def test_known2():\n",
    "    u = np.array([0,0])\n",
    "    v = np.array([3, 4])\n",
    "    assert_almost_equal(dist_sq(u, v), 25)\n",
    "\n",
    "def test_known3():\n",
    "    u = np.array([0,0])\n",
    "    v = np.array([-3, -4])\n",
    "    assert_almost_equal(dist_sq(u, v), 25)"
   ]
  },
  {
   "cell_type": "code",
   "execution_count": 15,
   "metadata": {
    "collapsed": false
   },
   "outputs": [
    {
     "name": "stdout",
     "output_type": "stream",
     "text": [
      "Overwriting test_point_sq.py\n"
     ]
    }
   ],
   "source": [
    "%%file test_point_sq.py\n",
    "from kmeans_combined_revised import point_sq\n",
    "import numpy as np\n",
    "from numpy.testing import assert_almost_equal\n",
    "\n",
    "\n",
    "def test_non_negativity_p():\n",
    "    for i in range(10):\n",
    "        data = np.random.normal(size=(10,15))\n",
    "        c = data[np.random.choice(range(10),5)]\n",
    "        assert (all(point_sq(data, c)) >= 0)\n",
    "\n",
    "def test_coincidence_when_zero_p():\n",
    "    for i in range(10):\n",
    "        data = np.random.normal(size=(10,15))\n",
    "        c = data\n",
    "        assert (all(point_sq(data,c)) == 0)\n",
    "\n",
    "def test_more_centers_less_point_sq():\n",
    "    for i in range(10):\n",
    "        data = np.random.normal(size=(10,15))\n",
    "        c_more = data[np.random.choice(range(5),4),]\n",
    "        c=c_more[:3]\n",
    "        assert (all(point_sq(c_more, data)) <= all(point_sq(c, data)))"
   ]
  },
  {
   "cell_type": "code",
   "execution_count": 16,
   "metadata": {
    "collapsed": false
   },
   "outputs": [
    {
     "name": "stdout",
     "output_type": "stream",
     "text": [
      "Overwriting test_dist_prob_plus_parallel.py\n"
     ]
    }
   ],
   "source": [
    "%%file test_dist_prob_plus_parallel.py\n",
    "from kmeans_combined_revised import dist_prob_plus, dist_prob_parallel\n",
    "import numpy as np\n",
    "from numpy.testing import assert_almost_equal\n",
    "\n",
    "def test_prob_sum_to_1():\n",
    "    for i in range(10):\n",
    "        data=np.random.random(size=10).tolist()\n",
    "        l=4\n",
    "        assert_almost_equal(sum(dist_prob_plus(data)),1) and assert_almost_equal(sum(dist_prob_parallel(data,l)),1)\n",
    "\n",
    "def test_all_positive():\n",
    "    for i in range(10):\n",
    "        data=np.random.random(size=10).tolist()\n",
    "        l=4\n",
    "        assert all(dist_prob_plus(data))>=0 and all(dist_prob_parallel(data,l))>=0\n",
    "\n"
   ]
  },
  {
   "cell_type": "code",
   "execution_count": 17,
   "metadata": {
    "collapsed": false
   },
   "outputs": [
    {
     "name": "stdout",
     "output_type": "stream",
     "text": [
      "Overwriting test_log_cost.py\n"
     ]
    }
   ],
   "source": [
    "%%file test_log_cost.py\n",
    "import numpy as np\n",
    "from kmeans_combined_revised import log_cost\n",
    "\n",
    "def test_all_positive_log_cost():\n",
    "    for i in range(10):\n",
    "        data = np.random.normal(size=(10,15))\n",
    "        c = data[np.random.choice(range(10),5)]\n",
    "        assert log_cost(data, c)>0\n",
    "\n",
    "    "
   ]
  },
  {
   "cell_type": "code",
   "execution_count": 18,
   "metadata": {
    "collapsed": false
   },
   "outputs": [
    {
     "name": "stdout",
     "output_type": "stream",
     "text": [
      "Overwriting test_kmeansplusplus_parallel.py\n"
     ]
    }
   ],
   "source": [
    "%%file test_kmeansplusplus_parallel.py\n",
    "\n",
    "from kmeans_combined_revised import kmeansplusplus, kmeansparallel\n",
    "import numpy as np\n",
    "from numpy.testing import assert_almost_equal\n",
    "\n",
    "def test_samplesize_is_k():\n",
    "    for i in range(10):\n",
    "        data = np.random.normal(size=(10000,15))\n",
    "        k=5\n",
    "        d=15\n",
    "        l=10\n",
    "        r=1\n",
    "        assert_almost_equal(kmeansplusplus(data, k, d).shape[0], k) and assert_almost_equal(kmeansparallel(data, k,l,d,r).shape[0], k)\n",
    "\n",
    "        \n",
    "        "
   ]
  },
  {
   "cell_type": "code",
   "execution_count": 19,
   "metadata": {
    "collapsed": false
   },
   "outputs": [
    {
     "name": "stdout",
     "output_type": "stream",
     "text": [
      "Overwriting test_weights.py\n"
     ]
    }
   ],
   "source": [
    "%%file test_weights.py\n",
    "import numpy as np\n",
    "from kmeans_combined_revised import weight_prob\n",
    "\n",
    "def test_all_positive_weights():\n",
    "    for i in range(10):\n",
    "        data = np.random.normal(size=(10,15))\n",
    "        c = data[np.random.choice(range(10),5)]\n",
    "        assert all(weight_prob(data, c))>=0\n"
   ]
  },
  {
   "cell_type": "code",
   "execution_count": 20,
   "metadata": {
    "collapsed": false
   },
   "outputs": [
    {
     "name": "stdout",
     "output_type": "stream",
     "text": [
      "Overwriting test_reassign_centroids.py\n"
     ]
    }
   ],
   "source": [
    "%%file test_reassign_centroids.py\n",
    "import numpy as np\n",
    "from kmeans_combined_revised import reassign_centroids, weight_prob\n",
    "\n",
    "def test_more_given_centroids_than_reassigned():\n",
    "    for i in range(10):\n",
    "        data = np.random.normal(size=(1000,15))\n",
    "        c = data[np.random.choice(range(10),15)]\n",
    "        w=weight_prob(data,c)\n",
    "        assert reassign_centroids(c,5,15,w).shape[0]<c.shape[0]"
   ]
  },
  {
   "cell_type": "code",
   "execution_count": 21,
   "metadata": {
    "collapsed": false
   },
   "outputs": [
    {
     "name": "stdout",
     "output_type": "stream",
     "text": [
      "Overwriting test_kmeans.py\n"
     ]
    }
   ],
   "source": [
    "%%file test_kmeans.py\n",
    "import numpy as np\n",
    "from kmeans_combined_revised import kmeans, kmeansparallel\n",
    "\n",
    "def test_kmeans_shape():\n",
    "    for i in range(10):\n",
    "        data = np.random.normal(size=(1000,15))\n",
    "        k=5\n",
    "        d=15\n",
    "        l=10\n",
    "        r=1\n",
    "        initial=kmeansparallel(data,k,l,d,r)\n",
    "        assert len(np.unique(kmeans(data,initial,k,d)[1]))==k\n"
   ]
  },
  {
   "cell_type": "code",
   "execution_count": 22,
   "metadata": {
    "collapsed": false
   },
   "outputs": [
    {
     "name": "stdout",
     "output_type": "stream",
     "text": [
      "Overwriting test_shouldStop.py\n"
     ]
    }
   ],
   "source": [
    "%%file test_shouldStop.py\n",
    "import numpy as np\n",
    "from kmeans_combined_revised import shouldStop\n",
    "\n",
    "def test_shouldStop_iteration_greater_than_50():\n",
    "    for i in range(10):\n",
    "        old = np.random.normal(size=(10,15))\n",
    "        new = np.random.normal(size=(10,15))\n",
    "        iteration=60\n",
    "        assert shouldStop(old, new, iteration)==True\n",
    "\n",
    "def test_shouldStop_old_new_not_equal():\n",
    "    for i in range(10):\n",
    "        old = np.random.normal(size=(10,15))\n",
    "        new = np.random.normal(size=(10,15))\n",
    "        iteration=30\n",
    "        assert shouldStop(old, new, iteration)==False\n",
    "\n",
    "def test_shouldStop_old_new_equal():\n",
    "    for i in range(10):\n",
    "        old = np.random.normal(size=(10,15))\n",
    "        new = old\n",
    "        iteration=30\n",
    "        assert shouldStop(old, new, iteration)==True\n"
   ]
  },
  {
   "cell_type": "code",
   "execution_count": 23,
   "metadata": {
    "collapsed": false
   },
   "outputs": [
    {
     "name": "stdout",
     "output_type": "stream",
     "text": [
      "Overwriting test_getLabels.py\n"
     ]
    }
   ],
   "source": [
    "%%file test_getLabels.py\n",
    "import numpy as np\n",
    "from kmeans_combined_revised import getLabels\n",
    "\n",
    "def test_getLables_labels_no_greater_than_k():\n",
    "    for i in range(10):\n",
    "        data = np.random.normal(size=(10,15))\n",
    "        c = data[np.random.choice(range(10),5)]\n",
    "        k=5\n",
    "        assert len(np.unique(getLabels(data,c)))<=k and len(np.unique(getLabels(data,c)))>0\n",
    "\n"
   ]
  },
  {
   "cell_type": "code",
   "execution_count": 24,
   "metadata": {
    "collapsed": false
   },
   "outputs": [
    {
     "name": "stdout",
     "output_type": "stream",
     "text": [
      "Overwriting test_getCentroids.py\n"
     ]
    }
   ],
   "source": [
    "%%file test_getCentroids.py\n",
    "import numpy as np\n",
    "from kmeans_combined_revised import getCentroids\n",
    "\n",
    "def test_getCentroids_when_labels_less_than_k():\n",
    "    for i in range(10):\n",
    "        data = np.random.normal(size=(1000,15))\n",
    "        c = data[np.random.choice(range(1000),10)]\n",
    "        k=10\n",
    "        d=15\n",
    "        labels=np.random.choice(range(7),1000)\n",
    "        assert getCentroids(data, labels, k, d).shape[0]<=k\n"
   ]
  },
  {
   "cell_type": "code",
   "execution_count": 25,
   "metadata": {
    "collapsed": false
   },
   "outputs": [
    {
     "name": "stdout",
     "output_type": "stream",
     "text": [
      "\u001b[1m============================= test session starts ==============================\u001b[0m\n",
      "platform darwin -- Python 3.5.1, pytest-2.8.1, py-1.4.30, pluggy-0.3.1\n",
      "rootdir: /Users/wsswemily/Desktop/Sta663_Final_Project, inifile: \n",
      "collected 22 items \n",
      "\u001b[0m\n",
      "test_dist_prob_plus_parallel.py ..\n",
      "test_distance_sq.py .......\n",
      "test_getCentroids.py .\n",
      "test_getLabels.py .\n",
      "test_kmeans.py .\n",
      "test_kmeansplusplus_parallel.py .\n",
      "test_log_cost.py .\n",
      "test_point_sq.py ...\n",
      "test_reassign_centroids.py .\n",
      "test_shouldStop.py ...\n",
      "test_weights.py .\n",
      "\n",
      "\u001b[32m\u001b[1m========================== 22 passed in 69.95 seconds ==========================\u001b[0m\n"
     ]
    }
   ],
   "source": [
    "! py.test\n"
   ]
  },
  {
   "cell_type": "code",
   "execution_count": null,
   "metadata": {
    "collapsed": true
   },
   "outputs": [],
   "source": []
  }
 ],
 "metadata": {
  "kernelspec": {
   "display_name": "Python 3",
   "language": "python",
   "name": "python3"
  },
  "language_info": {
   "codemirror_mode": {
    "name": "ipython",
    "version": 3
   },
   "file_extension": ".py",
   "mimetype": "text/x-python",
   "name": "python",
   "nbconvert_exporter": "python",
   "pygments_lexer": "ipython3",
   "version": "3.5.1"
  }
 },
 "nbformat": 4,
 "nbformat_minor": 0
}
