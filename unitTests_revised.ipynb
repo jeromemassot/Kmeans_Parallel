{
 "cells": [
  {
   "cell_type": "code",
   "execution_count": 1,
   "metadata": {
    "collapsed": false
   },
   "outputs": [
    {
     "name": "stdout",
     "output_type": "stream",
     "text": [
      "Overwriting test_distance_sq.py\n"
     ]
    }
   ],
   "source": [
    "%%file test_distance_sq.py\n",
    "import numpy as np\n",
    "from numpy.testing import assert_almost_equal\n",
    "from kmeans_combined_revised import dist_sq\n",
    "\n",
    "def test_non_negativity():\n",
    "    for i in range(10):\n",
    "        u = np.random.normal(3)\n",
    "        v = np.random.normal(3)\n",
    "        assert dist_sq(u, v) >= 0\n",
    "\n",
    "def test_coincidence_when_zero():\n",
    "    u = np.zeros(3)\n",
    "    v = np.zeros(3)\n",
    "    assert dist_sq(u, v) == 0\n",
    "\n",
    "def test_coincidence_when_not_zero():\n",
    "     for i in range(10):\n",
    "        u = np.random.random(3)\n",
    "        v = np.zeros(3)\n",
    "        assert dist_sq(u, v) != 0\n",
    "\n",
    "def test_symmetry():\n",
    "    for i in range(10):\n",
    "        u = np.random.random(3)\n",
    "        v = np.random.random(3)\n",
    "        assert dist_sq(u, v) == dist_sq(v, u)\n",
    "\n",
    "def test_known1():\n",
    "    u = np.array([0])\n",
    "    v = np.array([3])\n",
    "    assert_almost_equal(dist_sq(u, v), 9)\n",
    "\n",
    "def test_known2():\n",
    "    u = np.array([0,0])\n",
    "    v = np.array([3, 4])\n",
    "    assert_almost_equal(dist_sq(u, v), 25)\n",
    "\n",
    "def test_known3():\n",
    "    u = np.array([0,0])\n",
    "    v = np.array([-3, -4])\n",
    "    assert_almost_equal(dist_sq(u, v), 25)"
   ]
  },
  {
   "cell_type": "code",
   "execution_count": 2,
   "metadata": {
    "collapsed": false
   },
   "outputs": [
    {
     "name": "stdout",
     "output_type": "stream",
     "text": [
      "Overwriting test_point_sq.py\n"
     ]
    }
   ],
   "source": [
    "%%file test_point_sq.py\n",
    "from kmeans_combined_revised import point_sq\n",
    "import numpy as np\n",
    "from numpy.testing import assert_almost_equal\n",
    "\n",
    "\n",
    "def test_non_negativity_p():\n",
    "    for i in range(10):\n",
    "        data = np.random.normal(size=(10,15))\n",
    "        c = data[np.random.choice(range(10),5)]\n",
    "        assert (all(point_sq(data, c)) >= 0)\n",
    "\n",
    "def test_coincidence_when_zero_p():\n",
    "    for i in range(10):\n",
    "        data = np.random.normal(size=(10,15))\n",
    "        c = data\n",
    "        assert (all(point_sq(data,c)) == 0)\n",
    "\n",
    "def test_more_centers_less_point_sq():\n",
    "    for i in range(10):\n",
    "        data = np.random.normal(size=(10,15))\n",
    "        c_more = data[np.random.choice(range(5),4),]\n",
    "        c=c_more[:3]\n",
    "        assert (all(point_sq(c_more, data)) <= all(point_sq(c, data)))"
   ]
  },
  {
   "cell_type": "code",
   "execution_count": 3,
   "metadata": {
    "collapsed": false
   },
   "outputs": [
    {
     "name": "stdout",
     "output_type": "stream",
     "text": [
      "Overwriting test_dist_prob_plus_parallel.py\n"
     ]
    }
   ],
   "source": [
    "%%file test_dist_prob_plus_parallel.py\n",
    "from kmeans_combined_revised import dist_prob_plus, dist_prob_parallel\n",
    "import numpy as np\n",
    "from numpy.testing import assert_almost_equal\n",
    "\n",
    "def test_prob_sum_to_1():\n",
    "    for i in range(10):\n",
    "        data=np.random.random(size=10).tolist()\n",
    "        l=4\n",
    "        assert_almost_equal(sum(dist_prob_plus(data)),1) and assert_almost_equal(sum(dist_prob_parallel(data,l)),1)\n",
    "\n",
    "def test_all_positive():\n",
    "    for i in range(10):\n",
    "        data=np.random.random(size=10).tolist()\n",
    "        l=4\n",
    "        assert all(dist_prob_plus(data))>=0 and all(dist_prob_parallel(data,l))\n",
    "\n"
   ]
  },
  {
   "cell_type": "code",
   "execution_count": 4,
   "metadata": {
    "collapsed": false
   },
   "outputs": [
    {
     "name": "stdout",
     "output_type": "stream",
     "text": [
      "Overwriting test_log_cost.py\n"
     ]
    }
   ],
   "source": [
    "%%file test_log_cost.py\n",
    "import numpy as np\n",
    "from kmeans_combined_revised import log_cost\n",
    "\n",
    "def test_all_positive_log_cost():\n",
    "    for i in range(10):\n",
    "        data = np.random.normal(size=(10,15))\n",
    "        c = data[np.random.choice(range(10),5)]\n",
    "        assert log_cost(data, c)>0\n",
    "\n",
    "    "
   ]
  },
  {
   "cell_type": "code",
   "execution_count": 5,
   "metadata": {
    "collapsed": false
   },
   "outputs": [
    {
     "name": "stdout",
     "output_type": "stream",
     "text": [
      "Overwriting test_kmeansplusplus_parallel.py\n"
     ]
    }
   ],
   "source": [
    "%%file test_kmeansplusplus_parallel.py\n",
    "\n",
    "from kmeans_combined_revised import kmeansplusplus, kmeansparallel\n",
    "import numpy as np\n",
    "from numpy.testing import assert_almost_equal\n",
    "\n",
    "def test_samplesize_is_k():\n",
    "    for i in range(10):\n",
    "        data = np.random.normal(size=(1000,15))\n",
    "        k=5\n",
    "        d=15\n",
    "        l=10\n",
    "        assert_almost_equal(kmeansplusplus(data, k, d).shape[0], k) and assert_almost_equal(kmeansparallel(data, k,l,d).shape[0], k)\n",
    "\n",
    "        \n",
    "        "
   ]
  },
  {
   "cell_type": "code",
   "execution_count": 6,
   "metadata": {
    "collapsed": false
   },
   "outputs": [
    {
     "name": "stdout",
     "output_type": "stream",
     "text": [
      "Overwriting test_weights.py\n"
     ]
    }
   ],
   "source": [
    "%%file test_weights.py\n",
    "import numpy as np\n",
    "from kmeans_combined_revised import weight_prob\n",
    "\n",
    "def test_all_positive_weights():\n",
    "    for i in range(10):\n",
    "        data = np.random.normal(size=(10,15))\n",
    "        c = data[np.random.choice(range(10),5)]\n",
    "        assert all(weight_prob(data, c))>=0\n"
   ]
  },
  {
   "cell_type": "code",
   "execution_count": 7,
   "metadata": {
    "collapsed": false
   },
   "outputs": [
    {
     "name": "stdout",
     "output_type": "stream",
     "text": [
      "Overwriting test_reassign_centroids.py\n"
     ]
    }
   ],
   "source": [
    "%%file test_reassign_centroids.py\n",
    "import numpy as np\n",
    "from kmeans_combined_revised import reassign_centroids, weight_prob\n",
    "\n",
    "def test_more_given_centroids_than_reassigned():\n",
    "    for i in range(10):\n",
    "        data = np.random.normal(size=(1000,15))\n",
    "        c = data[np.random.choice(range(10),15)]\n",
    "        w=weight_prob(data,c)\n",
    "        assert reassign_centroids(c,5,15,w).shape[0]<c.shape[0]"
   ]
  },
  {
   "cell_type": "code",
   "execution_count": 8,
   "metadata": {
    "collapsed": false
   },
   "outputs": [
    {
     "name": "stdout",
     "output_type": "stream",
     "text": [
      "Overwriting test_kmeans.py\n"
     ]
    }
   ],
   "source": [
    "%%file test_kmeans.py\n",
    "import numpy as np\n",
    "from kmeans_combined_revised import kmeans, kmeansparallel\n",
    "\n",
    "def test_kmeans_shape():\n",
    "    for i in range(10):\n",
    "        data = np.random.normal(size=(1000,15))\n",
    "        k=5\n",
    "        d=15\n",
    "        l=10\n",
    "        initial=kmeansparallel(data,k,l,d)\n",
    "        assert kmeans(data,initial,k,d).shape[0]==k\n"
   ]
  },
  {
   "cell_type": "code",
   "execution_count": null,
   "metadata": {
    "collapsed": false
   },
   "outputs": [],
   "source": [
    "from kmeans_combined_revised import kmeans, kmeansparallel\n",
    "data = np.random.normal(size=(1000,15))\n",
    "print(data)\n",
    "k=5\n",
    "d=15\n",
    "l=10\n",
    "i=kmeansparallel(data,k,l,d)\n",
    "kmeans(data,i,k,d)"
   ]
  },
  {
   "cell_type": "code",
   "execution_count": 11,
   "metadata": {
    "collapsed": false
   },
   "outputs": [
    {
     "name": "stdout",
     "output_type": "stream",
     "text": [
      "\u001b[1m============================= test session starts ==============================\u001b[0m\n",
      "platform darwin -- Python 3.5.1, pytest-2.8.1, py-1.4.30, pluggy-0.3.1\n",
      "rootdir: /Users/wsswemily/Desktop/Sta663_Final_Project, inifile: \n",
      "collected 19 items \n",
      "\u001b[0m\n",
      "test_dist_prob_plus.py .\n",
      "test_dist_prob_plus_parallel.py ..\n",
      "test_distance_sq.py .......\n",
      "test_kmeans.py F\n",
      "test_kmeansplusplus.py .\n",
      "test_kmeansplusplus_parallel.py .\n",
      "test_log_cost.py .\n",
      "test_point_sq.py ...\n",
      "test_reassign_centroids.py .\n",
      "test_weights.py .\n",
      "\n",
      "=================================== FAILURES ===================================\n",
      "______________________________ test_kmeans_shape _______________________________\n",
      "\n",
      "\u001b[1m    def test_kmeans_shape():\u001b[0m\n",
      "\u001b[1m        for i in range(10):\u001b[0m\n",
      "\u001b[1m            data = np.random.normal(size=(1000,15))\u001b[0m\n",
      "\u001b[1m            k=5\u001b[0m\n",
      "\u001b[1m            d=15\u001b[0m\n",
      "\u001b[1m            l=10\u001b[0m\n",
      "\u001b[1m            initial=kmeansparallel(data,k,l,d)\u001b[0m\n",
      "\u001b[1m>           assert kmeans(data,initial,k,d).shape[0]==k\u001b[0m\n",
      "\n",
      "test_kmeans.py:11: \n",
      "_ _ _ _ _ _ _ _ _ _ _ _ _ _ _ _ _ _ _ _ _ _ _ _ _ _ _ _ _ _ _ _ _ _ _ _ _ _ _ _ \n",
      "kmeans_combined_revised.py:137: in kmeans\n",
      "\u001b[1m    l= getLabels(dataSet, centroids)\u001b[0m\n",
      "kmeans_combined_revised.py:161: in getLabels\n",
      "\u001b[1m    l.append(np.argmin(list(dist_sq(dataSet[i],c) for c in centroids)))\u001b[0m\n",
      "kmeans_combined_revised.py:161: in <genexpr>\n",
      "\u001b[1m    l.append(np.argmin(list(dist_sq(dataSet[i],c) for c in centroids)))\u001b[0m\n",
      "_ _ _ _ _ _ _ _ _ _ _ _ _ _ _ _ _ _ _ _ _ _ _ _ _ _ _ _ _ _ _ _ _ _ _ _ _ _ _ _ \n",
      "\n",
      "a = array([-1.22338437,  0.52258434, -2.49295657,  0.12647868, -0.81774145,\n",
      "        1.27814801,  0.54512947, -0.50867663, -0.23309849, -0.17775193,\n",
      "       -0.10416284,  0.41900527,  1.27803868, -0.14239928,  1.74140157])\n",
      "b = array([ 0.1480975 , -0.24398276])\n",
      "\n",
      "\u001b[1m    def dist_sq(a, b):\u001b[0m\n",
      "\u001b[1m>       return np.sum((a-b)**2)\u001b[0m\n",
      "\u001b[31m\u001b[1mE       ValueError: operands could not be broadcast together with shapes (15,) (2,)\u001b[0m\n",
      "\n",
      "kmeans_combined_revised.py:8: ValueError\n",
      "\u001b[31m\u001b[1m===================== 1 failed, 18 passed in 4.84 seconds ======================\u001b[0m\n"
     ]
    }
   ],
   "source": [
    "! py.test\n"
   ]
  },
  {
   "cell_type": "code",
   "execution_count": null,
   "metadata": {
    "collapsed": true
   },
   "outputs": [],
   "source": []
  }
 ],
 "metadata": {
  "kernelspec": {
   "display_name": "Python 3",
   "language": "python",
   "name": "python3"
  },
  "language_info": {
   "codemirror_mode": {
    "name": "ipython",
    "version": 3
   },
   "file_extension": ".py",
   "mimetype": "text/x-python",
   "name": "python",
   "nbconvert_exporter": "python",
   "pygments_lexer": "ipython3",
   "version": "3.5.1"
  }
 },
 "nbformat": 4,
 "nbformat_minor": 0
}
