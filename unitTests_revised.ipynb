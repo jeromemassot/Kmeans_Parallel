{
 "cells": [
  {
   "cell_type": "code",
   "execution_count": 1,
   "metadata": {
    "collapsed": false
   },
   "outputs": [
    {
     "name": "stdout",
     "output_type": "stream",
     "text": [
      "Overwriting test_distance_sq.py\n"
     ]
    }
   ],
   "source": [
    "%%file test_distance_sq.py\n",
    "import numpy as np\n",
    "from numpy.testing import assert_almost_equal\n",
    "from kmeans_combined_revised import dist_sq\n",
    "\n",
    "def test_non_negativity():\n",
    "    for i in range(10):\n",
    "        u = np.random.normal(3)\n",
    "        v = np.random.normal(3)\n",
    "        assert dist_sq(u, v) >= 0\n",
    "\n",
    "def test_coincidence_when_zero():\n",
    "    u = np.zeros(3)\n",
    "    v = np.zeros(3)\n",
    "    assert dist_sq(u, v) == 0\n",
    "\n",
    "def test_coincidence_when_not_zero():\n",
    "     for i in range(10):\n",
    "        u = np.random.random(3)\n",
    "        v = np.zeros(3)\n",
    "        assert dist_sq(u, v) != 0\n",
    "\n",
    "def test_symmetry():\n",
    "    for i in range(10):\n",
    "        u = np.random.random(3)\n",
    "        v = np.random.random(3)\n",
    "        assert dist_sq(u, v) == dist_sq(v, u)\n",
    "\n",
    "def test_known1():\n",
    "    u = np.array([0])\n",
    "    v = np.array([3])\n",
    "    assert_almost_equal(dist_sq(u, v), 9)\n",
    "\n",
    "def test_known2():\n",
    "    u = np.array([0,0])\n",
    "    v = np.array([3, 4])\n",
    "    assert_almost_equal(dist_sq(u, v), 25)\n",
    "\n",
    "def test_known3():\n",
    "    u = np.array([0,0])\n",
    "    v = np.array([-3, -4])\n",
    "    assert_almost_equal(dist_sq(u, v), 25)"
   ]
  },
  {
   "cell_type": "code",
   "execution_count": 2,
   "metadata": {
    "collapsed": false
   },
   "outputs": [
    {
     "name": "stdout",
     "output_type": "stream",
     "text": [
      "Overwriting test_point_sq.py\n"
     ]
    }
   ],
   "source": [
    "%%file test_point_sq.py\n",
    "from kmeans_combined_revised import point_sq\n",
    "import numpy as np\n",
    "from numpy.testing import assert_almost_equal\n",
    "\n",
    "\n",
    "def test_non_negativity_p():\n",
    "    for i in range(10):\n",
    "        data = np.random.normal(size=(10,15))\n",
    "        c = data[np.random.choice(range(10),5)]\n",
    "        assert (all(point_sq(data, c)) >= 0)\n",
    "\n",
    "def test_coincidence_when_zero_p():\n",
    "    for i in range(10):\n",
    "        data = np.random.normal(size=(10,15))\n",
    "        c = data\n",
    "        assert (all(point_sq(data,c)) == 0)\n",
    "\n",
    "def test_more_centers_less_point_sq():\n",
    "    for i in range(10):\n",
    "        data = np.random.normal(size=(10,15))\n",
    "        c_more = data[np.random.choice(range(5),4),]\n",
    "        c=c_more[:3]\n",
    "        assert (all(point_sq(c_more, data)) <= all(point_sq(c, data)))"
   ]
  },
  {
   "cell_type": "code",
   "execution_count": 11,
   "metadata": {
    "collapsed": false
   },
   "outputs": [
    {
     "name": "stdout",
     "output_type": "stream",
     "text": [
      "Overwriting test_dist_prob_plus_parallel.py\n"
     ]
    }
   ],
   "source": [
    "%%file test_dist_prob_plus_parallel.py\n",
    "from kmeans_combined_revised import dist_prob_plus, dist_prob_parallel\n",
    "import numpy as np\n",
    "from numpy.testing import assert_almost_equal\n",
    "\n",
    "def test_prob_sum_to_1():\n",
    "    for i in range(10):\n",
    "        data=np.random.random(size=10).tolist()\n",
    "        l=4\n",
    "        assert_almost_equal(sum(dist_prob_plus(data)),1) and assert_almost_equal(sum(dist_prob_parallel(data,l)),1)\n",
    "\n",
    "def test_all_positive():\n",
    "    for i in range(10):\n",
    "        data=np.random.random(size=10).tolist()\n",
    "        l=4\n",
    "        assert all(dist_prob_plus(data))>=0 and all(dist_prob_parallel(data,l))\n",
    "\n"
   ]
  },
  {
   "cell_type": "code",
   "execution_count": 18,
   "metadata": {
    "collapsed": false
   },
   "outputs": [
    {
     "name": "stdout",
     "output_type": "stream",
     "text": [
      "Overwriting test_log_cost.py\n"
     ]
    }
   ],
   "source": [
    "%%file test_log_cost.py\n",
    "import numpy as np\n",
    "from kmeans_combined_revised import log_cost\n",
    "\n",
    "def test_all_positive_log_cost():\n",
    "    for i in range(10):\n",
    "        data = np.random.normal(size=(10,15))\n",
    "        c = data[np.random.choice(range(10),5)]\n",
    "        assert log_cost(data, c)>0\n",
    "\n",
    "    "
   ]
  },
  {
   "cell_type": "code",
   "execution_count": 19,
   "metadata": {
    "collapsed": false
   },
   "outputs": [
    {
     "name": "stdout",
     "output_type": "stream",
     "text": [
      "Overwriting test_kmeansplusplus.py\n"
     ]
    }
   ],
   "source": [
    "%%file test_kmeansplusplus.py\n",
    "\n",
    "from kmeans_combined_revised import kmeansplusplus\n",
    "import numpy as np\n",
    "from numpy.testing import assert_almost_equal\n",
    "\n",
    "def test_samplesize_is_k():\n",
    "    for i in range(10):\n",
    "        data = np.random.normal(size=(100,15))\n",
    "        k=10\n",
    "        d=15\n",
    "        assert_almost_equal(kmeansplusplus(data, k, d).shape[0], k)\n",
    "        \n",
    "        "
   ]
  },
  {
   "cell_type": "code",
   "execution_count": 20,
   "metadata": {
    "collapsed": false
   },
   "outputs": [
    {
     "name": "stdout",
     "output_type": "stream",
     "text": [
      "\u001b[1m============================= test session starts ==============================\u001b[0m\n",
      "platform darwin -- Python 3.5.1, pytest-2.8.1, py-1.4.30, pluggy-0.3.1\n",
      "rootdir: /Users/wsswemily/Desktop/Sta663_Final_Project, inifile: \n",
      "collected 15 items \n",
      "\u001b[0m\n",
      "test_dist_prob_plus.py .\n",
      "test_dist_prob_plus_parallel.py ..\n",
      "test_distance_sq.py .......\n",
      "test_kmeansplusplus.py .\n",
      "test_log_cost.py .\n",
      "test_point_sq.py ...\n",
      "\n",
      "\u001b[32m\u001b[1m========================== 15 passed in 1.14 seconds ===========================\u001b[0m\n"
     ]
    }
   ],
   "source": [
    "! py.test\n"
   ]
  },
  {
   "cell_type": "code",
   "execution_count": null,
   "metadata": {
    "collapsed": true
   },
   "outputs": [],
   "source": []
  }
 ],
 "metadata": {
  "kernelspec": {
   "display_name": "Python 3",
   "language": "python",
   "name": "python3"
  },
  "language_info": {
   "codemirror_mode": {
    "name": "ipython",
    "version": 3
   },
   "file_extension": ".py",
   "mimetype": "text/x-python",
   "name": "python",
   "nbconvert_exporter": "python",
   "pygments_lexer": "ipython3",
   "version": "3.5.1"
  }
 },
 "nbformat": 4,
 "nbformat_minor": 0
}
