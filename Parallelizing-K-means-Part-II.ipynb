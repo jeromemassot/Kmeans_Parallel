{
 "cells": [
  {
   "cell_type": "markdown",
   "metadata": {},
   "source": [
    "---------------------------------------------------"
   ]
  },
  {
   "cell_type": "markdown",
   "metadata": {},
   "source": [
    "<h1 style=\"text-align: center;\" markdown=\"1\">Big Data, Big Problems–Parallelizing Kmeans</h1>"
   ]
  },
  {
   "cell_type": "markdown",
   "metadata": {},
   "source": [
    "-----------"
   ]
  },
  {
   "cell_type": "markdown",
   "metadata": {},
   "source": [
    "<center> **Reuben McCreanor and Emily (Wei) Shao** <center>"
   ]
  },
  {
   "cell_type": "markdown",
   "metadata": {},
   "source": [
    "<h3 style=\"text-align: center;\" markdown=\"1\">Abstract</h3>"
   ]
  },
  {
   "cell_type": "markdown",
   "metadata": {},
   "source": [
    "K-means is a data-partitioning algorithm that separates n observations into k partitions. Due to its simplicity of implementation, its easy interpretability, and its ability to categorize data based on desired features, it remains one of the most popular algorithms in fields of statistics and machine learning. However, the key issue with k-means comes from its efficiency and scalability. As the size of datasets continues to increase, implementing k-means on data of any magnitude becomes computationally infeasible. A recently proposed variation of k-means, k-means++, provides a robust method of selecting the initial centers, essentially giving an optimal solution. However, due to the number of passes over the data required in a naive implementation, even clusters a million data points into 100 partitions would be exceedingly slow. In order to combat this, a parallelized version of k-means++ is proposed, k-means $||$. This version uses an over-sampling factor $\\ell$ to dramatically reduce the number of passes while still arriving at an equivalent solution of partitions. This paper will implement k-means++ and k-means$||$ in both sequential and parallel setting and compare the results both in terms of efficiency and equivalency of partition arrangements."
   ]
  },
  {
   "cell_type": "markdown",
   "metadata": {},
   "source": [
    "### 1 Introduction"
   ]
  },
  {
   "cell_type": "markdown",
   "metadata": {},
   "source": [
    "In general, clustering is a means of grouping observations into a set such that the other observations in this set are more similar to each other than to those in other sets. Starting with a data set, we use the use the k-means algorithm to define which observations are most similar to each other, and thus categorize these n observations into k distinct groups."
   ]
  },
  {
   "cell_type": "code",
   "execution_count": 11,
   "metadata": {
    "collapsed": false
   },
   "outputs": [
    {
     "data": {
      "image/png": "[encoded data removed]",
      "text/plain": [
       "<matplotlib.figure.Figure at 0x10c6aec88>"
      ]
     },
     "execution_count": 11,
     "metadata": {},
     "output_type": "execute_result"
    }
   ],
   "source": [
    "fig"
   ]
  },
  {
   "cell_type": "markdown",
   "metadata": {},
   "source": [
    "In the example above, we can observe that data can be clustered into three partitions based on the similarity between observations. In industry, a common application of clusters is in market segmentation. Taking the example of a retailer, k-means clustering can be used as a means to understand their total addressable market. Given that their total market is comprised of people from many different incomes, locations, and type of consumers, clustering allows them to understand which groups are most similar based on these attributes and thus designing targeted marketing campaigns for each distinct group."
   ]
  },
  {
   "cell_type": "markdown",
   "metadata": {},
   "source": [
    "With these kinds of applications, k-means is both a useful and wide-reaching algorithm, however, there are two key issues with its implementation. In general, the k-means algorithm works by taking some initial centroid locations, often done by picking points at random from that data set. Each observation is then assignment the closest centroid and then the centroids are recomputed by calculating the mean of the observations assigned to it. This process is repeated until the algorithm converges, which is often measured define as none of observations changing cluster assignments within an iteration."
   ]
  },
  {
   "cell_type": "markdown",
   "metadata": {},
   "source": [
    "The key issue with this process is that the overall clustering assignment is heavily dependent on the initial centroids. Given that the k-means algorithm often gets stuck in local minima, it does not make sense to simply randomly pick the initial centroids. K-mean++ provides a solution to this problem by selecting centroids at the beginning of the process that approximate the optimal solution. "
   ]
  },
  {
   "cell_type": "markdown",
   "metadata": {},
   "source": [
    "In terms of the quality and consistency of the clustering arrangements, k-means++ is a remarkable solution. However, because the process involves looping through multiple centroid configurations in order to find the optimal one, this solution is not scalable for large data sets. To solve this problem, the k-means$||$ algorithm uses a sampling factor $\\ell$ to dramatically reduce the number of passes while still arriving at an equivalent solution. The k-means$||$ algorithm is able to obtain a close to optimal solution after a logarithmic number of passes. This dramatically increases the efficiency of the algorithm and allows us to implement an optimal version of k-means clustering even of large data sets."
   ]
  },
  {
   "cell_type": "markdown",
   "metadata": {},
   "source": [
    "### 2 K-means++"
   ]
  },
  {
   "cell_type": "markdown",
   "metadata": {},
   "source": [
    "#### 2.1 Overview"
   ]
  },
  {
   "cell_type": "markdown",
   "metadata": {},
   "source": [
    "The k-means++ algorithm addresses the problem of suboptimal clustering arrangements by creating a procedure with which to select the inital cluster centers.  With the k-means++ initialization, we are guaranteed to find a solution that is $O(\\log k)$ competitive to the optimal k-means solution.\n",
    "\n",
    "In k-means++, the centers are first chosen uniformly at random from the observations. Then, each subsequent cluster center is chosen from the remaining data points with probability proportional to its squared distance from the point's closest existing cluster center. The intuition behind this approach is that spreading out the k initial cluster centers is a good thing, and this approach allows us to choose inital center points that are not only consistent, but approximate the optimal solution. After this point we can then proceed with the standard approach for k-means clustering."
   ]
  },
  {
   "cell_type": "markdown",
   "metadata": {},
   "source": [
    "#### 2.2 Pseudo code"
   ]
  },
  {
   "cell_type": "markdown",
   "metadata": {},
   "source": [
    "Step 1: $\\textit{C}$ $\\leftarrow$ Sample a point uniformly at random from dataset X to form initial centroids;\n",
    "\n",
    "Step 2-4: For j in range(k-1):\n",
    "    \n",
    "  a. Compute square distance: $d^2(x,C)=min||x-c_i||^2$ for $i=1,2...n$, with n=number of data points in X;\n",
    "\n",
    "  b. Compute sampling probability for each point in X with probability= $\\frac{d^2(x,C)}{\\phi(X(c))}$, where $\\phi(X(c))=\\sum_{x\\in X}d^2(x,C)$;\n",
    "  \n",
    "  c. Sample x $\\in$ X with probability= $\\frac{d^2(x,C)}{\\phi(X(c))}$;\n",
    "  \n",
    "  d. Include x as one of the initial centroids $\\textit{C}$ $\\leftarrow$ $\\textit{C} \\cup \\{x\\}$ ;\n",
    "\n",
    "Step 5: End loop after the initial centroids are chosen. \n",
    "\n",
    "Step 6: Use the initial centroids to perform standard k-means clustering.\n"
   ]
  },
  {
   "cell_type": "markdown",
   "metadata": {},
   "source": [
    "#### 2.3 Implementation"
   ]
  },
  {
   "cell_type": "markdown",
   "metadata": {},
   "source": []
  },
  {
   "cell_type": "markdown",
   "metadata": {},
   "source": [
    "### 3 K-means$||$"
   ]
  },
  {
   "cell_type": "markdown",
   "metadata": {},
   "source": [
    "#### 3.1 Overview"
   ]
  },
  {
   "cell_type": "markdown",
   "metadata": {},
   "source": [
    "While k-means++ provides an approximately optimal soltion, it also needs k passes over the data and thus is not scalable to large data sets. To address this problem, k-means$||$ is a parallel version for initializing the centers for the k-means clustering method. "
   ]
  },
  {
   "cell_type": "markdown",
   "metadata": {},
   "source": [
    "The k-means$||$ algorithm is intuitively similar to k-means++ except that it uses of an oversampling factor $l = \\Omega(k)$, and some linear function of $k$. By instead using k-means$||$, we are able to obtain a nearly optimal solution after only a logarithmic number of passes. In  k-means$||$, we sample a point uniformly at random from our observations as an initial center and compute the cost of this clustering center. "
   ]
  },
  {
   "cell_type": "markdown",
   "metadata": {},
   "source": [
    "At each iteration, we then sample each observation in the data set with some probability, and update the given cluster se by adding the sampled points. According to the sampling probability, the expected number of points sampled in each iteration is $l$. Thus, finally the expected number of points we sampled is $l$log$\\psi$, which will be greater than k. Thus, finally, we reduce the number of centers and assign weights to the points in the current cluster according to the number of observations which are closer to the given center than any other center."
   ]
  },
  {
   "cell_type": "markdown",
   "metadata": {},
   "source": [
    "#### 3.2 Pseudo code"
   ]
  },
  {
   "cell_type": "markdown",
   "metadata": {},
   "source": [
    "Step 1: $\\textit{C}$ $\\leftarrow$ Sample a point uniformly at random from dataset X to form initial centroids;\n",
    "\n",
    "Step 2: \n",
    "\n",
    "a. Calculate initial cost $\\psi$ $\\leftarrow$ $\\phi(x(C))$, where $\\phi(X(c))=\\sum_{x\\in X}d^2(x,C)$\n",
    "\n",
    "b. Calculate number of iterations $O(log(\\psi))$= int$(log(\\psi))$;\n",
    "\n",
    "for r in round(an integer value that states the number of rounds to perform step 3-6 for large dataset):\n",
    "\n",
    "Step 3-6:\n",
    "\n",
    "a. $\\textit{C'}$\n",
    "\n"
   ]
  },
  {
   "cell_type": "markdown",
   "metadata": {},
   "source": [
    "#### 3.3 Implementation"
   ]
  },
  {
   "cell_type": "markdown",
   "metadata": {},
   "source": [
    "### 4 Testing"
   ]
  },
  {
   "cell_type": "markdown",
   "metadata": {},
   "source": [
    "#### 4.1 Function 1"
   ]
  },
  {
   "cell_type": "markdown",
   "metadata": {},
   "source": [
    "ADD TEXT HERE"
   ]
  },
  {
   "cell_type": "markdown",
   "metadata": {},
   "source": [
    "### 5 Optimization"
   ]
  },
  {
   "cell_type": "markdown",
   "metadata": {},
   "source": [
    "#### 5.1 Numba"
   ]
  },
  {
   "cell_type": "markdown",
   "metadata": {},
   "source": [
    "ADD TEXT HERE"
   ]
  },
  {
   "cell_type": "markdown",
   "metadata": {},
   "source": [
    "#### 5.2 Cython"
   ]
  },
  {
   "cell_type": "markdown",
   "metadata": {},
   "source": [
    "ADD TEXT HERE"
   ]
  },
  {
   "cell_type": "markdown",
   "metadata": {},
   "source": [
    "#### 5.3 Parallelization"
   ]
  },
  {
   "cell_type": "markdown",
   "metadata": {},
   "source": [
    "As k-means is often talked about as an embarrassingly parallelizable algorithm--meaning that the clustering can be worked on in different partitions at the same time--there are large gains in optimization to be made. The authors Bahmani et al. recommend that for 6 clusters, the optimal number of machines m is defined by $m =\\sqrt{\\frac{n}{k}}$, this would be that in our case we should ideally be using 40 partitions. While we do not have anything close this amount of resources, there are still significant gains to be made, even in a local parallelization on a 4 core machine."
   ]
  },
  {
   "cell_type": "markdown",
   "metadata": {},
   "source": [
    "In order to parallelize our implementation of k-means$||$, we first try a multicore approach. While this yields some gains, it is not as effective as we would like due to the fact that only some of our functions lend themselves to an MC implementation."
   ]
  },
  {
   "cell_type": "markdown",
   "metadata": {},
   "source": [
    "Instead, we are able to significantly improve on this by using an ipyparallel approach with 4 cores. In doing this we achieve a total run time of 20something seconds. This is faster than both the k-means++ and the Numba implementation of k-means$||$."
   ]
  },
  {
   "cell_type": "markdown",
   "metadata": {},
   "source": [
    "#### 5.4 Comparsions of Efficiency"
   ]
  },
  {
   "cell_type": "markdown",
   "metadata": {},
   "source": [
    "ADD TEXT HERE"
   ]
  },
  {
   "cell_type": "markdown",
   "metadata": {},
   "source": [
    "### 6 Data"
   ]
  },
  {
   "cell_type": "markdown",
   "metadata": {},
   "source": [
    "#### 6.1 Data simulation"
   ]
  },
  {
   "cell_type": "markdown",
   "metadata": {},
   "source": [
    "To generate the dataset,\n",
    "we sampled k centers from a 15-dimensional spherical Gaussian\n",
    "distribution with mean at the origin and variance R ∈\n",
    "{1, 10, 100}. We then added points from Gaussian distributions\n",
    "of unit variance around each center. Given the k centers,\n",
    "this is a mixture of k spherical Gaussians with equal\n",
    "weights. Note that the Gaussians are separated in terms\n",
    "of probability mass — even if only marginally for the case\n",
    "R = 1 — and therefore the value of the optimal k-clustering\n",
    "can be well approximated using the centers of these Gaussians.\n",
    "The number of sampled points from this mixture of\n",
    "Gaussians is n = 10, 000."
   ]
  },
  {
   "cell_type": "markdown",
   "metadata": {},
   "source": [
    "#### 6.2 Real world data"
   ]
  },
  {
   "cell_type": "markdown",
   "metadata": {},
   "source": [
    "The real world dataset in NYCBoroughs.csv contains latitude and longitude of three boroughs of New York City: Bronx, Brooklyn, and Staten Island. The dataset includes 150,000 observations with 50,000 observations for each borough, which serves as a big data problem. The three boroughs are geographically well separated, therefore, we tested each algorithm applying number of clusters equal to three. "
   ]
  },
  {
   "cell_type": "markdown",
   "metadata": {},
   "source": [
    "### 7 Results"
   ]
  },
  {
   "cell_type": "markdown",
   "metadata": {},
   "source": [
    "ADD TEXT HERE"
   ]
  },
  {
   "cell_type": "markdown",
   "metadata": {},
   "source": [
    "### 7 Conclusions"
   ]
  },
  {
   "cell_type": "markdown",
   "metadata": {},
   "source": [
    "### Appendix"
   ]
  },
  {
   "cell_type": "markdown",
   "metadata": {},
   "source": [
    "#### Code for visualizations"
   ]
  },
  {
   "cell_type": "code",
   "execution_count": 12,
   "metadata": {
    "collapsed": false
   },
   "outputs": [
    {
     "data": {
      "image/png": "[encoded data removed]",
      "text/plain": [
       "<matplotlib.figure.Figure at 0x10c6094e0>"
      ]
     },
     "metadata": {},
     "output_type": "display_data"
    }
   ],
   "source": [
    "from sklearn import cluster\n",
    "from matplotlib import pyplot\n",
    "import numpy as np\n",
    "\n",
    "# load iris data and exclude species column\n",
    "iris = sns.load_dataset(\"iris\").ix[:, 0:3]\n",
    "# set number of clusters #\n",
    "k = 3\n",
    "kmeans = cluster.KMeans(n_clusters=k)\n",
    "kmeans.fit(iris)\n",
    "labels = kmeans.labels_\n",
    "centroids = kmeans.cluster_centers_\n",
    "from matplotlib import pyplot\n",
    "import numpy as np\n",
    "\n",
    "from matplotlib import pyplot\n",
    "import numpy as np\n",
    "plt.scatter(iris.ix[:,1], iris.ix[:,2], c=labels)\n",
    "fig = plt.gcf()"
   ]
  },
  {
   "cell_type": "code",
   "execution_count": null,
   "metadata": {
    "collapsed": true
   },
   "outputs": [],
   "source": []
  }
 ],
 "metadata": {
  "celltoolbar": "Raw Cell Format",
  "kernelspec": {
   "display_name": "Python 3",
   "language": "python",
   "name": "python3"
  },
  "language_info": {
   "codemirror_mode": {
    "name": "ipython",
    "version": 3
   },
   "file_extension": ".py",
   "mimetype": "text/x-python",
   "name": "python",
   "nbconvert_exporter": "python",
   "pygments_lexer": "ipython3",
   "version": "3.5.1"
  }
 },
 "nbformat": 4,
 "nbformat_minor": 0
}
