{
 "cells": [
  {
   "cell_type": "code",
   "execution_count": null,
   "metadata": {
    "collapsed": true
   },
   "outputs": [],
   "source": [
    "%%file simulatedData.py\n",
    "\n",
    "import os\n",
    "import numpy as np\n",
    "import pandas as pd\n",
    "import random\n",
    "\n",
    "# set seed for reproducibility\n",
    "random.seed(32)\n",
    "\n",
    "#Data simulation - mixture of 3 binary normal distribution\n",
    "##distribution mean & covariance\n",
    "mean1 = np.array([3,5])\n",
    "mean2 = np.array([-2,3])\n",
    "mean3 = np.array([-6,-1])\n",
    "cov1 = np.array([[1,0],[0,2]])\n",
    "cov2 = np.array([[1,-0.6],[-0.6,1]])\n",
    "cov3 = np.array([[3,0.3],[0.3,1]])\n",
    "\n",
    "n = 2000\n",
    "N = 3*n\n",
    "data = np.vstack((np.random.multivariate_normal(mean1, cov1,n),np.random.multivariate_normal(mean2, cov2,n),\n",
    "                  np.random.multivariate_normal(mean3, cov3,n)))\n",
    "data = data[np.random.choice(range(N),size = N, replace=False),]\n",
    "df = pd.DataFrame(data,columns=[\"X\",\"Y\"])\n",
    "df.index = pd.Index(range(N))\n",
    "\n",
    "#Save simluated data as csv file\n",
    "df.to_csv('SimData.csv', index=False)"
   ]
  }
 ],
 "metadata": {
  "kernelspec": {
   "display_name": "Python 3",
   "language": "python",
   "name": "python3"
  },
  "language_info": {
   "codemirror_mode": {
    "name": "ipython",
    "version": 3
   },
   "file_extension": ".py",
   "mimetype": "text/x-python",
   "name": "python",
   "nbconvert_exporter": "python",
   "pygments_lexer": "ipython3",
   "version": "3.5.1"
  }
 },
 "nbformat": 4,
 "nbformat_minor": 0
}
