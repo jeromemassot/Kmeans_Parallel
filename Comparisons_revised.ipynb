{
 "cells": [
  {
   "cell_type": "code",
   "execution_count": 26,
   "metadata": {
    "collapsed": false
   },
   "outputs": [],
   "source": [
    "import kmeans_combined_revised, simulatedData, time\n",
    "from kmeans_combined_revised import kmeansplusplus, kmeansparallel, kmeans\n",
    "from simulatedData import generate_data\n",
    "\n",
    "\n"
   ]
  },
  {
   "cell_type": "code",
   "execution_count": 35,
   "metadata": {
    "collapsed": false
   },
   "outputs": [
    {
     "data": {
      "text/plain": [
       "array([[-2.14838773, -0.2633887 , -0.49821907, ...,  1.03409302,\n",
       "         1.61503977,  0.97133414],\n",
       "       [ 1.33594651, -0.51966662, -0.89920492, ...,  1.48862498,\n",
       "        -0.75018261, -0.45887326],\n",
       "       [ 0.50012471,  1.3292707 , -1.02077966, ...,  0.61863794,\n",
       "        -1.02505497, -1.5782509 ],\n",
       "       ..., \n",
       "       [ 0.50703875,  0.22581425,  2.36016058, ..., -0.09777885,\n",
       "        -1.23833354, -1.41333935],\n",
       "       [ 0.83696809, -1.64143642,  1.44469558, ...,  0.61236207,\n",
       "         1.97956224,  0.83077656],\n",
       "       [ 0.09693613,  1.18505513,  0.93147577, ..., -2.14432162,\n",
       "         1.77613604,  4.61195676]])"
      ]
     },
     "execution_count": 35,
     "metadata": {},
     "output_type": "execute_result"
    }
   ],
   "source": [
    "#test on simulated data\n",
    "k=50\n",
    "R=1\n",
    "d=15\n",
    "l=100\n",
    "data=generate_data(10,R)\n",
    "data"
   ]
  },
  {
   "cell_type": "code",
   "execution_count": 28,
   "metadata": {
    "collapsed": false
   },
   "outputs": [
    {
     "name": "stdout",
     "output_type": "stream",
     "text": [
      "1 loop, best of 3: 1min 19s per loop\n"
     ]
    }
   ],
   "source": [
    "%timeit kmeansplusplus(data,k,d)"
   ]
  },
  {
   "cell_type": "code",
   "execution_count": 37,
   "metadata": {
    "collapsed": false
   },
   "outputs": [
    {
     "name": "stdout",
     "output_type": "stream",
     "text": [
      "1 loop, best of 3: 10.1 s per loop\n"
     ]
    }
   ],
   "source": [
    "%timeit kmeansparallel(data,6,l,d)"
   ]
  },
  {
   "cell_type": "markdown",
   "metadata": {},
   "source": [
    "Optimization method 1:\n",
    "\n",
    "Import kmeans_numba module"
   ]
  },
  {
   "cell_type": "code",
   "execution_count": 12,
   "metadata": {
    "collapsed": true
   },
   "outputs": [],
   "source": [
    "import kmeans_Numba_revised"
   ]
  },
  {
   "cell_type": "code",
   "execution_count": 13,
   "metadata": {
    "collapsed": false
   },
   "outputs": [
    {
     "name": "stdout",
     "output_type": "stream",
     "text": [
      "CPU times: user 3 µs, sys: 0 ns, total: 3 µs\n",
      "Wall time: 6.91 µs\n"
     ]
    },
    {
     "data": {
      "text/plain": [
       "array([[ -2.97283554e+00,   6.12885988e-01,  -2.05040807e+00,\n",
       "         -5.94865655e-01,  -2.87283443e+00,   1.16661429e+00,\n",
       "          8.07584677e-01,  -1.91555481e-01,   1.18299289e+00,\n",
       "          1.20485396e+00,   1.31029273e+00,  -2.91787795e-01,\n",
       "          1.61872655e+00,   5.99805421e-01,   5.67789582e-01],\n",
       "       [ -2.23076786e-01,   1.30752385e-01,  -7.10183824e-01,\n",
       "         -8.24215849e-02,   2.94371382e+00,   7.51694524e-01,\n",
       "          1.11803847e+00,  -1.83682286e+00,  -9.00866530e-01,\n",
       "         -1.04806766e+00,   1.73895864e+00,  -2.31896811e+00,\n",
       "         -3.79518977e-01,   3.15507732e+00,   2.15207890e+00],\n",
       "       [ -1.22610010e+00,   1.60597273e-01,  -2.43843318e+00,\n",
       "         -9.94233562e-01,  -1.15978382e+00,   1.01685908e+00,\n",
       "          3.79675546e+00,   1.54319134e+00,   1.05134976e+00,\n",
       "          1.86108270e+00,   1.56123537e+00,  -1.08632521e+00,\n",
       "          1.38465551e+00,   4.84920714e-01,   6.39446900e-01],\n",
       "       [  8.59003104e-01,   1.03490951e+00,  -3.26725267e+00,\n",
       "          2.55664385e+00,   1.79471429e-01,   2.66403995e+00,\n",
       "          1.30852085e+00,   4.17959071e-01,  -3.40114135e-01,\n",
       "          1.31761321e+00,   1.57748065e+00,  -8.71361165e-01,\n",
       "         -9.02309344e-01,  -2.47157743e+00,   2.10279338e+00],\n",
       "       [  3.91993614e-01,   1.08942426e+00,   5.97977214e-01,\n",
       "          1.96437489e-01,  -5.53660635e-01,  -5.82328407e-01,\n",
       "         -3.05937247e+00,  -8.36979922e-01,  -1.15543609e+00,\n",
       "          1.23453683e+00,   2.02798657e+00,  -2.84604763e+00,\n",
       "          1.21913621e+00,  -1.14974459e+00,   5.82641737e-01],\n",
       "       [  3.21334875e+00,   1.20645106e-01,  -5.95944974e-01,\n",
       "          2.43728739e+00,   3.79442613e-01,  -4.34761198e-01,\n",
       "          1.69308247e+00,  -1.25963330e+00,  -6.89116832e-01,\n",
       "         -2.62562406e+00,  -6.43246906e-01,   5.83269561e-01,\n",
       "         -3.14868195e-01,   1.08114490e+00,  -2.85627990e-01],\n",
       "       [ -5.38592121e-01,  -1.18566284e+00,   1.28757372e+00,\n",
       "          2.03212627e+00,  -2.55488685e+00,   2.81916033e+00,\n",
       "          1.50514323e+00,   2.68216895e-01,   1.24960689e+00,\n",
       "          3.42627142e-01,   1.04621054e+00,   1.06565720e-01,\n",
       "         -1.43504656e+00,  -1.27621392e+00,   1.76507218e+00],\n",
       "       [ -1.43842366e+00,   1.84556941e+00,  -1.24991600e+00,\n",
       "          1.79900828e+00,   4.97907991e-01,  -9.00354513e-01,\n",
       "         -1.32223590e+00,  -5.42629883e-01,  -2.13223156e+00,\n",
       "         -4.85025568e-04,  -9.89521628e-01,   3.37789388e+00,\n",
       "          1.92103848e+00,  -1.30709862e+00,   2.57615199e+00],\n",
       "       [ -1.09136229e+00,  -9.09664558e-01,  -1.13781718e+00,\n",
       "         -1.04784554e+00,  -2.30287584e+00,  -1.17351898e+00,\n",
       "          1.95092575e+00,  -6.19863095e-01,   6.87884797e-02,\n",
       "         -3.20644004e-01,   5.09984761e-01,   1.67235520e+00,\n",
       "          2.02556683e+00,   1.53903355e+00,  -1.02841558e-01],\n",
       "       [ -6.11345354e-01,   1.44366512e+00,  -3.67287318e-01,\n",
       "          2.92159075e-01,   9.78871305e-01,  -1.89074144e+00,\n",
       "         -7.40327145e-01,  -1.99816579e+00,  -7.95111257e-01,\n",
       "          6.17947422e-01,   1.41550545e-01,   6.51715392e-01,\n",
       "          3.12975142e+00,  -1.76479811e-01,   2.85803195e+00]])"
      ]
     },
     "execution_count": 13,
     "metadata": {},
     "output_type": "execute_result"
    }
   ],
   "source": [
    "%time\n",
    "initial_3= kmeans_Numba_revised.kmeansparallel(data,10,10,15)\n",
    "initial_3"
   ]
  },
  {
   "cell_type": "markdown",
   "metadata": {
    "collapsed": true
   },
   "source": [
    "Optimization method 2:\n",
    "\n",
    "Import kmeansCython module"
   ]
  },
  {
   "cell_type": "code",
   "execution_count": 9,
   "metadata": {
    "collapsed": false
   },
   "outputs": [
    {
     "name": "stdout",
     "output_type": "stream",
     "text": [
      "The Cython extension is already loaded. To reload it, use:\n",
      "  %reload_ext Cython\n"
     ]
    }
   ],
   "source": [
    "%load_ext Cython"
   ]
  },
  {
   "cell_type": "code",
   "execution_count": 15,
   "metadata": {
    "collapsed": false
   },
   "outputs": [],
   "source": [
    "%%cython\n",
    "import numpy as np\n",
    "cimport numpy as np\n",
    "import pandas as pd\n",
    "from pandas import DataFrame\n",
    "import math\n",
    "\n",
    "#distance square\n",
    "def dist_sq_c(a, b):\n",
    "    return np.sum((a-b)**2)\n",
    "#minimum distance square for every point to the centroid\n",
    "def point_sq_c(data,centroid):\n",
    "    dist=[]\n",
    "    for i in range(data.shape[0]):\n",
    "        dist.append(min(dist_sq_c(data[i],c) for c in centroid))\n",
    "    return dist\n",
    "        \n",
    "\n",
    "#calculate probability\n",
    "def dist_prob_parallel_c(Dist,l):\n",
    "    return l*Dist/np.sum(Dist)\n",
    "\n",
    "\n",
    "#step 2: calculate the cost and number of iterations(log(cost))\n",
    "def log_cost_c(data_copy,centroid):\n",
    "    cost=np.sum(point_sq_c(data_copy,centroid))\n",
    "    iteration=math.ceil(np.log(cost))\n",
    "    return iteration\n",
    "\n",
    "    \n",
    "    \n",
    "#calculate weights\n",
    "#step 4: assign the weights\n",
    "def weight_prob_c(data_copy, centroid):\n",
    "    w_size=centroid.shape[0]\n",
    "    w=np.zeros(w_size)\n",
    "    for i in range(data_copy.shape[0]):\n",
    "        index_w=np.argmin(list(dist_sq_c(data_copy[i],c) for c in centroid))\n",
    "        w[index_w]=w[index_w]+1\n",
    "    return w\n",
    "\n",
    "\n",
    "\n",
    "#step 5: recluster the weighted points in C into k clusters\n",
    "#reinitialize k centroids\n",
    "def reassign_centroids_c(centroid,k,d,w):\n",
    "    new_centroid=np.zeros([k,d])\n",
    "    for cluster in range(k):\n",
    "        #according to the weights from step 4, calculate the probability that a point is sampled from C\n",
    "        prob_w=list(w/sum(w))\n",
    "        #sample a new centroid\n",
    "        new_index=np.random.choice(centroid.shape[0],1,prob_w)\n",
    "        #store the new centroid\n",
    "        new_centroid[cluster]=centroid[new_index]\n",
    "        #delete the new centroid from the centroid\n",
    "        centroid=np.delete(centroid,new_index,axis=0)\n",
    "        #delete the correponding weight\n",
    "        w=np.delete(w,new_index,axis=0)\n",
    "    return new_centroid\n",
    "\n",
    "\n",
    "def kmeansparallel_c(data, k, l, d):\n",
    "    #step 1: sample a point uniformly at random from X\n",
    "    index=int(np.random.choice(data.shape[0],1))\n",
    "    centroid=np.array(data[index])\n",
    "    data_copy=data.copy()\n",
    "    data_copy=np.delete(data_copy,index,axis=0)\n",
    "    \n",
    "    #step 2: calculate number of iteration\n",
    "    iteration= log_cost_c(data_copy,centroid)\n",
    "    \n",
    "    #step 3: Get initial Centroids C\n",
    "    for number in range(iteration):\n",
    "        #calculate phi_X(C)\n",
    "        distance=point_sq_c(data_copy,centroid)\n",
    "        #calculate the probability\n",
    "        prob=dist_prob_parallel_c(distance,l).tolist()\n",
    "        for n in range(data_copy.shape[0]):\n",
    "            #if the probability is greater than the random uniform\n",
    "            if prob[n]>np.random.uniform():\n",
    "                #add the point to C\n",
    "                centroid=np.vstack([centroid,np.array(data_copy[n])])\n",
    "                #delete that point from the copy\n",
    "                data_copy=np.delete(data_copy,n,axis=0)\n",
    "    \n",
    "    #step 4: calculate the weight probability\n",
    "    w=weight_prob_c(data_copy,centroid)\n",
    "    \n",
    "    #step 5: recluster the weighted points in C into k clusters\n",
    "    #reinitialize k centroids\n",
    "    new_centroids=reassign_centroids_c(centroid,k,d,w)\n",
    "    \n",
    "    return new_centroids\n",
    "\n",
    "    \n",
    "#with the initialization of the centroids from the function kmeansplusplus\n",
    "#plug in the original data(dataSet), initializtions(initial) and the dimension of the data(d)\n",
    "def kmeans_c(dataSet, initial, k, d):\n",
    "    centroids=initial\n",
    "    # Initialize book keeping vars.\n",
    "    iterations = 0\n",
    "    oldCentroids = np.zeros(initial.shape)\n",
    "    \n",
    "    # Run the main k-means algorithm\n",
    "    while not shouldStop_c(oldCentroids, centroids, iterations):\n",
    "        # Save old centroids for convergence test. Book keeping.\n",
    "        oldCentroids = centroids\n",
    "        iterations += 1\n",
    "        \n",
    "        # Assign labels to each datapoint based on centroids\n",
    "        l= getLabels_c(dataSet, centroids)\n",
    "        \n",
    "        # Assign centroids based on datapoint labels\n",
    "        centroids = getCentroids_c(dataSet, l, k, d)\n",
    "        \n",
    "    # We can get the labels too by calling getLabels(dataSet, centroids)\n",
    "    return centroids, np.array(l)\n",
    "# Function: Should Stop\n",
    "# -------------\n",
    "# Returns True or False if k-means is done. K-means terminates either\n",
    "# because it has run a maximum number of iterations OR the centroids\n",
    "# stop changing.\n",
    "def shouldStop_c(oldCentroids, centroids, iterations):\n",
    "    if iterations > 50: return True\n",
    "    return oldCentroids.all == centroids.all\n",
    "# Function: Get Labels\n",
    "# -------------\n",
    "# Returns a label for each piece of data in the dataset. \n",
    "def getLabels_c(dataSet, centroids):\n",
    "    # For each element in the dataset, chose the closest centroid. \n",
    "    # Make that centroid the element's label.\n",
    "    l=[]\n",
    "    for i in range(dataSet.shape[0]):\n",
    "        #arg min as the label\n",
    "        l.append(np.argmin(list(dist_sq_c(dataSet[i],c) for c in centroids)))\n",
    "    return l\n",
    "# Function: Get Centroids\n",
    "# -------------\n",
    "# Returns k random centroids, each of dimension n.\n",
    "def getCentroids_c(dataSet, labels, k, d):\n",
    "    # Each centroid is the arithmetic mean of the points that\n",
    "    # have that centroid's label. Important: If a centroid is empty (no points have\n",
    "    # that centroid's label) you should randomly re-initialize it.\n",
    "    data_new = DataFrame(dataSet.copy())\n",
    "    data_new['Labels'] = labels\n",
    "    data_new = np.array(data_new.groupby(['Labels']).mean().iloc[:,:d])\n",
    "    # if a centroid is empty, reinitialize it \n",
    "    if len(np.unique(labels))<k:\n",
    "        diff=k-len(np.unique(labels))\n",
    "        data_new=np.vstack([data_new,np.random.random([diff,d])])    \n",
    "    return data_new"
   ]
  },
  {
   "cell_type": "code",
   "execution_count": 17,
   "metadata": {
    "collapsed": false
   },
   "outputs": [
    {
     "name": "stdout",
     "output_type": "stream",
     "text": [
      "CPU times: user 3 µs, sys: 1 µs, total: 4 µs\n",
      "Wall time: 6.91 µs\n"
     ]
    },
    {
     "data": {
      "text/plain": [
       "array([[ -7.05594099e-01,   1.52862527e+00,   1.49703714e+00,\n",
       "         -6.09101002e-01,  -5.38510730e-01,   1.48150513e+00,\n",
       "         -1.33389044e+00,   1.84757783e+00,  -8.99483656e-01,\n",
       "          1.13351606e+00,  -7.31482268e-01,  -6.02266027e-02,\n",
       "         -2.48307630e+00,  -3.56453513e-01,   4.03727512e-01],\n",
       "       [ -9.93919905e-02,  -3.53303794e-01,   1.05408032e+00,\n",
       "         -4.98714839e-01,  -2.82748490e+00,  -1.03186749e+00,\n",
       "          2.10768746e+00,  -1.68080260e+00,   3.41034105e-01,\n",
       "          1.37805843e+00,  -6.27243668e-02,   4.66947348e-01,\n",
       "          5.27202657e-01,  -1.12528293e-01,  -8.77264353e-02],\n",
       "       [ -1.10978872e+00,   1.85303916e+00,   1.75615171e+00,\n",
       "          1.17032893e+00,   9.53215205e-01,  -9.83039623e-01,\n",
       "          8.18520824e-01,   1.28759836e+00,  -6.88572450e-01,\n",
       "         -3.84618203e-01,  -4.65957466e-01,  -4.29954447e-01,\n",
       "          9.19388164e-01,   9.41094550e-01,   8.96015344e-01],\n",
       "       [  8.61825914e-01,  -7.37077683e-01,   1.42312101e+00,\n",
       "         -6.11910345e-01,   1.22790526e+00,   2.54469857e+00,\n",
       "         -5.59674917e-01,   8.05903330e-02,  -1.54878935e+00,\n",
       "         -3.30362959e-01,   2.66612543e+00,   5.91478571e-01,\n",
       "          3.00736429e-01,  -9.34971025e-01,   1.19725716e+00],\n",
       "       [ -8.11213011e-01,  -1.40935211e+00,  -2.15199204e+00,\n",
       "          1.25040502e+00,  -5.03295391e-01,  -2.78674801e+00,\n",
       "         -5.42706548e-01,   6.10200334e-01,   1.77080865e+00,\n",
       "         -1.16052288e+00,  -9.44186651e-01,   3.49173358e+00,\n",
       "          9.13877229e-01,   9.48344321e-01,  -1.07271247e+00],\n",
       "       [ -4.60405708e-01,  -2.07984573e+00,  -2.85326490e+00,\n",
       "          3.87864986e-01,  -2.51141959e+00,  -1.97361533e+00,\n",
       "         -1.34129904e-01,  -2.88281821e+00,   2.31756590e-01,\n",
       "          8.99723063e-01,  -7.84644308e-01,   1.67326297e+00,\n",
       "         -3.22067625e-01,   2.74707014e+00,   8.29766249e-01],\n",
       "       [ -9.54751916e-01,   9.15443746e-04,   9.64055884e-01,\n",
       "          6.87830401e-01,  -2.52137788e+00,   1.01598753e+00,\n",
       "          2.79220652e+00,  -2.30582437e+00,  -6.63181364e-01,\n",
       "          2.01075265e-01,  -1.78535930e+00,  -7.92988246e-01,\n",
       "          2.63327513e+00,   1.95275680e+00,  -3.36861265e-01],\n",
       "       [  5.79662577e-02,   4.55644323e-01,   1.89583906e+00,\n",
       "         -2.58927053e-01,   1.03733765e+00,   9.62832586e-01,\n",
       "         -1.63129833e+00,   3.38979703e-01,  -6.20013831e-01,\n",
       "          1.94341211e+00,  -2.28232533e+00,  -3.83909930e+00,\n",
       "         -3.54819006e+00,   2.55320361e+00,   2.21597219e-01],\n",
       "       [  1.56832849e+00,  -1.31362685e+00,  -2.23159260e+00,\n",
       "          4.84512158e-01,   1.23294511e+00,  -2.01279394e-01,\n",
       "          1.82674953e+00,   1.23839063e+00,  -8.20298561e-01,\n",
       "         -1.63395317e+00,  -1.49130539e-01,  -2.19364409e+00,\n",
       "         -9.94631772e-01,   1.10573475e+00,  -4.07360992e-01],\n",
       "       [  2.79703619e+00,  -2.77378850e+00,  -3.50222449e+00,\n",
       "          3.49191220e+00,   2.63613150e+00,  -1.56981980e+00,\n",
       "         -1.04148992e+00,  -1.85127488e+00,  -1.58369814e+00,\n",
       "          3.23487473e-01,   1.45231889e+00,  -1.26494210e+00,\n",
       "          1.57269545e-01,  -3.97683305e-01,   4.57849697e-01]])"
      ]
     },
     "execution_count": 17,
     "metadata": {},
     "output_type": "execute_result"
    }
   ],
   "source": [
    "%time\n",
    "initial_4= kmeansparallel_c(data,10,10,15)\n",
    "initial_4"
   ]
  },
  {
   "cell_type": "code",
   "execution_count": null,
   "metadata": {
    "collapsed": true
   },
   "outputs": [],
   "source": []
  }
 ],
 "metadata": {
  "kernelspec": {
   "display_name": "Python 3",
   "language": "python",
   "name": "python3"
  },
  "language_info": {
   "codemirror_mode": {
    "name": "ipython",
    "version": 3
   },
   "file_extension": ".py",
   "mimetype": "text/x-python",
   "name": "python",
   "nbconvert_exporter": "python",
   "pygments_lexer": "ipython3",
   "version": "3.5.1"
  }
 },
 "nbformat": 4,
 "nbformat_minor": 0
}
