{
 "cells": [
  {
   "cell_type": "code",
   "execution_count": 1,
   "metadata": {
    "collapsed": false
   },
   "outputs": [],
   "source": [
    "import kmeans_combined\n",
    "\n"
   ]
  },
  {
   "cell_type": "code",
   "execution_count": 2,
   "metadata": {
    "collapsed": true
   },
   "outputs": [],
   "source": [
    "#test \n",
    "data=np.array(DataFrame([np.random.random(10000),np.random.random(10000)]).transpose())"
   ]
  },
  {
   "cell_type": "code",
   "execution_count": 3,
   "metadata": {
    "collapsed": false
   },
   "outputs": [
    {
     "name": "stdout",
     "output_type": "stream",
     "text": [
      "CPU times: user 3 µs, sys: 1e+03 ns, total: 4 µs\n",
      "Wall time: 6.91 µs\n"
     ]
    },
    {
     "data": {
      "text/plain": [
       "(array([[ 0.16129586,  0.8330828 ],\n",
       "        [ 0.48873952,  0.77677808],\n",
       "        [ 0.16744315,  0.14724451],\n",
       "        [ 0.21129196,  0.48924279],\n",
       "        [ 0.82401592,  0.83883441],\n",
       "        [ 0.49376972,  0.24655601],\n",
       "        [ 0.82866347,  0.16021566],\n",
       "        [ 0.79624906,  0.50393582]]), array([2, 0, 7, ..., 5, 5, 5]))"
      ]
     },
     "execution_count": 3,
     "metadata": {},
     "output_type": "execute_result"
    }
   ],
   "source": [
    "%time\n",
    "initial_1= kmeans_combined.kmeansplusplus(data,8,2)\n",
    "kmeans_combined.kmeans(data, initial_1,2)"
   ]
  },
  {
   "cell_type": "code",
   "execution_count": 5,
   "metadata": {
    "collapsed": false
   },
   "outputs": [
    {
     "name": "stdout",
     "output_type": "stream",
     "text": [
      "CPU times: user 3 µs, sys: 1e+03 ns, total: 4 µs\n",
      "Wall time: 5.96 µs\n"
     ]
    },
    {
     "data": {
      "text/plain": [
       "(array([[ 0.80099646,  0.50114319],\n",
       "        [ 0.16406196,  0.83569843],\n",
       "        [ 0.82627491,  0.15700418],\n",
       "        [ 0.16969085,  0.14610732],\n",
       "        [ 0.49339953,  0.25129603],\n",
       "        [ 0.82297521,  0.83880471],\n",
       "        [ 0.48924438,  0.77018762],\n",
       "        [ 0.20429114,  0.4891405 ]]), array([3, 1, 0, ..., 4, 4, 4]))"
      ]
     },
     "execution_count": 5,
     "metadata": {},
     "output_type": "execute_result"
    }
   ],
   "source": [
    "%time\n",
    "initial_2= kmeans_combined.kmeansparallel(data,8,10,2)\n",
    "kmeans_combined.kmeans(data, initial_2,2)"
   ]
  },
  {
   "cell_type": "code",
   "execution_count": null,
   "metadata": {
    "collapsed": true
   },
   "outputs": [],
   "source": []
  }
 ],
 "metadata": {
  "kernelspec": {
   "display_name": "Python 3",
   "language": "python",
   "name": "python3"
  },
  "language_info": {
   "codemirror_mode": {
    "name": "ipython",
    "version": 3
   },
   "file_extension": ".py",
   "mimetype": "text/x-python",
   "name": "python",
   "nbconvert_exporter": "python",
   "pygments_lexer": "ipython3",
   "version": "3.5.1"
  }
 },
 "nbformat": 4,
 "nbformat_minor": 0
}
