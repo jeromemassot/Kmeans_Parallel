{
 "cells": [
  {
   "cell_type": "code",
   "execution_count": 1,
   "metadata": {
    "collapsed": false
   },
   "outputs": [],
   "source": [
    "import kmeans_plusplus\n",
    "import kmeans\n",
    "import kmeans_parallel\n"
   ]
  },
  {
   "cell_type": "code",
   "execution_count": 2,
   "metadata": {
    "collapsed": true
   },
   "outputs": [],
   "source": [
    "#test \n",
    "data=np.array(DataFrame([np.random.random(10000),np.random.random(10000)]).transpose())"
   ]
  },
  {
   "cell_type": "code",
   "execution_count": 9,
   "metadata": {
    "collapsed": false
   },
   "outputs": [
    {
     "name": "stdout",
     "output_type": "stream",
     "text": [
      "CPU times: user 3 µs, sys: 0 ns, total: 3 µs\n",
      "Wall time: 5.01 µs\n"
     ]
    },
    {
     "data": {
      "text/plain": [
       "(array([[ 0.20645493,  0.85914291],\n",
       "        [ 0.17353532,  0.16861052],\n",
       "        [ 0.49920094,  0.2277433 ],\n",
       "        [ 0.83061989,  0.15707222],\n",
       "        [ 0.80504423,  0.85486585],\n",
       "        [ 0.81811681,  0.49985593],\n",
       "        [ 0.17836739,  0.51626564],\n",
       "        [ 0.50654205,  0.70568153]]), array([6, 7, 7, ..., 3, 4, 1]))"
      ]
     },
     "execution_count": 9,
     "metadata": {},
     "output_type": "execute_result"
    }
   ],
   "source": [
    "%time\n",
    "initial_1= kmeans_plusplus.kmeansplusplus(data,8,2)\n",
    "kmeans.kmeans(data, initial_1,2)"
   ]
  },
  {
   "cell_type": "code",
   "execution_count": 11,
   "metadata": {
    "collapsed": false
   },
   "outputs": [
    {
     "name": "stdout",
     "output_type": "stream",
     "text": [
      "CPU times: user 2 µs, sys: 0 ns, total: 2 µs\n",
      "Wall time: 5.96 µs\n"
     ]
    },
    {
     "data": {
      "text/plain": [
       "(array([[ 0.78777032,  0.5024788 ],\n",
       "        [ 0.51489759,  0.78726019],\n",
       "        [ 0.16666698,  0.17634931],\n",
       "        [ 0.5029635 ,  0.21683138],\n",
       "        [ 0.1748594 ,  0.84405463],\n",
       "        [ 0.84152381,  0.84177845],\n",
       "        [ 0.22389816,  0.51625567],\n",
       "        [ 0.83871693,  0.16395474]]), array([6, 1, 1, ..., 7, 5, 2]))"
      ]
     },
     "execution_count": 11,
     "metadata": {},
     "output_type": "execute_result"
    }
   ],
   "source": [
    "%time\n",
    "initial_2= kmeans_parallel.kmeansparallel(data,8,8,2)\n",
    "kmeans.kmeans(data, initial_2,2)"
   ]
  },
  {
   "cell_type": "code",
   "execution_count": null,
   "metadata": {
    "collapsed": true
   },
   "outputs": [],
   "source": []
  }
 ],
 "metadata": {
  "kernelspec": {
   "display_name": "Python 3",
   "language": "python",
   "name": "python3"
  },
  "language_info": {
   "codemirror_mode": {
    "name": "ipython",
    "version": 3
   },
   "file_extension": ".py",
   "mimetype": "text/x-python",
   "name": "python",
   "nbconvert_exporter": "python",
   "pygments_lexer": "ipython3",
   "version": "3.5.1"
  }
 },
 "nbformat": 4,
 "nbformat_minor": 0
}
