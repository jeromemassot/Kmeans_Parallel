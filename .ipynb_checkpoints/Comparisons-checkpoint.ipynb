
{
 "cells": [
  {
   "cell_type": "code",
   "execution_count": 1,
   "metadata": {
    "collapsed": false
   },
   "outputs": [],
   "source": [
    "import kmeans_combined\n",
    "\n"
   ]
  },
  {
   "cell_type": "code",
   "execution_count": 2,
   "metadata": {
    "collapsed": true
   },
   "outputs": [],
   "source": [
    "#test \n",
    "data=np.array(DataFrame([np.random.random(10000),np.random.random(10000)]).transpose())"
   ]
  },
  {
   "cell_type": "code",
   "execution_count": 3,
   "metadata": {
    "collapsed": false
   },
   "outputs": [
    {
     "name": "stdout",
     "output_type": "stream",
     "text": [
      "CPU times: user 3 µs, sys: 0 ns, total: 3 µs\n",
      "Wall time: 7.15 µs\n"
     ]
    },
    {
     "data": {
      "text/plain": [
       "(array([[ 0.8104018 ,  0.15216807],\n",
       "        [ 0.81676479,  0.48479324],\n",
       "        [ 0.16561389,  0.17164619],\n",
       "        [ 0.84068882,  0.83918509],\n",
       "        [ 0.17668308,  0.85394635],\n",
       "        [ 0.1924092 ,  0.51833383],\n",
       "        [ 0.51399331,  0.75997569],\n",
       "        [ 0.48828927,  0.27521947]]), array([7, 7, 1, ..., 6, 1, 3]))"
      ]
     },
     "execution_count": 3,
     "metadata": {},
     "output_type": "execute_result"
    }
   ],
   "source": [
    "%time\n",
    "initial_1= kmeans_combined.kmeansplusplus(data,8,2)\n",
    "kmeans_combined.kmeans(data, initial_1,2)"
   ]
  },
  {
   "cell_type": "code",
   "execution_count": 4,
   "metadata": {
    "collapsed": false
   },
   "outputs": [
    {
     "name": "stdout",
     "output_type": "stream",
     "text": [
      "CPU times: user 3 µs, sys: 1 µs, total: 4 µs\n",
      "Wall time: 7.15 µs\n"
     ]
    },
    {
     "data": {
      "text/plain": [
       "(array([[ 0.84048096,  0.8404864 ],\n",
       "        [ 0.5145032 ,  0.76071296],\n",
       "        [ 0.1665022 ,  0.1714346 ],\n",
       "        [ 0.80649267,  0.15243615],\n",
       "        [ 0.48626376,  0.28116097],\n",
       "        [ 0.17727638,  0.85563857],\n",
       "        [ 0.81931261,  0.48644355],\n",
       "        [ 0.190606  ,  0.52081028]]), array([4, 4, 6, ..., 1, 6, 0]))"
      ]
     },
     "execution_count": 4,
     "metadata": {},
     "output_type": "execute_result"
    }
   ],
   "source": [
    "%time\n",
    "initial_2= kmeans_combined.kmeansparallel(data,8,10,2)\n",
    "kmeans_combined.kmeans(data, initial_2,2)"
   ]
  },
  {
   "cell_type": "markdown",
   "metadata": {},
   "source": [
    "Optimization method 1:\n",
    "\n",
    "Import kmeans_numba module"
   ]
  },
  {
   "cell_type": "code",
   "execution_count": 7,
   "metadata": {
    "collapsed": false
   },
   "outputs": [
    {
     "name": "stdout",
     "output_type": "stream",
     "text": [
      "CPU times: user 3 µs, sys: 1e+03 ns, total: 4 µs\n",
      "Wall time: 5.96 µs\n"
     ]
    },
    {
     "data": {
      "text/plain": [
       "(array([[ 0.77830876,  0.49854253],\n",
       "        [ 0.50575824,  0.79565052],\n",
       "        [ 0.4998742 ,  0.20593481],\n",
       "        [ 0.84646046,  0.83542312],\n",
       "        [ 0.8383152 ,  0.17248676],\n",
       "        [ 0.25216187,  0.50748512],\n",
       "        [ 0.15919534,  0.83628863],\n",
       "        [ 0.14692149,  0.19029283]]), array([2, 2, 0, ..., 0, 0, 3]))"
      ]
     },
     "execution_count": 7,
     "metadata": {},
     "output_type": "execute_result"
    }
   ],
   "source": [
    "%time\n",
    "import kmeans_Numba\n",
    "initial_3= kmeans_Numba.kmeansplusplus(data,8,10)\n",
    "kmeans_Numba.kmeans(data, initial_3,2)"
   ]
  },
  {
   "cell_type": "code",
   "execution_count": 8,
   "metadata": {
    "collapsed": false
   },
   "outputs": [
    {
     "name": "stdout",
     "output_type": "stream",
     "text": [
      "CPU times: user 3 µs, sys: 0 ns, total: 3 µs\n",
      "Wall time: 6.91 µs\n"
     ]
    },
    {
     "data": {
      "text/plain": [
       "(array([[ 0.77701301,  0.49786539],\n",
       "        [ 0.8383152 ,  0.17248676],\n",
       "        [ 0.49860418,  0.19944363],\n",
       "        [ 0.50546874,  0.80089959],\n",
       "        [ 0.26562914,  0.5066533 ],\n",
       "        [ 0.14364678,  0.19641541],\n",
       "        [ 0.84680163,  0.83457314],\n",
       "        [ 0.15665105,  0.83078981]]), array([2, 2, 0, ..., 0, 0, 6]))"
      ]
     },
     "execution_count": 8,
     "metadata": {},
     "output_type": "execute_result"
    }
   ],
   "source": [
    "%time\n",
    "initial_4= kmeans_Numba.kmeansparallel(data,8,10,2)\n",
    "kmeans_Numba.kmeans(data, initial_4,2)"
   ]
  },
  {
   "cell_type": "code",
   "execution_count": null,
   "metadata": {
    "collapsed": true
   },
   "outputs": [],
   "source": []
  }
 ],
 "metadata": {
  "kernelspec": {
   "display_name": "Python 3",
   "language": "python",
   "name": "python3"
  },
  "language_info": {
   "codemirror_mode": {
    "name": "ipython",
    "version": 3
   },
   "file_extension": ".py",
   "mimetype": "text/x-python",
   "name": "python",
   "nbconvert_exporter": "python",
   "pygments_lexer": "ipython3",
   "version": "3.5.1"
  }
 },
 "nbformat": 4,
 "nbformat_minor": 0
}
