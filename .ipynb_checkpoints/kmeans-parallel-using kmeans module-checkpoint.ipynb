{
 "cells": [
  {
   "cell_type": "code",
   "execution_count": 1,
   "metadata": {
    "collapsed": true
   },
   "outputs": [],
   "source": [
    "#distance square\n",
    "def dist_sq(a, b):\n",
    "    return np.sum((a-b)**2)\n",
    "#minimum distance square for every point to the centroid\n",
    "def point_sq(data,centroid):\n",
    "    dist=[]\n",
    "    for i in range(data.shape[0]):\n",
    "        dist.append(min(dist_sq(data[i],c) for c in centroid))\n",
    "    return dist\n",
    "        \n",
    "#calculate probability\n",
    "def dist_prob(Dist,l):\n",
    "    return l*Dist/np.sum(Dist)"
   ]
  },
  {
   "cell_type": "code",
   "execution_count": 2,
   "metadata": {
    "collapsed": false
   },
   "outputs": [],
   "source": [
    "import math\n",
    "def kmeansparallel(data, k, l, d):\n",
    "    #step 1: sample a point uniformly at random from X\n",
    "    index=int(np.random.choice(data.shape[0],1))\n",
    "    centroid=np.array(data[index])\n",
    "    data_copy=data.copy()\n",
    "    data_copy=np.delete(data_copy,index,axis=0)\n",
    "    \n",
    "    #step 2: calculate the cost and number of iterations(log(cost))\n",
    "    cost=np.sum(point_sq(data_copy,centroid))\n",
    "    iteration=math.ceil(np.log(cost))\n",
    "    \n",
    "    #step 3\n",
    "    for number in range(iteration):\n",
    "        #calculate phi_X(C)\n",
    "        distance=point_sq(data_copy,centroid)\n",
    "        #calculate the probability\n",
    "        prob=dist_prob(distance,l).tolist()\n",
    "        for n in range(data_copy.shape[0]):\n",
    "            #if the probability is greater than the random uniform\n",
    "            if prob[n]>np.random.uniform():\n",
    "                #add the point to C\n",
    "                centroid=np.vstack([centroid,np.array(data_copy[n])])\n",
    "                #delete that point from the copy\n",
    "                data_copy=np.delete(data_copy,n,axis=0)\n",
    "    \n",
    "    #step 4: assign the weights\n",
    "    weight_size=centroid.shape[0]\n",
    "    weight=np.zeros(weight_size)\n",
    "    for i in range(data_copy.shape[0]):\n",
    "        index_w=np.argmin(list(dist_sq(data_copy[i],c) for c in centroid))\n",
    "        weight[index_w]=weight[index_w]+1\n",
    "    \n",
    "    #step 5: recluster the weighted points in C into k clusters\n",
    "    #reinitialize k centroids\n",
    "    new_centroids=np.zeros([k,d])\n",
    "    for cluster in range(k):\n",
    "        #according to the weights from step 4, calculate the probability that a point is sampled from C\n",
    "        prob_w=list(weight/sum(weight))\n",
    "        #sample a new centroid\n",
    "        new_index=np.random.choice(centroid.shape[0],1,prob_w)\n",
    "        #store the new centroid\n",
    "        new_centroids[cluster]=centroid[new_index]\n",
    "        #delete the new centroid from the centroid\n",
    "        centroid=np.delete(centroid,new_index,axis=0)\n",
    "        #delete the correponding weight\n",
    "        weight=np.delete(weight,new_index,axis=0)\n",
    "    return new_centroids\n",
    "\n",
    "    "
   ]
  },
  {
   "cell_type": "code",
   "execution_count": 5,
   "metadata": {
    "collapsed": true
   },
   "outputs": [],
   "source": [
    "#test \n",
    "data=np.array(DataFrame([np.random.random(10000),np.random.random(10000)]).transpose())\n"
   ]
  },
  {
   "cell_type": "code",
   "execution_count": 7,
   "metadata": {
    "collapsed": false
   },
   "outputs": [],
   "source": [
    "initial=kmeansparallel(data, 8, 10, 2)\n"
   ]
  },
  {
   "cell_type": "code",
   "execution_count": 8,
   "metadata": {
    "collapsed": false
   },
   "outputs": [
    {
     "data": {
      "text/plain": [
       "(array([[ 0.82209035,  0.50865725],\n",
       "        [ 0.48987348,  0.20097367],\n",
       "        [ 0.16730267,  0.16131551],\n",
       "        [ 0.23525564,  0.86392558],\n",
       "        [ 0.76591887,  0.85741675],\n",
       "        [ 0.49136744,  0.60614578],\n",
       "        [ 0.15751098,  0.52601307],\n",
       "        [ 0.83147731,  0.16996845]]), array([6, 2, 2, ..., 3, 1, 2]))"
      ]
     },
     "execution_count": 8,
     "metadata": {},
     "output_type": "execute_result"
    }
   ],
   "source": [
    "import kmeans\n",
    "kmeans.kmeans(data,initial,2)"
   ]
  },
  {
   "cell_type": "code",
   "execution_count": null,
   "metadata": {
    "collapsed": true
   },
   "outputs": [],
   "source": []
  }
 ],
 "metadata": {
  "kernelspec": {
   "display_name": "Python 3",
   "language": "python",
   "name": "python3"
  },
  "language_info": {
   "codemirror_mode": {
    "name": "ipython",
    "version": 3
   },
   "file_extension": ".py",
   "mimetype": "text/x-python",
   "name": "python",
   "nbconvert_exporter": "python",
   "pygments_lexer": "ipython3",
   "version": "3.5.1"
  }
 },
 "nbformat": 4,
 "nbformat_minor": 0
}
