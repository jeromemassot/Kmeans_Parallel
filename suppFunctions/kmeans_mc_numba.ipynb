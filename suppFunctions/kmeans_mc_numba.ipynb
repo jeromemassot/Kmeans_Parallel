{
 "cells": [
  {
   "cell_type": "code",
   "execution_count": 129,
   "metadata": {
    "collapsed": false
   },
   "outputs": [
    {
     "name": "stdout",
     "output_type": "stream",
     "text": [
      "Writing kmeans_mc_numba.py\n"
     ]
    }
   ],
   "source": [
    "\n",
    "%%file kmeans_mc_numba.py\n",
    "import numpy as np\n",
    "import pandas as pd\n",
    "import numba, math\n",
    "from numba import jit\n",
    "from pandas import DataFrame\n",
    "from multiprocessing import Pool, cpu_count\n",
    "from functools import partial\n",
    "\n",
    "\n",
    "@jit\n",
    "#distance square\n",
    "def dist_sq(a, b):\n",
    "    return np.sum((a-b)**2)\n",
    "\n",
    "\n",
    "#minimum distance square for every point to the centroid\n",
    "def point_sq(data,centroid):\n",
    "    dist=[min(dist_sq(d,c) for c in centroid) for d in data]\n",
    "    return dist\n",
    "        \n",
    "#calculate probability\n",
    "def dist_prob_plus(Dist):\n",
    "    return Dist/np.sum(Dist)\n",
    "\n",
    "#calculate probability\n",
    "def dist_prob_parallel(Dist,l):\n",
    "    return l*Dist/np.sum(Dist)\n",
    "\n",
    "\n",
    "#step 2: calculate the cost and number of iterations(log(cost))\n",
    "def log_cost_mc(data_copy,centroid):\n",
    "    pool = Pool(processes=cpu_count())\n",
    "    # use partial function\n",
    "    min_dist_sq = partial(point_sq,centroid)\n",
    "    cost = np.sum(pool.map(min_dist_sq, data_copy))\n",
    "    iteration=math.ceil(np.log(cost))\n",
    "    pool.close()\n",
    "    pool.terminate()\n",
    "    return iteration\n",
    "\n",
    "    \n",
    "    \n",
    "#calculate weights\n",
    "#step 4: assign the weights\n",
    "def weight_prob(data_copy, centroid):\n",
    "    weight=[np.argmin(list(dist_sq(d,c) for c in centroid)) for d in data_copy]\n",
    "    w=np.array([weight.count(i) for i in range(len(data_copy))])\n",
    "    return w\n",
    "\n",
    "\n",
    "\n",
    "#step 5: recluster the weighted points in C into k clusters\n",
    "#reinitialize k centroids\n",
    "def reassign_centroids(centroid,k,d,w):\n",
    "    new_centroid=np.zeros([k,d])\n",
    "    for cluster in range(k):\n",
    "        #according to the weights from step 4, calculate the probability that a point is sampled from C\n",
    "        prob_w=list(w/sum(w))\n",
    "        #sample a new centroid\n",
    "        new_index=np.random.choice(centroid.shape[0],1,prob_w)\n",
    "        #store the new centroid\n",
    "        new_centroid[cluster]=centroid[new_index]\n",
    "        #delete the new centroid from the centroid\n",
    "        centroid=np.delete(centroid,new_index,axis=0)\n",
    "        #delete the correponding weight\n",
    "        w=np.delete(w,new_index,axis=0)\n",
    "    return new_centroid\n",
    "\n",
    "\n",
    "def kmeansplusplus(data, k, d):\n",
    "    #make a copy of the data\n",
    "    data_copy=data.copy()\n",
    "    #step 1: sample a point uniformly at random from x\n",
    "    index=int(np.random.choice(data_copy.shape[0],1))\n",
    "    centroid=data_copy[index]\n",
    "    #once the centroid is determined, delete it from the copy \n",
    "    data_copy=np.delete(data_copy,index,axis=0)\n",
    "    #step 2: while c<k, sample x from X with probability d^2/phi_x(C)\n",
    "    for number in range(k-1):\n",
    "        #calculate the square difference for every point in the copy to its nearest center\n",
    "        distance=point_sq(data_copy,centroid)\n",
    "        #calculate the probability\n",
    "        prob=dist_prob_plus(distance).tolist()\n",
    "        #randomly sample another centroid\n",
    "        index=int(np.random.choice(data_copy.shape[0],1,prob))\n",
    "        #add the new centroid\n",
    "        centroid=np.vstack([centroid,data_copy[index]])\n",
    "        #delete the new centroid from the copy\n",
    "        data_copy=np.delete(data_copy,index,axis=0)\n",
    "    return centroid\n",
    "\n",
    "\n",
    "\n",
    "def kmeansparallel(data, k, l, d, r):\n",
    "    #step 1: sample a point uniformly at random from X\n",
    "    index=int(np.random.choice(data.shape[0],1))\n",
    "    centroid=np.array(data[index])\n",
    "    data_copy=data.copy()\n",
    "    data_copy=np.delete(data_copy,index,axis=0)\n",
    "    \n",
    "    #step 2: calculate number of iteration\n",
    "    iteration= log_cost_mc(data_copy,centroid)\n",
    "    \n",
    "    #step 3: Get initial Centroids C\n",
    "    #step 3: Get initial Centroids C\n",
    "    for round in range(r):\n",
    "        for number in range(iteration):\n",
    "        #calculate phi_X(C)\n",
    "            distance=point_sq(data_copy,centroid)\n",
    "        #calculate the probability\n",
    "            prob=dist_prob_parallel(distance,l).tolist()\n",
    "            for n in range(data_copy.shape[0]):\n",
    "            #if the probability is greater than the random uniform\n",
    "                if prob[n]>np.random.uniform():\n",
    "                #add the point to C\n",
    "                    centroid=np.vstack([centroid,np.array(data_copy[n])])\n",
    "                #delete that point from the copy\n",
    "                    data_copy=np.delete(data_copy,n,axis=0)\n",
    "    \n",
    "    #step 4: calculate the weight probability\n",
    "    w=weight_prob(data_copy,centroid)\n",
    "    \n",
    "    #step 5: recluster the weighted points in C into k clusters\n",
    "    #reinitialize k centroids\n",
    "    new_centroids=reassign_centroids(centroid,k,d,w)\n",
    "    \n",
    "    return new_centroids\n",
    "\n",
    "    \n",
    "#with the initialization of the centroids from the function kmeansplusplus\n",
    "#plug in the original data(dataSet), initializtions(initial) and the dimension of the data(d)\n",
    "def kmeans(dataSet, initial, k, d):\n",
    "    centroids=initial\n",
    "    # Initialize book keeping vars.\n",
    "    iterations = 0\n",
    "    oldCentroids = np.zeros(initial.shape)\n",
    "    \n",
    "    # Run the main k-means algorithm\n",
    "    while not shouldStop(oldCentroids, centroids, iterations):\n",
    "        # Save old centroids for convergence test. Book keeping.\n",
    "        oldCentroids = centroids\n",
    "        iterations += 1\n",
    "        \n",
    "        # Assign labels to each datapoint based on centroids\n",
    "        l= getLabels(dataSet, centroids)\n",
    "        \n",
    "        # Assign centroids based on datapoint labels\n",
    "        centroids = getCentroids(dataSet, l, k, d)\n",
    "        \n",
    "    # We can get the labels too by calling getLabels(dataSet, centroids)\n",
    "    return centroids, np.array(l)\n",
    "# Function: Should Stop\n",
    "# -------------\n",
    "# Returns True or False if k-means is done. K-means terminates either\n",
    "# because it has run a maximum number of iterations OR the centroids\n",
    "# stop changing.\n",
    "def shouldStop(oldCentroids, centroids, iterations):\n",
    "    if iterations > 50: return True\n",
    "    return oldCentroids.all == centroids.all\n",
    "# Function: Get Labels\n",
    "# -------------\n",
    "# Returns a label for each piece of data in the dataset. \n",
    "def getLabels(dataSet, centroids):\n",
    "    # For each element in the dataset, chose the closest centroid. \n",
    "    # Make that centroid the element's label.\n",
    "    \n",
    "    l=[np.argmin(list(dist_sq(d,c) for c in centroids)) for d in dataSet]\n",
    "    return l\n",
    "# Function: Get Centroids\n",
    "# -------------\n",
    "# Returns k random centroids, each of dimension n.\n",
    "def getCentroids(dataSet, labels, k, d):\n",
    "    # Each centroid is the arithmetic mean of the points that\n",
    "    # have that centroid's label. Important: If a centroid is empty (no points have\n",
    "    data_new = DataFrame(dataSet.copy())\n",
    "    data_new['Labels'] = labels\n",
    "    data_new = np.array(data_new.groupby(['Labels']).mean().iloc[:,:d])\n",
    "  \n",
    "    return data_new\n",
    "    "
   ]
  },
  {
   "cell_type": "code",
   "execution_count": 130,
   "metadata": {
    "collapsed": true
   },
   "outputs": [],
   "source": [
    "import simulatedData\n",
    "from simulatedData import generate_data"
   ]
  },
  {
   "cell_type": "code",
   "execution_count": 131,
   "metadata": {
    "collapsed": true
   },
   "outputs": [],
   "source": [
    "sim_data_k4 = generate_data(k=6, var=100, dim=2, npoints=10000)\n",
    "k = 6\n",
    "l=k*2\n",
    "d = 2\n",
    "r = 1\n"
   ]
  },
  {
   "cell_type": "code",
   "execution_count": 1,
   "metadata": {
    "collapsed": false
   },
   "outputs": [
    {
     "ename": "NameError",
     "evalue": "name 'kmeansparallel' is not defined",
     "output_type": "error",
     "traceback": [
      "\u001b[0;31m---------------------------------------------------------------------------\u001b[0m",
      "\u001b[0;31mNameError\u001b[0m                                 Traceback (most recent call last)",
      "\u001b[0;32m<ipython-input-1-cb5dd4b81f47>\u001b[0m in \u001b[0;36m<module>\u001b[0;34m()\u001b[0m\n\u001b[0;32m----> 1\u001b[0;31m \u001b[0mc\u001b[0m\u001b[0;34m=\u001b[0m\u001b[0mkmeansparallel\u001b[0m\u001b[0;34m(\u001b[0m\u001b[0msim_data_k4\u001b[0m\u001b[0;34m,\u001b[0m \u001b[0mk\u001b[0m\u001b[0;34m,\u001b[0m \u001b[0ml\u001b[0m\u001b[0;34m,\u001b[0m \u001b[0md\u001b[0m\u001b[0;34m,\u001b[0m \u001b[0mr\u001b[0m\u001b[0;34m)\u001b[0m\u001b[0;34m\u001b[0m\u001b[0m\n\u001b[0m",
      "\u001b[0;31mNameError\u001b[0m: name 'kmeansparallel' is not defined"
     ]
    }
   ],
   "source": [
    "c=kmeansparallel(sim_data_k4, k, l, d, r)"
   ]
  },
  {
   "cell_type": "code",
   "execution_count": 133,
   "metadata": {
    "collapsed": false
   },
   "outputs": [],
   "source": [
    "sim_para=kmeans(sim_data_k4, c, k, d)"
   ]
  },
  {
   "cell_type": "code",
   "execution_count": 134,
   "metadata": {
    "collapsed": true
   },
   "outputs": [],
   "source": [
    "x_para=sim_para[0][:,0]\n",
    "y_para=sim_para[0][:,1]\n",
    "labels_para=sim_para[1]"
   ]
  },
  {
   "cell_type": "code",
   "execution_count": 135,
   "metadata": {
    "collapsed": false
   },
   "outputs": [
    {
     "data": {
      "image/png": "[encoded data removed]",
      "text/plain": [
       "<matplotlib.figure.Figure at 0x10c2f0cf8>"
      ]
     },
     "metadata": {},
     "output_type": "display_data"
    }
   ],
   "source": [
    "plt.figure()\n",
    "plt.scatter(sim_data_k4[:,0], sim_data_k4[:,1], c=labels_para, cmap='Accent')\n",
    "plt.scatter(x_para, y_para, s=40, marker=\"o\", c=\"darkblue\")\n",
    "plt.title(\"K-means++ clustering\")\n",
    "pass"
   ]
  },
  {
   "cell_type": "code",
   "execution_count": null,
   "metadata": {
    "collapsed": true
   },
   "outputs": [],
   "source": []
  },
  {
   "cell_type": "code",
   "execution_count": null,
   "metadata": {
    "collapsed": true
   },
   "outputs": [],
   "source": []
  },
  {
   "cell_type": "code",
   "execution_count": null,
   "metadata": {
    "collapsed": true
   },
   "outputs": [],
   "source": []
  },
  {
   "cell_type": "code",
   "execution_count": null,
   "metadata": {
    "collapsed": true
   },
   "outputs": [],
   "source": []
  },
  {
   "cell_type": "code",
   "execution_count": null,
   "metadata": {
    "collapsed": true
   },
   "outputs": [],
   "source": []
  },
  {
   "cell_type": "code",
   "execution_count": null,
   "metadata": {
    "collapsed": true
   },
   "outputs": [],
   "source": []
  },
  {
   "cell_type": "code",
   "execution_count": null,
   "metadata": {
    "collapsed": true
   },
   "outputs": [],
   "source": []
  }
 ],
 "metadata": {
  "kernelspec": {
   "display_name": "Python 3",
   "language": "python",
   "name": "python3"
  },
  "language_info": {
   "codemirror_mode": {
    "name": "ipython",
    "version": 3
   },
   "file_extension": ".py",
   "mimetype": "text/x-python",
   "name": "python",
   "nbconvert_exporter": "python",
   "pygments_lexer": "ipython3",
   "version": "3.5.1"
  }
 },
 "nbformat": 4,
 "nbformat_minor": 0
}
