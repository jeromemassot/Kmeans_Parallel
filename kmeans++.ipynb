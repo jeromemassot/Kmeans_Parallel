{
 "cells": [
  {
   "cell_type": "code",
   "execution_count": 67,
   "metadata": {
    "collapsed": false
   },
   "outputs": [],
   "source": [
    "#distance square\n",
    "def dist_sq(a, b):\n",
    "    return np.sum((a-b)**2)\n",
    "#minimum distance square for every point to the centroid\n",
    "def point_sq(data,centroid):\n",
    "    dist=[]\n",
    "    for i in range(data.shape[0]):\n",
    "        dist.append(min(dist_sq(data.ix[i],c) for c in centroid))\n",
    "    return dist\n",
    "        \n",
    "#calculate probability\n",
    "def dist_prob(Dist):\n",
    "    return Dist/np.sum(Dist)"
   ]
  },
  {
   "cell_type": "code",
   "execution_count": 102,
   "metadata": {
    "collapsed": false
   },
   "outputs": [],
   "source": [
    "def kmeansplusplus(data, k, d):\n",
    "    index=int(np.random.choice(data.shape[0],1))\n",
    "    centroid=np.array(data.ix[index])\n",
    "    for number in range(k-1):\n",
    "        distance=point_sq(data,np.array(centroid))\n",
    "        prob=dist_prob(distance).tolist()\n",
    "        index=int(np.random.choice(data.shape[0],1,prob))\n",
    "        centroid=np.vstack([centroid,np.array(data.ix[index])])\n",
    "    return centroid\n"
   ]
  },
  {
   "cell_type": "code",
   "execution_count": 103,
   "metadata": {
    "collapsed": false
   },
   "outputs": [],
   "source": [
    "def kmeans(dataSet, initial):\n",
    "    centroids=np.array(initial)\n",
    "    # Initialize book keeping vars.\n",
    "    iterations = 0\n",
    "    oldCentroids = np.zeros([initial.shape[0],initial.shape[1]])\n",
    "    \n",
    "    # Run the main k-means algorithm\n",
    "    while not shouldStop(oldCentroids, centroids, iterations):\n",
    "        # Save old centroids for convergence test. Book keeping.\n",
    "        oldCentroids = centroids\n",
    "        iterations += 1\n",
    "        \n",
    "        # Assign labels to each datapoint based on centroids\n",
    "        l= getLabels(dataSet, centroids)\n",
    "        \n",
    "        # Assign centroids based on datapoint labels\n",
    "        centroids = getCentroids(dataSet, l)\n",
    "        \n",
    "    # We can get the labels too by calling getLabels(dataSet, centroids)\n",
    "    return centroids, np.array(l)\n"
   ]
  },
  {
   "cell_type": "code",
   "execution_count": 104,
   "metadata": {
    "collapsed": false
   },
   "outputs": [],
   "source": [
    "# Function: Should Stop\n",
    "# -------------\n",
    "# Returns True or False if k-means is done. K-means terminates either\n",
    "# because it has run a maximum number of iterations OR the centroids\n",
    "# stop changing.\n",
    "def shouldStop(oldCentroids, centroids, iterations):\n",
    "    if iterations > 50: return True\n",
    "    return oldCentroids.all == centroids.all\n"
   ]
  },
  {
   "cell_type": "code",
   "execution_count": 105,
   "metadata": {
    "collapsed": false
   },
   "outputs": [],
   "source": [
    "# Function: Get Labels\n",
    "# -------------\n",
    "# Returns a label for each piece of data in the dataset. \n",
    "def getLabels(dataSet, centroids):\n",
    "    # For each element in the dataset, chose the closest centroid. \n",
    "    # Make that centroid the element's label.\n",
    "    l=[]\n",
    "    for i in range(data.shape[0]):\n",
    "        l.append(np.argmin(list(dist_sq(data.ix[i],c) for c in centroids)))\n",
    "    return l\n",
    "\n",
    "            \n"
   ]
  },
  {
   "cell_type": "code",
   "execution_count": 106,
   "metadata": {
    "collapsed": false
   },
   "outputs": [],
   "source": [
    "# Function: Get Centroids\n",
    "# -------------\n",
    "# Returns k random centroids, each of dimension n.\n",
    "def getCentroids(dataSet, labels):\n",
    "    # Each centroid is the geometric mean of the points that\n",
    "    # have that centroid's label. Important: If a centroid is empty (no points have\n",
    "    # that centroid's label) you should randomly re-initialize it.\n",
    "    data_new = dataSet.copy()\n",
    "    data_new['Labels'] = labels\n",
    "    data_new = data_new.groupby(['Labels']).mean().iloc[:,:2]\n",
    "    return np.array(data_new)\n",
    "    "
   ]
  },
  {
   "cell_type": "code",
   "execution_count": 107,
   "metadata": {
    "collapsed": false
   },
   "outputs": [],
   "source": [
    "#test \n",
    "data=DataFrame([np.random.random(100),np.random.random(100)]).transpose()\n",
    "initial= kmeansplusplus(data,8,2)"
   ]
  },
  {
   "cell_type": "code",
   "execution_count": 108,
   "metadata": {
    "collapsed": false
   },
   "outputs": [
    {
     "data": {
      "text/plain": [
       "(array([[ 0.23801647,  0.52264777],\n",
       "        [ 0.70476309,  0.51468006],\n",
       "        [ 0.90115282,  0.17373722],\n",
       "        [ 0.51772984,  0.75059068],\n",
       "        [ 0.6232516 ,  0.25712429],\n",
       "        [ 0.88844844,  0.77337313],\n",
       "        [ 0.14159695,  0.24405234],\n",
       "        [ 0.24916151,  0.90676037]]),\n",
       " array([4, 2, 4, 6, 4, 4, 5, 6, 2, 0, 6, 6, 4, 6, 5, 0, 3, 0, 6, 4, 5, 1, 4,\n",
       "        1, 1, 6, 0, 2, 0, 3, 3, 5, 3, 3, 2, 1, 0, 1, 3, 6, 2, 5, 2, 1, 6, 4,\n",
       "        0, 0, 4, 7, 7, 0, 7, 1, 6, 1, 1, 2, 2, 5, 0, 4, 0, 5, 7, 4, 4, 7, 0,\n",
       "        6, 6, 3, 0, 3, 6, 2, 6, 0, 7, 1, 7, 3, 1, 3, 4, 4, 0, 3, 7, 6, 5, 7,\n",
       "        0, 3, 1, 4, 6, 6, 6, 6]))"
      ]
     },
     "execution_count": 108,
     "metadata": {},
     "output_type": "execute_result"
    }
   ],
   "source": [
    "kmeans(data, initial)"
   ]
  },
  {
   "cell_type": "code",
   "execution_count": null,
   "metadata": {
    "collapsed": true
   },
   "outputs": [],
   "source": []
  }
 ],
 "metadata": {
  "kernelspec": {
   "display_name": "Python 3",
   "language": "python",
   "name": "python3"
  },
  "language_info": {
   "codemirror_mode": {
    "name": "ipython",
    "version": 3
   },
   "file_extension": ".py",
   "mimetype": "text/x-python",
   "name": "python",
   "nbconvert_exporter": "python",
   "pygments_lexer": "ipython3",
   "version": "3.5.1"
  }
 },
 "nbformat": 4,
 "nbformat_minor": 0
}
