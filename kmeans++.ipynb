{
 "cells": [
  {
   "cell_type": "code",
   "execution_count": 1,
   "metadata": {
    "collapsed": true
   },
   "outputs": [],
   "source": [
    "#distance square\n",
    "def dist_sq(a, b):\n",
    "    return np.sum((a-b)**2)\n",
    "#distance square for every point to the centroid\n",
    "def point_sq(data,index):\n",
    "    Dist=list()\n",
    "    for i in range(data.shape[0]):\n",
    "        Dist.append(dist_sq(data.ix[index],data.ix[i]))\n",
    "    return Dist\n",
    "def dist_prob(Dist):\n",
    "    return (Dist/np.sum(np.array(Dist)))"
   ]
  },
  {
   "cell_type": "code",
   "execution_count": 2,
   "metadata": {
    "collapsed": false
   },
   "outputs": [],
   "source": [
    "def kmeansplusplus(data, k, d):\n",
    "    centroid=np.zeros([k,d])\n",
    "    index=np.random.choice(data.shape[0],1)\n",
    "    centroid[0]=data.ix[index]\n",
    "    for number in range(k-1):\n",
    "        distance=point_sq(data,index)\n",
    "        prob=dist_prob(distance).tolist()\n",
    "        #prob[index]=0\n",
    "        index=np.random.choice(data.shape[0],1,prob)\n",
    "        centroid[number+1]=data.ix[index]\n",
    "    return centroid\n"
   ]
  },
  {
   "cell_type": "code",
   "execution_count": 16,
   "metadata": {
    "collapsed": false
   },
   "outputs": [],
   "source": [
    "#test \n",
    "data=DataFrame([np.random.random(100),np.random.random(100)]).transpose()\n",
    "initial= kmeansplusplus(data,8,2)"
   ]
  },
  {
   "cell_type": "code",
   "execution_count": 4,
   "metadata": {
    "collapsed": false
   },
   "outputs": [
    {
     "data": {
      "text/plain": [
       "array([[ 0.65077554,  0.45060154],\n",
       "       [ 0.51919039,  0.4426771 ],\n",
       "       [ 0.44355613,  0.73092667],\n",
       "       [ 0.95592707,  0.01548187],\n",
       "       [ 0.16051251,  0.59400177],\n",
       "       [ 0.79010187,  0.09990044],\n",
       "       [ 0.51654993,  0.31330496],\n",
       "       [ 0.1453507 ,  0.42704333]])"
      ]
     },
     "execution_count": 4,
     "metadata": {},
     "output_type": "execute_result"
    }
   ],
   "source": [
    "initial"
   ]
  },
  {
   "cell_type": "code",
   "execution_count": 32,
   "metadata": {
    "collapsed": false
   },
   "outputs": [
    {
     "data": {
      "text/plain": [
       "False"
      ]
     },
     "execution_count": 32,
     "metadata": {},
     "output_type": "execute_result"
    }
   ],
   "source": [
    "initial.all==getCentroids(data,l).all"
   ]
  },
  {
   "cell_type": "code",
   "execution_count": 6,
   "metadata": {
    "collapsed": false
   },
   "outputs": [
    {
     "ename": "NameError",
     "evalue": "name 'shouldStop' is not defined",
     "output_type": "error",
     "traceback": [
      "\u001b[0;31m---------------------------------------------------------------------------\u001b[0m",
      "\u001b[0;31mNameError\u001b[0m                                 Traceback (most recent call last)",
      "\u001b[0;32m<ipython-input-6-5b46c0767f8b>\u001b[0m in \u001b[0;36m<module>\u001b[0;34m()\u001b[0m\n\u001b[0;32m----> 1\u001b[0;31m \u001b[0mshouldStop\u001b[0m\u001b[0;34m(\u001b[0m\u001b[0minitial\u001b[0m\u001b[0;34m,\u001b[0m \u001b[0mgetCentroids\u001b[0m\u001b[0;34m(\u001b[0m\u001b[0mdata\u001b[0m\u001b[0;34m,\u001b[0m\u001b[0ml\u001b[0m\u001b[0;34m)\u001b[0m\u001b[0;34m,\u001b[0m \u001b[0;36m3\u001b[0m\u001b[0;34m)\u001b[0m\u001b[0;34m\u001b[0m\u001b[0m\n\u001b[0m",
      "\u001b[0;31mNameError\u001b[0m: name 'shouldStop' is not defined"
     ]
    }
   ],
   "source": [
    "shouldStop(initial, getCentroids(data,l), 3)"
   ]
  },
  {
   "cell_type": "code",
   "execution_count": 34,
   "metadata": {
    "collapsed": false
   },
   "outputs": [],
   "source": [
    "def kmeans(dataSet, initial):\n",
    "    centroids=initial\n",
    "    # Initialize book keeping vars.\n",
    "    iterations = 0\n",
    "    oldCentroids = None\n",
    "    \n",
    "    # Run the main k-means algorithm\n",
    "    while not shouldStop(oldCentroids, centroids, iterations):\n",
    "        # Save old centroids for convergence test. Book keeping.\n",
    "        oldCentroids = centroids\n",
    "        iterations += 1\n",
    "        \n",
    "        # Assign labels to each datapoint based on centroids\n",
    "        l= getLabels(dataSet, centroids)\n",
    "        \n",
    "        # Assign centroids based on datapoint labels\n",
    "        centroids = getCentroids(dataSet, l)\n",
    "        \n",
    "    # We can get the labels too by calling getLabels(dataSet, centroids)\n",
    "    return centroids, l\n"
   ]
  },
  {
   "cell_type": "code",
   "execution_count": 33,
   "metadata": {
    "collapsed": false
   },
   "outputs": [],
   "source": [
    "# Function: Should Stop\n",
    "# -------------\n",
    "# Returns True or False if k-means is done. K-means terminates either\n",
    "# because it has run a maximum number of iterations OR the centroids\n",
    "# stop changing.\n",
    "def shouldStop(oldCentroids, centroids, iterations):\n",
    "    if iterations > 10: return True\n",
    "    return oldCentroids.all == centroids.all\n"
   ]
  },
  {
   "cell_type": "code",
   "execution_count": 25,
   "metadata": {
    "collapsed": false
   },
   "outputs": [],
   "source": [
    "# Function: Get Labels\n",
    "# -------------\n",
    "# Returns a label for each piece of data in the dataset. \n",
    "def getLabels(dataSet, centroids):\n",
    "    # For each element in the dataset, chose the closest centroid. \n",
    "    # Make that centroid the element's label.\n",
    "    l=[]\n",
    "    for i in range(dataSet.shape[0]):\n",
    "        dist=np.zeros(centroids.shape[0])\n",
    "        for j in range(centroids.shape[0]):\n",
    "            dist[j]=dist_sq(dataSet.ix[i],centroids[j])\n",
    "        l.append(np.argmin(dist))\n",
    "    return l\n",
    "            \n"
   ]
  },
  {
   "cell_type": "code",
   "execution_count": 15,
   "metadata": {
    "collapsed": false
   },
   "outputs": [],
   "source": [
    "# Function: Get Centroids\n",
    "# -------------\n",
    "# Returns k random centroids, each of dimension n.\n",
    "def getCentroids(dataSet, labels):\n",
    "    # Each centroid is the geometric mean of the points that\n",
    "    # have that centroid's label. Important: If a centroid is empty (no points have\n",
    "    # that centroid's label) you should randomly re-initialize it.\n",
    "    data_new = dataSet.copy()\n",
    "    data_new['Labels'] = labels\n",
    "    data_new = data_new.groupby(['Labels']).mean().iloc[:,:2]\n",
    "    return np.array(data_new)\n",
    "    "
   ]
  },
  {
   "cell_type": "code",
   "execution_count": 19,
   "metadata": {
    "collapsed": false
   },
   "outputs": [],
   "source": [
    "l=getLabels(data, initial)\n"
   ]
  },
  {
   "cell_type": "code",
   "execution_count": 12,
   "metadata": {
    "collapsed": false
   },
   "outputs": [
    {
     "data": {
      "text/plain": [
       "array([[ 0.79763431,  0.59417898],\n",
       "       [ 0.50396127,  0.44920215],\n",
       "       [ 0.52852529,  0.83247211],\n",
       "       [ 0.94573081,  0.10057897],\n",
       "       [ 0.15603868,  0.69250183],\n",
       "       [ 0.696148  ,  0.13246915],\n",
       "       [ 0.44526922,  0.21054137],\n",
       "       [ 0.10320822,  0.29491949]])"
      ]
     },
     "execution_count": 12,
     "metadata": {},
     "output_type": "execute_result"
    }
   ],
   "source": [
    "getCentroids(data,l)"
   ]
  },
  {
   "cell_type": "code",
   "execution_count": 20,
   "metadata": {
    "collapsed": false
   },
   "outputs": [
    {
     "data": {
      "text/html": [
       "<div>\n",
       "<table border=\"1\" class=\"dataframe\">\n",
       "  <thead>\n",
       "    <tr style=\"text-align: right;\">\n",
       "      <th></th>\n",
       "      <th>0</th>\n",
       "      <th>1</th>\n",
       "    </tr>\n",
       "  </thead>\n",
       "  <tbody>\n",
       "    <tr>\n",
       "      <th>0</th>\n",
       "      <td>0.430954</td>\n",
       "      <td>0.371030</td>\n",
       "    </tr>\n",
       "    <tr>\n",
       "      <th>1</th>\n",
       "      <td>0.867310</td>\n",
       "      <td>0.026146</td>\n",
       "    </tr>\n",
       "    <tr>\n",
       "      <th>2</th>\n",
       "      <td>0.096540</td>\n",
       "      <td>0.529266</td>\n",
       "    </tr>\n",
       "    <tr>\n",
       "      <th>3</th>\n",
       "      <td>0.207957</td>\n",
       "      <td>0.652664</td>\n",
       "    </tr>\n",
       "    <tr>\n",
       "      <th>4</th>\n",
       "      <td>0.734970</td>\n",
       "      <td>0.177697</td>\n",
       "    </tr>\n",
       "    <tr>\n",
       "      <th>5</th>\n",
       "      <td>0.322341</td>\n",
       "      <td>0.303808</td>\n",
       "    </tr>\n",
       "    <tr>\n",
       "      <th>6</th>\n",
       "      <td>0.564856</td>\n",
       "      <td>0.682017</td>\n",
       "    </tr>\n",
       "    <tr>\n",
       "      <th>7</th>\n",
       "      <td>0.593204</td>\n",
       "      <td>0.918000</td>\n",
       "    </tr>\n",
       "    <tr>\n",
       "      <th>8</th>\n",
       "      <td>0.207437</td>\n",
       "      <td>0.392279</td>\n",
       "    </tr>\n",
       "    <tr>\n",
       "      <th>9</th>\n",
       "      <td>0.025163</td>\n",
       "      <td>0.338477</td>\n",
       "    </tr>\n",
       "    <tr>\n",
       "      <th>10</th>\n",
       "      <td>0.164676</td>\n",
       "      <td>0.338466</td>\n",
       "    </tr>\n",
       "    <tr>\n",
       "      <th>11</th>\n",
       "      <td>0.381006</td>\n",
       "      <td>0.727928</td>\n",
       "    </tr>\n",
       "    <tr>\n",
       "      <th>12</th>\n",
       "      <td>0.619534</td>\n",
       "      <td>0.067942</td>\n",
       "    </tr>\n",
       "    <tr>\n",
       "      <th>13</th>\n",
       "      <td>0.800053</td>\n",
       "      <td>0.350509</td>\n",
       "    </tr>\n",
       "    <tr>\n",
       "      <th>14</th>\n",
       "      <td>0.834444</td>\n",
       "      <td>0.660203</td>\n",
       "    </tr>\n",
       "    <tr>\n",
       "      <th>15</th>\n",
       "      <td>0.056435</td>\n",
       "      <td>0.052818</td>\n",
       "    </tr>\n",
       "    <tr>\n",
       "      <th>16</th>\n",
       "      <td>0.604612</td>\n",
       "      <td>0.969696</td>\n",
       "    </tr>\n",
       "    <tr>\n",
       "      <th>17</th>\n",
       "      <td>0.700368</td>\n",
       "      <td>0.383279</td>\n",
       "    </tr>\n",
       "    <tr>\n",
       "      <th>18</th>\n",
       "      <td>0.501493</td>\n",
       "      <td>0.037943</td>\n",
       "    </tr>\n",
       "    <tr>\n",
       "      <th>19</th>\n",
       "      <td>0.705115</td>\n",
       "      <td>0.728953</td>\n",
       "    </tr>\n",
       "    <tr>\n",
       "      <th>20</th>\n",
       "      <td>0.943546</td>\n",
       "      <td>0.886176</td>\n",
       "    </tr>\n",
       "    <tr>\n",
       "      <th>21</th>\n",
       "      <td>0.779189</td>\n",
       "      <td>0.632537</td>\n",
       "    </tr>\n",
       "    <tr>\n",
       "      <th>22</th>\n",
       "      <td>0.022427</td>\n",
       "      <td>0.240478</td>\n",
       "    </tr>\n",
       "    <tr>\n",
       "      <th>23</th>\n",
       "      <td>0.925653</td>\n",
       "      <td>0.182844</td>\n",
       "    </tr>\n",
       "    <tr>\n",
       "      <th>24</th>\n",
       "      <td>0.056774</td>\n",
       "      <td>0.696798</td>\n",
       "    </tr>\n",
       "    <tr>\n",
       "      <th>25</th>\n",
       "      <td>0.483489</td>\n",
       "      <td>0.867841</td>\n",
       "    </tr>\n",
       "    <tr>\n",
       "      <th>26</th>\n",
       "      <td>0.509906</td>\n",
       "      <td>0.146505</td>\n",
       "    </tr>\n",
       "    <tr>\n",
       "      <th>27</th>\n",
       "      <td>0.262468</td>\n",
       "      <td>0.230827</td>\n",
       "    </tr>\n",
       "    <tr>\n",
       "      <th>28</th>\n",
       "      <td>0.563503</td>\n",
       "      <td>0.378873</td>\n",
       "    </tr>\n",
       "    <tr>\n",
       "      <th>29</th>\n",
       "      <td>0.723238</td>\n",
       "      <td>0.626199</td>\n",
       "    </tr>\n",
       "    <tr>\n",
       "      <th>...</th>\n",
       "      <td>...</td>\n",
       "      <td>...</td>\n",
       "    </tr>\n",
       "    <tr>\n",
       "      <th>70</th>\n",
       "      <td>0.838275</td>\n",
       "      <td>0.993392</td>\n",
       "    </tr>\n",
       "    <tr>\n",
       "      <th>71</th>\n",
       "      <td>0.153601</td>\n",
       "      <td>0.595566</td>\n",
       "    </tr>\n",
       "    <tr>\n",
       "      <th>72</th>\n",
       "      <td>0.424617</td>\n",
       "      <td>0.009945</td>\n",
       "    </tr>\n",
       "    <tr>\n",
       "      <th>73</th>\n",
       "      <td>0.229424</td>\n",
       "      <td>0.991443</td>\n",
       "    </tr>\n",
       "    <tr>\n",
       "      <th>74</th>\n",
       "      <td>0.495697</td>\n",
       "      <td>0.493906</td>\n",
       "    </tr>\n",
       "    <tr>\n",
       "      <th>75</th>\n",
       "      <td>0.633066</td>\n",
       "      <td>0.790066</td>\n",
       "    </tr>\n",
       "    <tr>\n",
       "      <th>76</th>\n",
       "      <td>0.039283</td>\n",
       "      <td>0.074260</td>\n",
       "    </tr>\n",
       "    <tr>\n",
       "      <th>77</th>\n",
       "      <td>0.370612</td>\n",
       "      <td>0.334279</td>\n",
       "    </tr>\n",
       "    <tr>\n",
       "      <th>78</th>\n",
       "      <td>0.256733</td>\n",
       "      <td>0.621179</td>\n",
       "    </tr>\n",
       "    <tr>\n",
       "      <th>79</th>\n",
       "      <td>0.544801</td>\n",
       "      <td>0.544459</td>\n",
       "    </tr>\n",
       "    <tr>\n",
       "      <th>80</th>\n",
       "      <td>0.414298</td>\n",
       "      <td>0.668008</td>\n",
       "    </tr>\n",
       "    <tr>\n",
       "      <th>81</th>\n",
       "      <td>0.275657</td>\n",
       "      <td>0.968951</td>\n",
       "    </tr>\n",
       "    <tr>\n",
       "      <th>82</th>\n",
       "      <td>0.050219</td>\n",
       "      <td>0.878427</td>\n",
       "    </tr>\n",
       "    <tr>\n",
       "      <th>83</th>\n",
       "      <td>0.881209</td>\n",
       "      <td>0.002647</td>\n",
       "    </tr>\n",
       "    <tr>\n",
       "      <th>84</th>\n",
       "      <td>0.834708</td>\n",
       "      <td>0.500477</td>\n",
       "    </tr>\n",
       "    <tr>\n",
       "      <th>85</th>\n",
       "      <td>0.283771</td>\n",
       "      <td>0.957219</td>\n",
       "    </tr>\n",
       "    <tr>\n",
       "      <th>86</th>\n",
       "      <td>0.315753</td>\n",
       "      <td>0.929723</td>\n",
       "    </tr>\n",
       "    <tr>\n",
       "      <th>87</th>\n",
       "      <td>0.231967</td>\n",
       "      <td>0.922647</td>\n",
       "    </tr>\n",
       "    <tr>\n",
       "      <th>88</th>\n",
       "      <td>0.099005</td>\n",
       "      <td>0.363076</td>\n",
       "    </tr>\n",
       "    <tr>\n",
       "      <th>89</th>\n",
       "      <td>0.746724</td>\n",
       "      <td>0.991606</td>\n",
       "    </tr>\n",
       "    <tr>\n",
       "      <th>90</th>\n",
       "      <td>0.758740</td>\n",
       "      <td>0.718543</td>\n",
       "    </tr>\n",
       "    <tr>\n",
       "      <th>91</th>\n",
       "      <td>0.131862</td>\n",
       "      <td>0.551730</td>\n",
       "    </tr>\n",
       "    <tr>\n",
       "      <th>92</th>\n",
       "      <td>0.916798</td>\n",
       "      <td>0.346889</td>\n",
       "    </tr>\n",
       "    <tr>\n",
       "      <th>93</th>\n",
       "      <td>0.524815</td>\n",
       "      <td>0.820807</td>\n",
       "    </tr>\n",
       "    <tr>\n",
       "      <th>94</th>\n",
       "      <td>0.539063</td>\n",
       "      <td>0.413079</td>\n",
       "    </tr>\n",
       "    <tr>\n",
       "      <th>95</th>\n",
       "      <td>0.368835</td>\n",
       "      <td>0.033550</td>\n",
       "    </tr>\n",
       "    <tr>\n",
       "      <th>96</th>\n",
       "      <td>0.694515</td>\n",
       "      <td>0.377618</td>\n",
       "    </tr>\n",
       "    <tr>\n",
       "      <th>97</th>\n",
       "      <td>0.593711</td>\n",
       "      <td>0.507054</td>\n",
       "    </tr>\n",
       "    <tr>\n",
       "      <th>98</th>\n",
       "      <td>0.730395</td>\n",
       "      <td>0.917851</td>\n",
       "    </tr>\n",
       "    <tr>\n",
       "      <th>99</th>\n",
       "      <td>0.454898</td>\n",
       "      <td>0.634024</td>\n",
       "    </tr>\n",
       "  </tbody>\n",
       "</table>\n",
       "<p>100 rows × 2 columns</p>\n",
       "</div>"
      ],
      "text/plain": [
       "           0         1\n",
       "0   0.430954  0.371030\n",
       "1   0.867310  0.026146\n",
       "2   0.096540  0.529266\n",
       "3   0.207957  0.652664\n",
       "4   0.734970  0.177697\n",
       "5   0.322341  0.303808\n",
       "6   0.564856  0.682017\n",
       "7   0.593204  0.918000\n",
       "8   0.207437  0.392279\n",
       "9   0.025163  0.338477\n",
       "10  0.164676  0.338466\n",
       "11  0.381006  0.727928\n",
       "12  0.619534  0.067942\n",
       "13  0.800053  0.350509\n",
       "14  0.834444  0.660203\n",
       "15  0.056435  0.052818\n",
       "16  0.604612  0.969696\n",
       "17  0.700368  0.383279\n",
       "18  0.501493  0.037943\n",
       "19  0.705115  0.728953\n",
       "20  0.943546  0.886176\n",
       "21  0.779189  0.632537\n",
       "22  0.022427  0.240478\n",
       "23  0.925653  0.182844\n",
       "24  0.056774  0.696798\n",
       "25  0.483489  0.867841\n",
       "26  0.509906  0.146505\n",
       "27  0.262468  0.230827\n",
       "28  0.563503  0.378873\n",
       "29  0.723238  0.626199\n",
       "..       ...       ...\n",
       "70  0.838275  0.993392\n",
       "71  0.153601  0.595566\n",
       "72  0.424617  0.009945\n",
       "73  0.229424  0.991443\n",
       "74  0.495697  0.493906\n",
       "75  0.633066  0.790066\n",
       "76  0.039283  0.074260\n",
       "77  0.370612  0.334279\n",
       "78  0.256733  0.621179\n",
       "79  0.544801  0.544459\n",
       "80  0.414298  0.668008\n",
       "81  0.275657  0.968951\n",
       "82  0.050219  0.878427\n",
       "83  0.881209  0.002647\n",
       "84  0.834708  0.500477\n",
       "85  0.283771  0.957219\n",
       "86  0.315753  0.929723\n",
       "87  0.231967  0.922647\n",
       "88  0.099005  0.363076\n",
       "89  0.746724  0.991606\n",
       "90  0.758740  0.718543\n",
       "91  0.131862  0.551730\n",
       "92  0.916798  0.346889\n",
       "93  0.524815  0.820807\n",
       "94  0.539063  0.413079\n",
       "95  0.368835  0.033550\n",
       "96  0.694515  0.377618\n",
       "97  0.593711  0.507054\n",
       "98  0.730395  0.917851\n",
       "99  0.454898  0.634024\n",
       "\n",
       "[100 rows x 2 columns]"
      ]
     },
     "execution_count": 20,
     "metadata": {},
     "output_type": "execute_result"
    }
   ],
   "source": [
    "data"
   ]
  },
  {
   "cell_type": "code",
   "execution_count": 35,
   "metadata": {
    "collapsed": false
   },
   "outputs": [
    {
     "ename": "AttributeError",
     "evalue": "'NoneType' object has no attribute 'all'",
     "output_type": "error",
     "traceback": [
      "\u001b[0;31m---------------------------------------------------------------------------\u001b[0m",
      "\u001b[0;31mAttributeError\u001b[0m                            Traceback (most recent call last)",
      "\u001b[0;32m<ipython-input-35-91ff04613a4e>\u001b[0m in \u001b[0;36m<module>\u001b[0;34m()\u001b[0m\n\u001b[0;32m----> 1\u001b[0;31m \u001b[0mkmeans\u001b[0m\u001b[0;34m(\u001b[0m\u001b[0mdata\u001b[0m\u001b[0;34m,\u001b[0m \u001b[0minitial\u001b[0m\u001b[0;34m)\u001b[0m\u001b[0;34m\u001b[0m\u001b[0m\n\u001b[0m",
      "\u001b[0;32m<ipython-input-34-bad164ef7852>\u001b[0m in \u001b[0;36mkmeans\u001b[0;34m(dataSet, initial)\u001b[0m\n\u001b[1;32m      6\u001b[0m \u001b[0;34m\u001b[0m\u001b[0m\n\u001b[1;32m      7\u001b[0m     \u001b[0;31m# Run the main k-means algorithm\u001b[0m\u001b[0;34m\u001b[0m\u001b[0;34m\u001b[0m\u001b[0m\n\u001b[0;32m----> 8\u001b[0;31m     \u001b[0;32mwhile\u001b[0m \u001b[0;32mnot\u001b[0m \u001b[0mshouldStop\u001b[0m\u001b[0;34m(\u001b[0m\u001b[0moldCentroids\u001b[0m\u001b[0;34m,\u001b[0m \u001b[0mcentroids\u001b[0m\u001b[0;34m,\u001b[0m \u001b[0miterations\u001b[0m\u001b[0;34m)\u001b[0m\u001b[0;34m:\u001b[0m\u001b[0;34m\u001b[0m\u001b[0m\n\u001b[0m\u001b[1;32m      9\u001b[0m         \u001b[0;31m# Save old centroids for convergence test. Book keeping.\u001b[0m\u001b[0;34m\u001b[0m\u001b[0;34m\u001b[0m\u001b[0m\n\u001b[1;32m     10\u001b[0m         \u001b[0moldCentroids\u001b[0m \u001b[0;34m=\u001b[0m \u001b[0mcentroids\u001b[0m\u001b[0;34m\u001b[0m\u001b[0m\n",
      "\u001b[0;32m<ipython-input-33-81ba7e160b9f>\u001b[0m in \u001b[0;36mshouldStop\u001b[0;34m(oldCentroids, centroids, iterations)\u001b[0m\n\u001b[1;32m      6\u001b[0m \u001b[0;32mdef\u001b[0m \u001b[0mshouldStop\u001b[0m\u001b[0;34m(\u001b[0m\u001b[0moldCentroids\u001b[0m\u001b[0;34m,\u001b[0m \u001b[0mcentroids\u001b[0m\u001b[0;34m,\u001b[0m \u001b[0miterations\u001b[0m\u001b[0;34m)\u001b[0m\u001b[0;34m:\u001b[0m\u001b[0;34m\u001b[0m\u001b[0m\n\u001b[1;32m      7\u001b[0m     \u001b[0;32mif\u001b[0m \u001b[0miterations\u001b[0m \u001b[0;34m>\u001b[0m \u001b[0;36m10\u001b[0m\u001b[0;34m:\u001b[0m \u001b[0;32mreturn\u001b[0m \u001b[0;32mTrue\u001b[0m\u001b[0;34m\u001b[0m\u001b[0m\n\u001b[0;32m----> 8\u001b[0;31m     \u001b[0;32mreturn\u001b[0m \u001b[0moldCentroids\u001b[0m\u001b[0;34m.\u001b[0m\u001b[0mall\u001b[0m \u001b[0;34m==\u001b[0m \u001b[0mcentroids\u001b[0m\u001b[0;34m.\u001b[0m\u001b[0mall\u001b[0m\u001b[0;34m\u001b[0m\u001b[0m\n\u001b[0m",
      "\u001b[0;31mAttributeError\u001b[0m: 'NoneType' object has no attribute 'all'"
     ]
    }
   ],
   "source": [
    "kmeans(data, initial)"
   ]
  },
  {
   "cell_type": "code",
   "execution_count": 301,
   "metadata": {
    "collapsed": false
   },
   "outputs": [
    {
     "data": {
      "text/plain": [
       "array([ 0.17403111,  0.06167224,  0.39671919,  0.3216551 ,  0.36006365,\n",
       "        0.11823907,  0.51882048,  0.62793715,  0.41837158,  0.16604132,\n",
       "        0.32680451,  0.69359363,  0.61359448,  0.07338759,  0.14862169,\n",
       "        0.19261274,  0.1417082 ,  0.07470282,  0.01614999,  0.0197996 ,\n",
       "        0.29719696,  0.05152942,  0.03124162,  0.18358687,  0.08624386,\n",
       "        0.02988028,  0.39083512,  0.41853587,  0.21024576,  0.02746001,\n",
       "        0.60831221,  0.1859697 ,  0.00393843,  0.24080248,  0.54791644,\n",
       "        0.07136598,  0.09875725,  0.12325046,  0.07583565,  0.05133039,\n",
       "        0.10668365,  0.11676853,  0.39460411,  0.23895327,  0.02028611,\n",
       "        0.11168459,  0.10583707,  0.19483812,  0.00607086,  0.48149276,\n",
       "        0.10705208,  0.15629711,  0.0805121 ,  0.09103883,  0.09299861,\n",
       "        0.09137751,  0.09877783,  0.46822743,  0.47514698,  0.27089297,\n",
       "        0.3558764 ,  0.26529638,  0.11231946,  0.22046877,  0.06158305,\n",
       "        0.10773211,  0.18432143,  0.15064605,  0.61810243,  0.25326653,\n",
       "        0.        ,  0.1364139 ,  0.16128179,  0.107669  ,  0.1002784 ,\n",
       "        0.05798973,  0.02013942,  0.03403946,  0.32536024,  0.46204612,\n",
       "        0.24835051,  0.15797595,  0.6265769 ,  0.40153442,  0.20728165,\n",
       "        0.03950191,  0.63496585,  0.29566227,  0.27274347,  0.58552341,\n",
       "        0.05274589,  0.30508378,  0.0834877 ,  0.27324631,  0.14082793,\n",
       "        0.25017898,  0.13982452,  0.51716631,  0.63768834,  0.62938607])"
      ]
     },
     "execution_count": 301,
     "metadata": {},
     "output_type": "execute_result"
    }
   ],
   "source": [
    "Dist=np.zeros(100)\n",
    "for i in range(data.shape[0]):\n",
    "    Dist[i]=dist_sq(data.ix[70],data.ix[i])\n",
    "Dist"
   ]
  },
  {
   "cell_type": "code",
   "execution_count": 476,
   "metadata": {
    "collapsed": false
   },
   "outputs": [
    {
     "data": {
      "text/plain": [
       "8"
      ]
     },
     "execution_count": 476,
     "metadata": {},
     "output_type": "execute_result"
    }
   ],
   "source": [
    "initial.shape[0]"
   ]
  },
  {
   "cell_type": "code",
   "execution_count": 312,
   "metadata": {
    "collapsed": false
   },
   "outputs": [
    {
     "data": {
      "text/plain": [
       "array([ 0.07838389,  0.05716342,  0.63979241,  0.01056759,  0.        ,\n",
       "        0.02600466,  0.02312395,  0.42996646,  0.14347695,  0.3580453 ,\n",
       "        0.42609344,  0.15531775,  0.18019009,  0.43690041,  0.35092232,\n",
       "        0.65572659,  0.51234454,  0.03716512,  0.40468589,  0.13408083,\n",
       "        0.67470531,  0.0038319 ,  0.03238977,  0.22870282,  0.32016634,\n",
       "        0.35465964,  0.53606707,  0.06592874,  0.12844287,  0.76345253,\n",
       "        0.07948402,  0.3505201 ,  0.07149165,  0.19187074,  0.58118992,\n",
       "        0.08136736,  0.21590403,  0.34788092,  0.09993989,  0.11410655,\n",
       "        0.53972394,  0.11768722,  0.23369232,  0.24240948,  0.04477737,\n",
       "        0.15503012,  0.0931706 ,  0.0363362 ,  0.01640115,  0.11949338,\n",
       "        0.32035971,  0.08347794,  0.0932965 ,  0.02961029,  0.77666678,\n",
       "        0.40513639,  0.08745263,  0.10833973,  0.11621421,  0.62791042,\n",
       "        0.21276357,  0.34428002,  0.78795535,  0.61856352,  0.34855379,\n",
       "        0.45002158,  0.6148304 ,  0.06349472,  0.51613392,  0.47059993,\n",
       "        0.6151004 ,  0.49317527,  0.57359122,  0.57389712,  0.10129538,\n",
       "        0.10276219,  0.34092254,  0.64817936,  0.05705564,  0.23469289,\n",
       "        0.23482012,  0.44815368,  0.04777186,  0.01466399,  0.48563877,\n",
       "        0.46879569,  0.03341191,  0.30230466,  0.03760148,  0.43020951,\n",
       "        0.0927031 ,  0.1671057 ,  0.30535772,  0.05727659,  0.00984406,\n",
       "        0.28323819,  0.1935943 ,  0.77389387,  0.39309052,  0.23966681])"
      ]
     },
     "execution_count": 312,
     "metadata": {},
     "output_type": "execute_result"
    }
   ],
   "source": [
    "sq=np.array(sq)"
   ]
  },
  {
   "cell_type": "code",
   "execution_count": 321,
   "metadata": {
    "collapsed": false
   },
   "outputs": [
    {
     "data": {
      "text/plain": [
       "4"
      ]
     },
     "execution_count": 321,
     "metadata": {},
     "output_type": "execute_result"
    }
   ],
   "source": [
    "np.argmin(sq)"
   ]
  },
  {
   "cell_type": "code",
   "execution_count": 324,
   "metadata": {
    "collapsed": false
   },
   "outputs": [
    {
     "data": {
      "text/plain": [
       "100"
      ]
     },
     "execution_count": 324,
     "metadata": {},
     "output_type": "execute_result"
    }
   ],
   "source": [
    "data.shape[0]"
   ]
  },
  {
   "cell_type": "code",
   "execution_count": null,
   "metadata": {
    "collapsed": true
   },
   "outputs": [],
   "source": []
  }
 ],
 "metadata": {
  "kernelspec": {
   "display_name": "Python 3",
   "language": "python",
   "name": "python3"
  },
  "language_info": {
   "codemirror_mode": {
    "name": "ipython",
    "version": 3
   },
   "file_extension": ".py",
   "mimetype": "text/x-python",
   "name": "python",
   "nbconvert_exporter": "python",
   "pygments_lexer": "ipython3",
   "version": "3.5.1"
  }
 },
 "nbformat": 4,
 "nbformat_minor": 0
}
