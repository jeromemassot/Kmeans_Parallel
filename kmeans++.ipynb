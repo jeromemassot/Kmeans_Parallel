{
 "cells": [
  {
   "cell_type": "code",
   "execution_count": 37,
   "metadata": {
    "collapsed": true
   },
   "outputs": [],
   "source": [
    "#distance square\n",
    "def dist_sq(a, b, axis=0):\n",
    "    return np.sum((a-b)**2)\n",
    "#minimum distance square for every point to the centroid\n",
    "def point_sq(data,index):\n",
    "    return [min(dist_sq(data.ix[index], point, axis=1)) for point in data]\n",
    "#calculate cost\n",
    "def cost(index,data):\n",
    "    return np.sum([min(dist_sq(data.ix[index], point)) for point in data])\n",
    "#calculate probability\n",
    "def dist_prob(Dist,cost):\n",
    "    return Dist/cost"
   ]
  },
  {
   "cell_type": "code",
   "execution_count": 38,
   "metadata": {
    "collapsed": false
   },
   "outputs": [],
   "source": [
    "def kmeansplusplus(data, k, d):\n",
    "    centroid=np.zeros([k,d])\n",
    "    index=np.random.choice(data.shape[0],1)\n",
    "    centroid[0]=data.ix[index]\n",
    "    for number in range(k-1):\n",
    "        distance=point_sq(data,index)\n",
    "        cost_x=cost(index,data)\n",
    "        prob=dist_prob(distance,cost_x).tolist()\n",
    "        #prob[index]=0\n",
    "        index=np.random.choice(data.shape[0],1,prob)\n",
    "        centroid[number+1]=data.ix[index]\n",
    "    return centroid\n"
   ]
  },
  {
   "cell_type": "code",
   "execution_count": 39,
   "metadata": {
    "collapsed": false
   },
   "outputs": [],
   "source": [
    "def kmeans(dataSet, initial):\n",
    "    centroids=initial\n",
    "    # Initialize book keeping vars.\n",
    "    iterations = 0\n",
    "    oldCentroids = np.zeros([initial.shape[0],initial.shape[1]])\n",
    "    \n",
    "    # Run the main k-means algorithm\n",
    "    while not shouldStop(oldCentroids, centroids, iterations):\n",
    "        # Save old centroids for convergence test. Book keeping.\n",
    "        oldCentroids = centroids\n",
    "        iterations += 1\n",
    "        \n",
    "        # Assign labels to each datapoint based on centroids\n",
    "        l= getLabels(dataSet, centroids)\n",
    "        \n",
    "        # Assign centroids based on datapoint labels\n",
    "        centroids = getCentroids(dataSet, l)\n",
    "        \n",
    "    # We can get the labels too by calling getLabels(dataSet, centroids)\n",
    "    return centroids, np.array(l)\n"
   ]
  },
  {
   "cell_type": "code",
   "execution_count": 40,
   "metadata": {
    "collapsed": false
   },
   "outputs": [],
   "source": [
    "# Function: Should Stop\n",
    "# -------------\n",
    "# Returns True or False if k-means is done. K-means terminates either\n",
    "# because it has run a maximum number of iterations OR the centroids\n",
    "# stop changing.\n",
    "def shouldStop(oldCentroids, centroids, iterations):\n",
    "    if iterations > 50: return True\n",
    "    return oldCentroids.all == centroids.all\n"
   ]
  },
  {
   "cell_type": "code",
   "execution_count": 41,
   "metadata": {
    "collapsed": false
   },
   "outputs": [],
   "source": [
    "# Function: Get Labels\n",
    "# -------------\n",
    "# Returns a label for each piece of data in the dataset. \n",
    "def getLabels(dataSet, centroids):\n",
    "    # For each element in the dataset, chose the closest centroid. \n",
    "    # Make that centroid the element's label.\n",
    "    l=[]\n",
    "    for i in range(dataSet.shape[0]):\n",
    "        dist=np.zeros(centroids.shape[0])\n",
    "        for j in range(centroids.shape[0]):\n",
    "            dist[j]=dist_sq(dataSet.ix[i],centroids[j])\n",
    "        l.append(np.argmin(dist))\n",
    "    return l\n",
    "            \n"
   ]
  },
  {
   "cell_type": "code",
   "execution_count": 42,
   "metadata": {
    "collapsed": false
   },
   "outputs": [],
   "source": [
    "# Function: Get Centroids\n",
    "# -------------\n",
    "# Returns k random centroids, each of dimension n.\n",
    "def getCentroids(dataSet, labels):\n",
    "    # Each centroid is the geometric mean of the points that\n",
    "    # have that centroid's label. Important: If a centroid is empty (no points have\n",
    "    # that centroid's label) you should randomly re-initialize it.\n",
    "    data_new = dataSet.copy()\n",
    "    data_new['Labels'] = labels\n",
    "    data_new = data_new.groupby(['Labels']).mean().iloc[:,:2]\n",
    "    return np.array(data_new)\n",
    "    "
   ]
  },
  {
   "cell_type": "code",
   "execution_count": 43,
   "metadata": {
    "collapsed": false
   },
   "outputs": [],
   "source": [
    "#test \n",
    "data=DataFrame([np.random.random(100),np.random.random(100)]).transpose()\n",
    "initial= kmeansplusplus(data,8,2)"
   ]
  },
  {
   "cell_type": "code",
   "execution_count": 44,
   "metadata": {
    "collapsed": false
   },
   "outputs": [
    {
     "data": {
      "text/plain": [
       "(array([[ 0.12091805,  0.57751992],\n",
       "        [ 0.74953689,  0.35606413],\n",
       "        [ 0.78730146,  0.09197846],\n",
       "        [ 0.15072662,  0.22911294],\n",
       "        [ 0.75477461,  0.71763372],\n",
       "        [ 0.25517226,  0.90847182],\n",
       "        [ 0.43094746,  0.34754852]]),\n",
       " array([3, 1, 4, 6, 4, 5, 2, 1, 4, 4, 4, 4, 2, 6, 4, 0, 3, 2, 5, 4, 3, 6, 6,\n",
       "        4, 3, 5, 0, 3, 0, 5, 2, 2, 5, 4, 3, 3, 4, 0, 6, 4, 6, 0, 5, 6, 4, 0,\n",
       "        4, 5, 6, 6, 0, 4, 5, 5, 4, 5, 0, 3, 4, 0, 2, 1, 5, 4, 0, 0, 2, 4, 2,\n",
       "        6, 1, 3, 6, 0, 4, 5, 4, 6, 0, 3, 2, 6, 6, 6, 3, 5, 1, 4, 1, 1, 2, 3,\n",
       "        4, 1, 2, 6, 3, 3, 1, 6]))"
      ]
     },
     "execution_count": 44,
     "metadata": {},
     "output_type": "execute_result"
    }
   ],
   "source": [
    "kmeans(data, initial)"
   ]
  },
  {
   "cell_type": "code",
   "execution_count": null,
   "metadata": {
    "collapsed": true
   },
   "outputs": [],
   "source": []
  }
 ],
 "metadata": {
  "kernelspec": {
   "display_name": "Python 3",
   "language": "python",
   "name": "python3"
  },
  "language_info": {
   "codemirror_mode": {
    "name": "ipython",
    "version": 3
   },
   "file_extension": ".py",
   "mimetype": "text/x-python",
   "name": "python",
   "nbconvert_exporter": "python",
   "pygments_lexer": "ipython3",
   "version": "3.5.1"
  }
 },
 "nbformat": 4,
 "nbformat_minor": 0
}
