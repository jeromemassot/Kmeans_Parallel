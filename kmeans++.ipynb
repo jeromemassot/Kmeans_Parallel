{
 "cells": [
  {
   "cell_type": "code",
   "execution_count": 145,
   "metadata": {
    "collapsed": false
   },
   "outputs": [
    {
     "data": {
      "text/html": [
       "<div>\n",
       "<table border=\"1\" class=\"dataframe\">\n",
       "  <thead>\n",
       "    <tr style=\"text-align: right;\">\n",
       "      <th></th>\n",
       "      <th>0</th>\n",
       "      <th>1</th>\n",
       "    </tr>\n",
       "  </thead>\n",
       "  <tbody>\n",
       "    <tr>\n",
       "      <th>0</th>\n",
       "      <td>0.841735</td>\n",
       "      <td>0.165847</td>\n",
       "    </tr>\n",
       "    <tr>\n",
       "      <th>1</th>\n",
       "      <td>0.420466</td>\n",
       "      <td>0.940909</td>\n",
       "    </tr>\n",
       "    <tr>\n",
       "      <th>2</th>\n",
       "      <td>0.940404</td>\n",
       "      <td>0.264641</td>\n",
       "    </tr>\n",
       "    <tr>\n",
       "      <th>3</th>\n",
       "      <td>0.408566</td>\n",
       "      <td>0.153024</td>\n",
       "    </tr>\n",
       "    <tr>\n",
       "      <th>4</th>\n",
       "      <td>0.384294</td>\n",
       "      <td>0.053578</td>\n",
       "    </tr>\n",
       "  </tbody>\n",
       "</table>\n",
       "</div>"
      ],
      "text/plain": [
       "          0         1\n",
       "0  0.841735  0.165847\n",
       "1  0.420466  0.940909\n",
       "2  0.940404  0.264641\n",
       "3  0.408566  0.153024\n",
       "4  0.384294  0.053578"
      ]
     },
     "execution_count": 145,
     "metadata": {},
     "output_type": "execute_result"
    }
   ],
   "source": [
    "data=DataFrame([np.random.random(100),np.random.random(100)]).transpose()\n",
    "data.head()"
   ]
  },
  {
   "cell_type": "code",
   "execution_count": 69,
   "metadata": {
    "collapsed": false
   },
   "outputs": [],
   "source": [
    "index=np.random.choice(100,1)"
   ]
  },
  {
   "cell_type": "code",
   "execution_count": 55,
   "metadata": {
    "collapsed": false
   },
   "outputs": [
    {
     "data": {
      "text/html": [
       "<div>\n",
       "<table border=\"1\" class=\"dataframe\">\n",
       "  <thead>\n",
       "    <tr style=\"text-align: right;\">\n",
       "      <th></th>\n",
       "      <th>0</th>\n",
       "      <th>1</th>\n",
       "    </tr>\n",
       "  </thead>\n",
       "  <tbody>\n",
       "    <tr>\n",
       "      <th>87</th>\n",
       "      <td>0.711898</td>\n",
       "      <td>0.690416</td>\n",
       "    </tr>\n",
       "  </tbody>\n",
       "</table>\n",
       "</div>"
      ],
      "text/plain": [
       "           0         1\n",
       "87  0.711898  0.690416"
      ]
     },
     "execution_count": 55,
     "metadata": {},
     "output_type": "execute_result"
    }
   ],
   "source": [
    "data.ix[index]"
   ]
  },
  {
   "cell_type": "code",
   "execution_count": 139,
   "metadata": {
    "collapsed": true
   },
   "outputs": [],
   "source": [
    "#distance square\n",
    "def dist_sq(a, b, axis = 1):\n",
    "    return np.sum((a-b)**2,axis)\n",
    "#distance square for every point to the centroid\n",
    "def point_sq(data,index):\n",
    "    Dist=np.zeros(data.shape[0])\n",
    "    for i in range(data.shape[0]):\n",
    "        Dist[i]=(dist_sq(data.ix[index],data.ix[i]))\n",
    "    return Dist\n",
    "def dist_prob(Dist):\n",
    "    return (Dist/np.sum(Dist))"
   ]
  },
  {
   "cell_type": "code",
   "execution_count": 155,
   "metadata": {
    "collapsed": false
   },
   "outputs": [],
   "source": [
    "def kmeansplusplus(data, k, d):\n",
    "    centroid=np.zeros([k,d])\n",
    "    index=np.random.choice(data.shape[0],1)\n",
    "    centroid[0]=data.ix[index]\n",
    "    for number in range(k-1):\n",
    "        distance=point_sq(data,index)\n",
    "        prob=dist_prob(distance).tolist()\n",
    "        prob[index]=0\n",
    "        index=np.random.choice(data.shape[0],1,prob)\n",
    "        centroid[number+1]=data.ix[index]\n",
    "    return centroid\n",
    "    "
   ]
  },
  {
   "cell_type": "code",
   "execution_count": 163,
   "metadata": {
    "collapsed": false
   },
   "outputs": [
    {
     "name": "stderr",
     "output_type": "stream",
     "text": [
      "/Users/wsswemily/anaconda/lib/python3.5/site-packages/ipykernel/__main__.py:8: DeprecationWarning: converting an array with ndim > 0 to an index will result in an error in the future\n"
     ]
    },
    {
     "data": {
      "text/plain": [
       "array([[ 0.73799294,  0.92995809],\n",
       "       [ 0.26010912,  0.59062152],\n",
       "       [ 0.60924868,  0.34349104],\n",
       "       [ 0.72023477,  0.914654  ],\n",
       "       [ 0.43177676,  0.77728601],\n",
       "       [ 0.9872187 ,  0.94249765],\n",
       "       [ 0.45088047,  0.72293928],\n",
       "       [ 0.6113365 ,  0.82952675],\n",
       "       [ 0.9200164 ,  0.12018597],\n",
       "       [ 0.91790312,  0.22747878],\n",
       "       [ 0.96278356,  0.63117343],\n",
       "       [ 0.09492148,  0.20005612],\n",
       "       [ 0.96247297,  0.20428374],\n",
       "       [ 0.26010912,  0.59062152],\n",
       "       [ 0.77621326,  0.01122433],\n",
       "       [ 0.40856623,  0.15302413],\n",
       "       [ 0.47582863,  0.47480413],\n",
       "       [ 0.32770059,  0.10518993],\n",
       "       [ 0.59891288,  0.45103014],\n",
       "       [ 0.3842939 ,  0.0535779 ]])"
      ]
     },
     "execution_count": 163,
     "metadata": {},
     "output_type": "execute_result"
    }
   ],
   "source": [
    "kmeansplusplus(data,20,2)"
   ]
  },
  {
   "cell_type": "code",
   "execution_count": null,
   "metadata": {
    "collapsed": true
   },
   "outputs": [],
   "source": []
  }
 ],
 "metadata": {
  "kernelspec": {
   "display_name": "Python 3",
   "language": "python",
   "name": "python3"
  },
  "language_info": {
   "codemirror_mode": {
    "name": "ipython",
    "version": 3
   },
   "file_extension": ".py",
   "mimetype": "text/x-python",
   "name": "python",
   "nbconvert_exporter": "python",
   "pygments_lexer": "ipython3",
   "version": "3.5.1"
  }
 },
 "nbformat": 4,
 "nbformat_minor": 0
}
