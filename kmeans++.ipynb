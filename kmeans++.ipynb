{
 "cells": [
  {
   "cell_type": "code",
   "execution_count": 11,
   "metadata": {
    "collapsed": false
   },
   "outputs": [],
   "source": [
    "#distance square\n",
    "def dist_sq(a, b):\n",
    "    return np.sum((a-b)**2)\n",
    "#minimum distance square for every point to the centroid\n",
    "def point_sq(data,centroid):\n",
    "    dist=[]\n",
    "    for i in range(data.shape[0]):\n",
    "        dist.append(min(dist_sq(data[i],c) for c in centroid))\n",
    "    return dist\n",
    "        \n",
    "#calculate probability\n",
    "def dist_prob(Dist):\n",
    "    return Dist/np.sum(Dist)"
   ]
  },
  {
   "cell_type": "code",
   "execution_count": 12,
   "metadata": {
    "collapsed": false
   },
   "outputs": [],
   "source": [
    "\n",
    "def kmeansplusplus(data, k, d):\n",
    "    data_copy=data.copy()\n",
    "    index=int(np.random.choice(data_copy.shape[0],1))\n",
    "    centroid=data_copy[index]\n",
    "    data_copy=np.delete(data_copy,index,axis=0)\n",
    "    for number in range(k-1):\n",
    "        distance=point_sq(data_copy,centroid)\n",
    "        prob=dist_prob(distance).tolist()\n",
    "        index=int(np.random.choice(data_copy.shape[0],1,prob))\n",
    "        centroid=np.vstack([centroid,data_copy[index]])\n",
    "        data_copy=np.delete(data_copy,index,axis=0)\n",
    "    return centroid\n"
   ]
  },
  {
   "cell_type": "code",
   "execution_count": 13,
   "metadata": {
    "collapsed": false
   },
   "outputs": [],
   "source": [
    "def kmeans(dataSet, initial):\n",
    "    centroids=initial\n",
    "    # Initialize book keeping vars.\n",
    "    iterations = 0\n",
    "    oldCentroids = np.zeros(initial.shape)\n",
    "    \n",
    "    # Run the main k-means algorithm\n",
    "    while not shouldStop(oldCentroids, centroids, iterations):\n",
    "        # Save old centroids for convergence test. Book keeping.\n",
    "        oldCentroids = centroids\n",
    "        iterations += 1\n",
    "        \n",
    "        # Assign labels to each datapoint based on centroids\n",
    "        l= getLabels(dataSet, centroids)\n",
    "        \n",
    "        # Assign centroids based on datapoint labels\n",
    "        centroids = getCentroids(dataSet, l)\n",
    "        \n",
    "    # We can get the labels too by calling getLabels(dataSet, centroids)\n",
    "    return centroids, np.array(l)"
   ]
  },
  {
   "cell_type": "code",
   "execution_count": 14,
   "metadata": {
    "collapsed": false
   },
   "outputs": [],
   "source": [
    "# Function: Should Stop\n",
    "# -------------\n",
    "# Returns True or False if k-means is done. K-means terminates either\n",
    "# because it has run a maximum number of iterations OR the centroids\n",
    "# stop changing.\n",
    "def shouldStop(oldCentroids, centroids, iterations):\n",
    "    if iterations > 50: return True\n",
    "    return oldCentroids.all == centroids.all\n"
   ]
  },
  {
   "cell_type": "code",
   "execution_count": 15,
   "metadata": {
    "collapsed": false
   },
   "outputs": [],
   "source": [
    "# Function: Get Labels\n",
    "# -------------\n",
    "# Returns a label for each piece of data in the dataset. \n",
    "def getLabels(dataSet, centroids):\n",
    "    # For each element in the dataset, chose the closest centroid. \n",
    "    # Make that centroid the element's label.\n",
    "    l=[]\n",
    "    for i in range(data.shape[0]):\n",
    "        l.append(np.argmin(list(dist_sq(data[i],c) for c in centroids)))\n",
    "    return l\n",
    "\n",
    "            \n"
   ]
  },
  {
   "cell_type": "code",
   "execution_count": 16,
   "metadata": {
    "collapsed": false
   },
   "outputs": [],
   "source": [
    "# Function: Get Centroids\n",
    "# -------------\n",
    "# Returns k random centroids, each of dimension n.\n",
    "def getCentroids(dataSet, labels):\n",
    "    # Each centroid is the geometric mean of the points that\n",
    "    # have that centroid's label. Important: If a centroid is empty (no points have\n",
    "    # that centroid's label) you should randomly re-initialize it.\n",
    "    data_new = DataFrame(dataSet.copy())\n",
    "    data_new['Labels'] = labels\n",
    "    data_new = data_new.groupby(['Labels']).mean().iloc[:,:2]\n",
    "    return np.array(data_new)\n",
    "    "
   ]
  },
  {
   "cell_type": "code",
   "execution_count": 17,
   "metadata": {
    "collapsed": false
   },
   "outputs": [],
   "source": [
    "#test \n",
    "data=np.array(DataFrame([np.random.random(100),np.random.random(100)]).transpose())\n"
   ]
  },
  {
   "cell_type": "code",
   "execution_count": 18,
   "metadata": {
    "collapsed": false
   },
   "outputs": [
    {
     "data": {
      "text/plain": [
       "(array([[ 0.18983469,  0.86310658],\n",
       "        [ 0.59613199,  0.85576268],\n",
       "        [ 0.90340848,  0.87043943],\n",
       "        [ 0.60707347,  0.24596254],\n",
       "        [ 0.16750803,  0.16475219],\n",
       "        [ 0.8933827 ,  0.55949548],\n",
       "        [ 0.35968378,  0.61060473],\n",
       "        [ 0.89017371,  0.11702261]]),\n",
       " array([5, 1, 6, 7, 4, 5, 3, 5, 3, 4, 0, 6, 0, 4, 5, 5, 6, 0, 5, 6, 1, 6, 7,\n",
       "        3, 3, 6, 4, 4, 6, 6, 1, 1, 0, 6, 0, 1, 0, 3, 1, 6, 6, 2, 6, 6, 3, 3,\n",
       "        4, 5, 0, 0, 3, 3, 0, 2, 3, 5, 4, 4, 7, 6, 2, 7, 4, 7, 6, 3, 2, 6, 7,\n",
       "        1, 6, 6, 7, 3, 6, 1, 1, 0, 4, 7, 0, 2, 0, 1, 1, 2, 5, 7, 4, 3, 6, 6,\n",
       "        7, 0, 6, 4, 6, 0, 4, 1]))"
      ]
     },
     "execution_count": 18,
     "metadata": {},
     "output_type": "execute_result"
    }
   ],
   "source": [
    "initial= kmeansplusplus(data,8,2)\n",
    "kmeans(data, initial)"
   ]
  },
  {
   "cell_type": "code",
   "execution_count": null,
   "metadata": {
    "collapsed": true
   },
   "outputs": [],
   "source": []
  }
 ],
 "metadata": {
  "kernelspec": {
   "display_name": "Python 3",
   "language": "python",
   "name": "python3"
  },
  "language_info": {
   "codemirror_mode": {
    "name": "ipython",
    "version": 3
   },
   "file_extension": ".py",
   "mimetype": "text/x-python",
   "name": "python",
   "nbconvert_exporter": "python",
   "pygments_lexer": "ipython3",
   "version": "3.5.1"
  }
 },
 "nbformat": 4,
 "nbformat_minor": 0
}
