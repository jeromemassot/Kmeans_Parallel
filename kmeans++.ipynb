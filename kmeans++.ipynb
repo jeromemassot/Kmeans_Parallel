{
 "cells": [
  {
   "cell_type": "code",
   "execution_count": 139,
   "metadata": {
    "collapsed": true
   },
   "outputs": [],
   "source": [
    "#distance square\n",
    "def dist_sq(a, b, axis = 1):\n",
    "    return np.sum((a-b)**2,axis)\n",
    "#distance square for every point to the centroid\n",
    "def point_sq(data,index):\n",
    "    Dist=np.zeros(data.shape[0])\n",
    "    for i in range(data.shape[0]):\n",
    "        Dist[i]=(dist_sq(data.ix[index],data.ix[i]))\n",
    "    return Dist\n",
    "def dist_prob(Dist):\n",
    "    return (Dist/np.sum(Dist))"
   ]
  },
  {
   "cell_type": "code",
   "execution_count": 164,
   "metadata": {
    "collapsed": false
   },
   "outputs": [],
   "source": [
    "def kmeansplusplus(data, k, d):\n",
    "    centroid=np.zeros([k,d])\n",
    "    index=np.random.choice(data.shape[0],1)\n",
    "    centroid[0]=data.ix[index]\n",
    "    for number in range(k-1):\n",
    "        distance=point_sq(data,index)\n",
    "        prob=dist_prob(distance).tolist()\n",
    "        prob[index]=0\n",
    "        index=np.random.choice(data.shape[0],1,p=prob)\n",
    "        centroid[number+1]=data.ix[index]\n",
    "    return centroid\n",
    "    "
   ]
  },
  {
   "cell_type": "code",
   "execution_count": 189,
   "metadata": {
    "collapsed": true
   },
   "outputs": [],
   "source": [
    "from numpy.core.umath_tests import inner1d\n",
    "def kmeansplusplus(data, k, d):\n",
    "    centroid=np.zeros([k,d])\n",
    "    index=np.random.choice(data.shape[0],1)\n",
    "    centroid[0]=data.ix[index]\n",
    "    for number in range(k-1):\n",
    "        distance=point_sq(data,index)\n",
    "        prob=dist_prob(distance).tolist()\n",
    "        #prob[index]=0\n",
    "        index=np.random.choice(data.shape[0],1,p=prob)\n",
    "        centroid[number+1]=data.ix[index]\n",
    "    return centroid"
   ]
  },
  {
   "cell_type": "code",
   "execution_count": 190,
   "metadata": {
    "collapsed": false
   },
   "outputs": [
    {
     "data": {
      "text/plain": [
       "array([[ 0.07421358,  0.50333841],\n",
       "       [ 0.8751341 ,  0.55550574],\n",
       "       [ 0.07421358,  0.50333841],\n",
       "       [ 0.98623634,  0.96817053],\n",
       "       [ 0.4411158 ,  0.69252865],\n",
       "       [ 0.05952987,  0.18790654],\n",
       "       [ 0.74545635,  0.63921622],\n",
       "       [ 0.09056201,  0.13434502],\n",
       "       [ 0.98623634,  0.96817053],\n",
       "       [ 0.13415468,  0.76814779]])"
      ]
     },
     "execution_count": 190,
     "metadata": {},
     "output_type": "execute_result"
    }
   ],
   "source": [
    "#test \n",
    "data=DataFrame([np.random.random(100),np.random.random(100)]).transpose()\n",
    "kmeansplusplus(data, 10, 2)"
   ]
  },
  {
   "cell_type": "code",
   "execution_count": null,
   "metadata": {
    "collapsed": true
   },
   "outputs": [],
   "source": []
  }
 ],
 "metadata": {
  "kernelspec": {
   "display_name": "Python 3",
   "language": "python",
   "name": "python3"
  },
  "language_info": {
   "codemirror_mode": {
    "name": "ipython",
    "version": 3
   },
   "file_extension": ".py",
   "mimetype": "text/x-python",
   "name": "python",
   "nbconvert_exporter": "python",
   "pygments_lexer": "ipython3",
   "version": "3.5.1"
  }
 },
 "nbformat": 4,
 "nbformat_minor": 0
}
